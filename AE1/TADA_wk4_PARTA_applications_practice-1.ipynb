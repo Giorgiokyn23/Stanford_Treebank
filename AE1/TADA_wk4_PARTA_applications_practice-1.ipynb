{
 "cells": [
  {
   "cell_type": "markdown",
   "metadata": {
    "slideshow": {
     "slide_type": "slide"
    }
   },
   "source": [
    "# LDSCI7236 Theory and Applications of Data Analytics\n",
    "\n",
    "# Week 4 - Data-Driven Applications \n",
    "\n",
    "\n",
    "\n",
    "## PART A: Data scraping online _aka_ _web_ _scraping_ & Data Pre-processing Hands-on Practice\n",
    "\n",
    "\n",
    "_Table of contents_\n",
    "\n",
    "* Data collection via web scraping\n",
    "\n",
    "* Data pre-processing"
   ]
  },
  {
   "cell_type": "markdown",
   "metadata": {
    "slideshow": {
     "slide_type": "slide"
    }
   },
   "source": [
    "### 1.a. Why do we need to anonymise data?\n",
    "\n",
    "* Data Protection Act 2018 and GDPR.\n",
    "* Safeguarding the anonymity of individuals."
   ]
  },
  {
   "cell_type": "markdown",
   "metadata": {
    "slideshow": {
     "slide_type": "slide"
    }
   },
   "source": [
    "### 1.b. What is $k$-anonymity?\n",
    "\n",
    "* A collection of techniques;\n",
    "\n",
    "* Contents ambiguously map information to at least $k$ entities;\n",
    "\n",
    "* Techniques include:\n",
    "\n",
    "  * Hashing\n",
    "  * Generalisation\n",
    "  * Masking\n",
    "  \n",
    "  \n",
    "Also, consider encryption and other data protection mechanisms."
   ]
  },
  {
   "cell_type": "markdown",
   "metadata": {
    "slideshow": {
     "slide_type": "slide"
    }
   },
   "source": [
    "### 1.c. \"Spiders from Mars\"\n",
    "\n",
    "We used to call _spiders_ the programs that crawl the Web to examine and retrieve content data from websites.\n",
    "\n",
    "This process is also know as _Web scaping_."
   ]
  },
  {
   "cell_type": "markdown",
   "metadata": {
    "slideshow": {
     "slide_type": "subslide"
    }
   },
   "source": [
    "#### Advantages\n",
    "\n",
    "* Dataset is not always readily available for processing.\n",
    "* Extract different pieces of information from non-traditional formats, e.g. social media posts.\n"
   ]
  },
  {
   "cell_type": "markdown",
   "metadata": {
    "slideshow": {
     "slide_type": "subslide"
    }
   },
   "source": [
    "#### Disadvantages\n",
    "\n",
    "* It may be illegal to perform web scraping e.g. due to copyright reasons.\n",
    "* It may be forbidden e.g. due to violation of terms of service.\n",
    "* When you do web scraping you often deal with (unintentionally) bad organisation of information i.e. the data you collect from online may suffer from either quality issues or other structure problems."
   ]
  },
  {
   "cell_type": "markdown",
   "metadata": {
    "slideshow": {
     "slide_type": "slide"
    }
   },
   "source": [
    "## 2. Getting Web Data\n",
    "\n",
    "### 2.a. Basics\n",
    "\n",
    "The `urllib` Python library allows you to read data from Web pages.\n",
    "\n",
    "The `urlopen()` function opens a URL (A _Uniform Resource Locator_, or, simply, a Web address). The URL can be a string, or a `Request` object. It returns a file-like object containing the contents of the Web page.\n",
    "\n",
    "The `read()` function reads the entire contents of a page. Let's see both functions in action:"
   ]
  },
  {
   "cell_type": "code",
   "execution_count": 1,
   "metadata": {
    "slideshow": {
     "slide_type": "fragment"
    }
   },
   "outputs": [
    {
     "data": {
      "text/plain": [
       "b'<!DOCTYPE html>\\n<html lang=\"en-GB\">\\n<head>\\n\\n\\t<meta charset=\"UTF-8\">\\n\\t<meta name=\"viewport\" content=\"width=device-width, initial-scale=1\">\\n\\n\\t<link rel=\"profile\" href=\"http://gmpg.org/xfn/11\">\\n\\t<link rel=\"pingback\" href=\"https://www.nulondon.ac.uk/xmlrpc.php\">\\n\\n\\t<!-- Adobe TypeKit -->\\n\\t<script src=\"//use.typekit.net/rdj0dts.js\"></script>\\n\\t<script>try{Typekit.load({async:true});}catch(e){}</script>\\n\\t\\n\\t<link rel=\"apple-touch-icon\" sizes=\"180x180\" href=\"/apple-touch-icon.png\">\\n\\t<link rel=\"icon\" type=\"image/png\" sizes=\"32x32\" href=\"/favicon-32x32.png\">\\n\\t<link rel=\"icon\" type=\"image/png\" sizes=\"16x16\" href=\"/favicon-16x16.png\">\\n\\t<link rel=\"manifest\" href=\"/site.webmanifest\">\\n\\t<link rel=\"mask-icon\" href=\"/safari-pinned-tab.svg\" color=\"#e11837\">\\n\\t<meta name=\"msapplication-TileColor\" content=\"#e11837\">\\n\\t<meta name=\"theme-color\" content=\"#ffffff\">\\n \\n\\t<meta name=\"facebook-domain-verification\" content=\"hmekue18kolnkax0ify1ucgk47tdzf\" />\\n\\t\\n\\t<!-- NUL Google Tag Manager -->\\n\\t<script data-cookieconsent=\\xe2\\x80\\x9dignore\\xe2\\x80\\x9d>(function(w,d,s,l,i){w[l]=w[l]||[];w[l].push({\\'gtm.start\\':\\n\\tnew Date().getTime(),event:\\'gtm.js\\'});var f=d.getElementsByTagName(s)[0],\\n\\tj=d.createElement(s),dl=l!=\\'dataLayer\\'?\\'&l=\\'+l:\\'\\';j.async=true;j.src=\\n\\t\\'https://www.googletagmanager.com/gtm.js?id=\\'+i+dl;f.parentNode.insertBefore(j,f);\\n\\t})(window,document,\\'script\\',\\'dataLayer\\',\\'GTM-MZHBDT\\');</script>\\n\\t<!-- End NUL Google Tag Manager -->\\n\\t\\n\\t<!-- NU Google Tag Manager (two tags) -->\\n\\t<script>(function(w,d,s,l,i){w[l]=w[l]||[];w[l].push({\\'gtm.start\\':\\n\\tnew Date().getTime(),event:\\'gtm.js\\'});var f=d.getElementsByTagName(s)[0],\\n\\tj=d.createElement(s),dl=l!=\\'dataLayer\\'?\\'&l=\\'+l:\\'\\';j.async=true;j.src=\\n\\t\\'https://www.googletagmanager.com/gtm.js?id=\\'+i+dl;f.parentNode.insertBefore(j,f);\\n\\t})(window,document,\\'script\\',\\'dataLayer\\',\\'GTM-WGQLLJ\\');</script>\\n\\t<script>(function(w,d,s,l,i){w[l]=w[l]||[];w[l].push({\\'gtm.start\\':\\n\\tnew Date().getTime(),event:\\'gtm.js\\'});var f=d.getElementsByTagName(s)[0],\\n\\tj=d.createElement(s),dl=l!=\\'dataLayer\\'?\\'&l=\\'+l:\\'\\';j.async=true;j.src=\\n\\t\\'https://www.googletagmanager.com/gtm.js?id=\\'+i+dl;f.parentNode.insertBefore(j,f);\\n\\t})(window,document,\\'script\\',\\'dataLayer\\',\\'GTM-PKNLJQX\\');</script>\\n\\t<!-- End NU Google Tag Manager -->\\n\\t\\n\\t<!-- Other Header Codes -->\\n\\t\\t\\n\\t<!-- iFrame Resize Script -->\\n\\t<script type=\"text/javascript\" src=\"https://cdnjs.cloudflare.com/ajax/libs/iframe-resizer/3.5.10/iframeResizer.min.js\"></script>\\n\\n\\t<!-- WP HEAD -->\\n\\t<meta name=\\'robots\\' content=\\'index, follow, max-image-preview:large, max-snippet:-1, max-video-preview:-1\\' />\\n\\n\\t<!-- This site is optimized with the Yoast SEO Premium plugin v21.7 (Yoast SEO v21.7) - https://yoast.com/wordpress/plugins/seo/ -->\\n\\t<title>Postgraduate - Northeastern University London</title>\\n\\t<meta name=\"description\" content=\"Northeastern University London offers specialist masters degrees in a variety of different subjects\" />\\n\\t<link rel=\"canonical\" href=\"https://www.nulondon.ac.uk/degrees/postgraduate/\" />\\n\\t<meta property=\"og:locale\" content=\"en_GB\" />\\n\\t<meta property=\"og:type\" content=\"article\" />\\n\\t<meta property=\"og:title\" content=\"Postgraduate\" />\\n\\t<meta property=\"og:description\" content=\"Northeastern University London offers specialist masters degrees in a variety of different subjects\" />\\n\\t<meta property=\"og:url\" content=\"https://www.nulondon.ac.uk/degrees/postgraduate/\" />\\n\\t<meta property=\"og:site_name\" content=\"Northeastern University London\" />\\n\\t<meta property=\"article:publisher\" content=\"http://www.facebook/com/nchlondon\" />\\n\\t<meta property=\"article:modified_time\" content=\"2023-09-04T15:56:31+00:00\" />\\n\\t<meta property=\"og:image\" content=\"https://www.nulondon.ac.uk/wp-content/uploads/2023/06/NU-Student-working-overlooking-Tower-Bridge-London-3600x2477-1-scaled.jpg\" />\\n\\t<meta property=\"og:image:width\" content=\"2560\" />\\n\\t<meta property=\"og:image:height\" content=\"1761\" />\\n\\t<meta property=\"og:image:type\" content=\"image/jpeg\" />\\n\\t<meta name=\"twitter:card\" content=\"summary_large_image\" />\\n\\t<meta name=\"twitter:site\" content=\"@nchlondon\" />\\n\\t<script type=\"application/ld+json\" class=\"yoast-schema-graph\">{\"@context\":\"https://schema.org\",\"@graph\":[{\"@type\":\"WebPage\",\"@id\":\"https://www.nulondon.ac.uk/degrees/postgraduate/\",\"url\":\"https://www.nulondon.ac.uk/degrees/postgraduate/\",\"name\":\"Postgraduate - Northeastern University London\",\"isPartOf\":{\"@id\":\"https://www.nulondon.ac.uk/#website\"},\"primaryImageOfPage\":{\"@id\":\"https://www.nulondon.ac.uk/degrees/postgraduate/#primaryimage\"},\"image\":{\"@id\":\"https://www.nulondon.ac.uk/degrees/postgraduate/#primaryimage\"},\"thumbnailUrl\":\"https://www.nulondon.ac.uk/wp-content/uploads/2023/06/NU-Student-working-overlooking-Tower-Bridge-London-3600x2477-1-scaled.jpg\",\"datePublished\":\"2017-08-30T21:17:36+00:00\",\"dateModified\":\"2023-09-04T15:56:31+00:00\",\"description\":\"Northeastern University London offers specialist masters degrees in a variety of different subjects\",\"breadcrumb\":{\"@id\":\"https://www.nulondon.ac.uk/degrees/postgraduate/#breadcrumb\"},\"inLanguage\":\"en-GB\",\"potentialAction\":[{\"@type\":\"ReadAction\",\"target\":[\"https://www.nulondon.ac.uk/degrees/postgraduate/\"]}]},{\"@type\":\"ImageObject\",\"inLanguage\":\"en-GB\",\"@id\":\"https://www.nulondon.ac.uk/degrees/postgraduate/#primaryimage\",\"url\":\"https://www.nulondon.ac.uk/wp-content/uploads/2023/06/NU-Student-working-overlooking-Tower-Bridge-London-3600x2477-1-scaled.jpg\",\"contentUrl\":\"https://www.nulondon.ac.uk/wp-content/uploads/2023/06/NU-Student-working-overlooking-Tower-Bridge-London-3600x2477-1-scaled.jpg\",\"width\":2560,\"height\":1761,\"caption\":\"NU-Student-working-overlooking-Tower-Bridge-London\"},{\"@type\":\"BreadcrumbList\",\"@id\":\"https://www.nulondon.ac.uk/degrees/postgraduate/#breadcrumb\",\"itemListElement\":[{\"@type\":\"ListItem\",\"position\":1,\"name\":\"Home\",\"item\":\"https://www.nulondon.ac.uk/\"},{\"@type\":\"ListItem\",\"position\":2,\"name\":\"Degrees\",\"item\":\"https://www.nulondon.ac.uk/degrees/\"},{\"@type\":\"ListItem\",\"position\":3,\"name\":\"Postgraduate\"}]},{\"@type\":\"WebSite\",\"@id\":\"https://www.nulondon.ac.uk/#website\",\"url\":\"https://www.nulondon.ac.uk/\",\"name\":\"Northeastern University London\",\"description\":\"Northeastern University London\",\"publisher\":{\"@id\":\"https://www.nulondon.ac.uk/#organization\"},\"potentialAction\":[{\"@type\":\"SearchAction\",\"target\":{\"@type\":\"EntryPoint\",\"urlTemplate\":\"https://www.nulondon.ac.uk/?s={search_term_string}\"},\"query-input\":\"required name=search_term_string\"}],\"inLanguage\":\"en-GB\"},{\"@type\":\"Organization\",\"@id\":\"https://www.nulondon.ac.uk/#organization\",\"name\":\"Northeastern University London\",\"url\":\"https://www.nulondon.ac.uk/\",\"logo\":{\"@type\":\"ImageObject\",\"inLanguage\":\"en-GB\",\"@id\":\"https://www.nulondon.ac.uk/#/schema/logo/image/\",\"url\":\"\",\"contentUrl\":\"\",\"caption\":\"Northeastern University London\"},\"image\":{\"@id\":\"https://www.nulondon.ac.uk/#/schema/logo/image/\"},\"sameAs\":[\"http://www.facebook/com/nchlondon\",\"https://twitter.com/nchlondon\"]}]}</script>\\n\\t<!-- / Yoast SEO Premium plugin. -->\\n\\n\\n<link rel=\\'dns-prefetch\\' href=\\'//js.hs-scripts.com\\' />\\n<link rel=\\'dns-prefetch\\' href=\\'//cdnjs.cloudflare.com\\' />\\n<link rel=\\'dns-prefetch\\' href=\\'//html2canvas.hertzen.com\\' />\\n<link rel=\\'dns-prefetch\\' href=\\'//maps.googleapis.com\\' />\\n<link rel=\\'dns-prefetch\\' href=\\'//maxcdn.bootstrapcdn.com\\' />\\n<link rel=\\'stylesheet\\' id=\\'wp-block-library-css\\' href=\\'https://www.nulondon.ac.uk/wp-includes/css/dist/block-library/style.min.css\\' type=\\'text/css\\' media=\\'all\\' />\\n<link rel=\\'stylesheet\\' id=\\'mediaelement-css\\' href=\\'https://www.nulondon.ac.uk/wp-includes/js/mediaelement/mediaelementplayer-legacy.min.css\\' type=\\'text/css\\' media=\\'all\\' />\\n<link rel=\\'stylesheet\\' id=\\'wp-mediaelement-css\\' href=\\'https://www.nulondon.ac.uk/wp-includes/js/mediaelement/wp-mediaelement.min.css\\' type=\\'text/css\\' media=\\'all\\' />\\n<style id=\\'classic-theme-styles-inline-css\\' type=\\'text/css\\'>\\n/*! This file is auto-generated */\\n.wp-block-button__link{color:#fff;background-color:#32373c;border-radius:9999px;box-shadow:none;text-decoration:none;padding:calc(.667em + 2px) calc(1.333em + 2px);font-size:1.125em}.wp-block-file__button{background:#32373c;color:#fff;text-decoration:none}\\n</style>\\n<style id=\\'global-styles-inline-css\\' type=\\'text/css\\'>\\nbody{--wp--preset--color--black: #000000;--wp--preset--color--cyan-bluish-gray: #abb8c3;--wp--preset--color--white: #ffffff;--wp--preset--color--pale-pink: #f78da7;--wp--preset--color--vivid-red: #cf2e2e;--wp--preset--color--luminous-vivid-orange: #ff6900;--wp--preset--color--luminous-vivid-amber: #fcb900;--wp--preset--color--light-green-cyan: #7bdcb5;--wp--preset--color--vivid-green-cyan: #00d084;--wp--preset--color--pale-cyan-blue: #8ed1fc;--wp--preset--color--vivid-cyan-blue: #0693e3;--wp--preset--color--vivid-purple: #9b51e0;--wp--preset--color--nch-blue: #0076bc;--wp--preset--color--nch-green: #b7c122;--wp--preset--gradient--vivid-cyan-blue-to-vivid-purple: linear-gradient(135deg,rgba(6,147,227,1) 0%,rgb(155,81,224) 100%);--wp--preset--gradient--light-green-cyan-to-vivid-green-cyan: linear-gradient(135deg,rgb(122,220,180) 0%,rgb(0,208,130) 100%);--wp--preset--gradient--luminous-vivid-amber-to-luminous-vivid-orange: linear-gradient(135deg,rgba(252,185,0,1) 0%,rgba(255,105,0,1) 100%);--wp--preset--gradient--luminous-vivid-orange-to-vivid-red: linear-gradient(135deg,rgba(255,105,0,1) 0%,rgb(207,46,46) 100%);--wp--preset--gradient--very-light-gray-to-cyan-bluish-gray: linear-gradient(135deg,rgb(238,238,238) 0%,rgb(169,184,195) 100%);--wp--preset--gradient--cool-to-warm-spectrum: linear-gradient(135deg,rgb(74,234,220) 0%,rgb(151,120,209) 20%,rgb(207,42,186) 40%,rgb(238,44,130) 60%,rgb(251,105,98) 80%,rgb(254,248,76) 100%);--wp--preset--gradient--blush-light-purple: linear-gradient(135deg,rgb(255,206,236) 0%,rgb(152,150,240) 100%);--wp--preset--gradient--blush-bordeaux: linear-gradient(135deg,rgb(254,205,165) 0%,rgb(254,45,45) 50%,rgb(107,0,62) 100%);--wp--preset--gradient--luminous-dusk: linear-gradient(135deg,rgb(255,203,112) 0%,rgb(199,81,192) 50%,rgb(65,88,208) 100%);--wp--preset--gradient--pale-ocean: linear-gradient(135deg,rgb(255,245,203) 0%,rgb(182,227,212) 50%,rgb(51,167,181) 100%);--wp--preset--gradient--electric-grass: linear-gradient(135deg,rgb(202,248,128) 0%,rgb(113,206,126) 100%);--wp--preset--gradient--midnight: linear-gradient(135deg,rgb(2,3,129) 0%,rgb(40,116,252) 100%);--wp--preset--font-size--small: 13px;--wp--preset--font-size--medium: 20px;--wp--preset--font-size--large: 36px;--wp--preset--font-size--x-large: 42px;--wp--preset--spacing--20: 0.44rem;--wp--preset--spacing--30: 0.67rem;--wp--preset--spacing--40: 1rem;--wp--preset--spacing--50: 1.5rem;--wp--preset--spacing--60: 2.25rem;--wp--preset--spacing--70: 3.38rem;--wp--preset--spacing--80: 5.06rem;--wp--preset--shadow--natural: 6px 6px 9px rgba(0, 0, 0, 0.2);--wp--preset--shadow--deep: 12px 12px 50px rgba(0, 0, 0, 0.4);--wp--preset--shadow--sharp: 6px 6px 0px rgba(0, 0, 0, 0.2);--wp--preset--shadow--outlined: 6px 6px 0px -3px rgba(255, 255, 255, 1), 6px 6px rgba(0, 0, 0, 1);--wp--preset--shadow--crisp: 6px 6px 0px rgba(0, 0, 0, 1);}:where(.is-layout-flex){gap: 0.5em;}:where(.is-layout-grid){gap: 0.5em;}body .is-layout-flow > .alignleft{float: left;margin-inline-start: 0;margin-inline-end: 2em;}body .is-layout-flow > .alignright{float: right;margin-inline-start: 2em;margin-inline-end: 0;}body .is-layout-flow > .aligncenter{margin-left: auto !important;margin-right: auto !important;}body .is-layout-constrained > .alignleft{float: left;margin-inline-start: 0;margin-inline-end: 2em;}body .is-layout-constrained > .alignright{float: right;margin-inline-start: 2em;margin-inline-end: 0;}body .is-layout-constrained > .aligncenter{margin-left: auto !important;margin-right: auto !important;}body .is-layout-constrained > :where(:not(.alignleft):not(.alignright):not(.alignfull)){max-width: var(--wp--style--global--content-size);margin-left: auto !important;margin-right: auto !important;}body .is-layout-constrained > .alignwide{max-width: var(--wp--style--global--wide-size);}body .is-layout-flex{display: flex;}body .is-layout-flex{flex-wrap: wrap;align-items: center;}body .is-layout-flex > *{margin: 0;}body .is-layout-grid{display: grid;}body .is-layout-grid > *{margin: 0;}:where(.wp-block-columns.is-layout-flex){gap: 2em;}:where(.wp-block-columns.is-layout-grid){gap: 2em;}:where(.wp-block-post-template.is-layout-flex){gap: 1.25em;}:where(.wp-block-post-template.is-layout-grid){gap: 1.25em;}.has-black-color{color: var(--wp--preset--color--black) !important;}.has-cyan-bluish-gray-color{color: var(--wp--preset--color--cyan-bluish-gray) !important;}.has-white-color{color: var(--wp--preset--color--white) !important;}.has-pale-pink-color{color: var(--wp--preset--color--pale-pink) !important;}.has-vivid-red-color{color: var(--wp--preset--color--vivid-red) !important;}.has-luminous-vivid-orange-color{color: var(--wp--preset--color--luminous-vivid-orange) !important;}.has-luminous-vivid-amber-color{color: var(--wp--preset--color--luminous-vivid-amber) !important;}.has-light-green-cyan-color{color: var(--wp--preset--color--light-green-cyan) !important;}.has-vivid-green-cyan-color{color: var(--wp--preset--color--vivid-green-cyan) !important;}.has-pale-cyan-blue-color{color: var(--wp--preset--color--pale-cyan-blue) !important;}.has-vivid-cyan-blue-color{color: var(--wp--preset--color--vivid-cyan-blue) !important;}.has-vivid-purple-color{color: var(--wp--preset--color--vivid-purple) !important;}.has-black-background-color{background-color: var(--wp--preset--color--black) !important;}.has-cyan-bluish-gray-background-color{background-color: var(--wp--preset--color--cyan-bluish-gray) !important;}.has-white-background-color{background-color: var(--wp--preset--color--white) !important;}.has-pale-pink-background-color{background-color: var(--wp--preset--color--pale-pink) !important;}.has-vivid-red-background-color{background-color: var(--wp--preset--color--vivid-red) !important;}.has-luminous-vivid-orange-background-color{background-color: var(--wp--preset--color--luminous-vivid-orange) !important;}.has-luminous-vivid-amber-background-color{background-color: var(--wp--preset--color--luminous-vivid-amber) !important;}.has-light-green-cyan-background-color{background-color: var(--wp--preset--color--light-green-cyan) !important;}.has-vivid-green-cyan-background-color{background-color: var(--wp--preset--color--vivid-green-cyan) !important;}.has-pale-cyan-blue-background-color{background-color: var(--wp--preset--color--pale-cyan-blue) !important;}.has-vivid-cyan-blue-background-color{background-color: var(--wp--preset--color--vivid-cyan-blue) !important;}.has-vivid-purple-background-color{background-color: var(--wp--preset--color--vivid-purple) !important;}.has-black-border-color{border-color: var(--wp--preset--color--black) !important;}.has-cyan-bluish-gray-border-color{border-color: var(--wp--preset--color--cyan-bluish-gray) !important;}.has-white-border-color{border-color: var(--wp--preset--color--white) !important;}.has-pale-pink-border-color{border-color: var(--wp--preset--color--pale-pink) !important;}.has-vivid-red-border-color{border-color: var(--wp--preset--color--vivid-red) !important;}.has-luminous-vivid-orange-border-color{border-color: var(--wp--preset--color--luminous-vivid-orange) !important;}.has-luminous-vivid-amber-border-color{border-color: var(--wp--preset--color--luminous-vivid-amber) !important;}.has-light-green-cyan-border-color{border-color: var(--wp--preset--color--light-green-cyan) !important;}.has-vivid-green-cyan-border-color{border-color: var(--wp--preset--color--vivid-green-cyan) !important;}.has-pale-cyan-blue-border-color{border-color: var(--wp--preset--color--pale-cyan-blue) !important;}.has-vivid-cyan-blue-border-color{border-color: var(--wp--preset--color--vivid-cyan-blue) !important;}.has-vivid-purple-border-color{border-color: var(--wp--preset--color--vivid-purple) !important;}.has-vivid-cyan-blue-to-vivid-purple-gradient-background{background: var(--wp--preset--gradient--vivid-cyan-blue-to-vivid-purple) !important;}.has-light-green-cyan-to-vivid-green-cyan-gradient-background{background: var(--wp--preset--gradient--light-green-cyan-to-vivid-green-cyan) !important;}.has-luminous-vivid-amber-to-luminous-vivid-orange-gradient-background{background: var(--wp--preset--gradient--luminous-vivid-amber-to-luminous-vivid-orange) !important;}.has-luminous-vivid-orange-to-vivid-red-gradient-background{background: var(--wp--preset--gradient--luminous-vivid-orange-to-vivid-red) !important;}.has-very-light-gray-to-cyan-bluish-gray-gradient-background{background: var(--wp--preset--gradient--very-light-gray-to-cyan-bluish-gray) !important;}.has-cool-to-warm-spectrum-gradient-background{background: var(--wp--preset--gradient--cool-to-warm-spectrum) !important;}.has-blush-light-purple-gradient-background{background: var(--wp--preset--gradient--blush-light-purple) !important;}.has-blush-bordeaux-gradient-background{background: var(--wp--preset--gradient--blush-bordeaux) !important;}.has-luminous-dusk-gradient-background{background: var(--wp--preset--gradient--luminous-dusk) !important;}.has-pale-ocean-gradient-background{background: var(--wp--preset--gradient--pale-ocean) !important;}.has-electric-grass-gradient-background{background: var(--wp--preset--gradient--electric-grass) !important;}.has-midnight-gradient-background{background: var(--wp--preset--gradient--midnight) !important;}.has-small-font-size{font-size: var(--wp--preset--font-size--small) !important;}.has-medium-font-size{font-size: var(--wp--preset--font-size--medium) !important;}.has-large-font-size{font-size: var(--wp--preset--font-size--large) !important;}.has-x-large-font-size{font-size: var(--wp--preset--font-size--x-large) !important;}\\n.wp-block-navigation a:where(:not(.wp-element-button)){color: inherit;}\\n:where(.wp-block-post-template.is-layout-flex){gap: 1.25em;}:where(.wp-block-post-template.is-layout-grid){gap: 1.25em;}\\n:where(.wp-block-columns.is-layout-flex){gap: 2em;}:where(.wp-block-columns.is-layout-grid){gap: 2em;}\\n.wp-block-pullquote{font-size: 1.5em;line-height: 1.6;}\\n</style>\\n<link rel=\\'stylesheet\\' id=\\'contact-form-7-css\\' href=\\'https://www.nulondon.ac.uk/wp-content/plugins/contact-form-7/includes/css/styles.css\\' type=\\'text/css\\' media=\\'all\\' />\\n<link rel=\\'stylesheet\\' id=\\'recent-facebook-posts-css-css\\' href=\\'https://www.nulondon.ac.uk/wp-content/plugins/recent-facebook-posts/assets/css/default.min.css\\' type=\\'text/css\\' media=\\'all\\' />\\n<link rel=\\'stylesheet\\' id=\\'cff-css\\' href=\\'https://www.nulondon.ac.uk/wp-content/plugins/custom-facebook-feed/assets/css/cff-style.min.css\\' type=\\'text/css\\' media=\\'all\\' />\\n<link rel=\\'stylesheet\\' id=\\'sb-font-awesome-css\\' href=\\'https://maxcdn.bootstrapcdn.com/font-awesome/4.7.0/css/font-awesome.min.css\\' type=\\'text/css\\' media=\\'all\\' />\\n<link rel=\\'stylesheet\\' id=\\'searchwp-live-search-css\\' href=\\'https://www.nulondon.ac.uk/wp-content/plugins/searchwp-live-ajax-search/assets/styles/style.css\\' type=\\'text/css\\' media=\\'all\\' />\\n<link rel=\\'stylesheet\\' id=\\'main-styles-css\\' href=\\'https://www.nulondon.ac.uk/wp-content/themes/new-college-of-the-humanities/style.css\\' type=\\'text/css\\' media=\\'all\\' />\\n<script type=\"text/javascript\" src=\"https://www.nulondon.ac.uk/wp-content/themes/new-college-of-the-humanities/build/js/font-awesome-config.min.js\" id=\"font-awesome-config-js-js\"></script>\\n<script type=\"text/javascript\" src=\"https://cdnjs.cloudflare.com/ajax/libs/font-awesome/5.15.3/js/all.min.js\" id=\"font-awesome-js\"></script>\\n<link rel=\"https://api.w.org/\" href=\"https://www.nulondon.ac.uk/wp-json/\" /><link rel=\"alternate\" type=\"application/json+oembed\" href=\"https://www.nulondon.ac.uk/wp-json/oembed/1.0/embed?url=https%3A%2F%2Fwww.nulondon.ac.uk%2Fdegrees%2Fpostgraduate%2F\" />\\n<link rel=\"alternate\" type=\"text/xml+oembed\" href=\"https://www.nulondon.ac.uk/wp-json/oembed/1.0/embed?url=https%3A%2F%2Fwww.nulondon.ac.uk%2Fdegrees%2Fpostgraduate%2F&#038;format=xml\" />\\n\\t\\t\\t<!-- DO NOT COPY THIS SNIPPET! Start of Page Analytics Tracking for HubSpot WordPress plugin v10.2.17-->\\n\\t\\t\\t<script type=\"text/javascript\" class=\"hsq-set-content-id\" data-content-id=\"blog-post\">\\n\\t\\t\\t\\tvar _hsq = _hsq || [];\\n\\t\\t\\t\\t_hsq.push([\"setContentType\", \"blog-post\"]);\\n\\t\\t\\t</script>\\n\\t\\t\\t<!-- DO NOT COPY THIS SNIPPET! End of Page Analytics Tracking for HubSpot WordPress plugin -->\\n\\t\\t\\t\\t\\t<script>\\r\\n\\t\\t\\tdocument.documentElement.className = document.documentElement.className.replace( \\'no-js\\', \\'js\\' );\\r\\n\\t\\t</script>\\r\\n\\t\\t\\t\\t<style>\\r\\n\\t\\t\\t.no-js img.lazyload { display: none; }\\r\\n\\t\\t\\tfigure.wp-block-image img.lazyloading { min-width: 150px; }\\r\\n\\t\\t\\t\\t\\t\\t\\t.lazyload, .lazyloading { opacity: 0; }\\r\\n\\t\\t\\t\\t.lazyloaded {\\r\\n\\t\\t\\t\\t\\topacity: 1;\\r\\n\\t\\t\\t\\t\\ttransition: opacity 400ms;\\r\\n\\t\\t\\t\\t\\ttransition-delay: 0ms;\\r\\n\\t\\t\\t\\t}\\r\\n\\t\\t\\t\\t\\t</style>\\r\\n\\t\\t\\n</head>\\n\\n\\n\\t\\n\\t\\t<body class=\"degrees-template degrees-template-page-degree-type-postgraduate degrees-template-page-degree-type-postgraduate-php single single-degrees postid-70104\" data-header-ctas=\"visible\">\\n\\n\\t\\n\\n\\t<!-- NUL Google Tag Manager (noscript) -->\\n\\t<noscript><iframe  height=\"0\" width=\"0\" style=\"display:none;visibility:hidden\" data-src=\"https://www.googletagmanager.com/ns.html?id=GTM-MZHBDT\" class=\"lazyload\" src=\"data:image/gif;base64,R0lGODlhAQABAAAAACH5BAEKAAEALAAAAAABAAEAAAICTAEAOw==\"></iframe></noscript>\\n\\t<!-- End NUL Google Tag Manager (noscript) -->\\n\\t\\n\\t<!-- NU Google Tag Manager (noscript) (two tags) -->\\n\\t<noscript><iframe  height=\"0\" width=\"0\" style=\"display:none;visibility:hidden\" data-src=\"https://www.googletagmanager.com/ns.html?id=GTM-WGQLLJ\" class=\"lazyload\" src=\"data:image/gif;base64,R0lGODlhAQABAAAAACH5BAEKAAEALAAAAAABAAEAAAICTAEAOw==\"></iframe></noscript>\\n\\t<noscript><iframe  height=\"0\" width=\"0\" style=\"display:none;visibility:hidden\" data-src=\"https://www.googletagmanager.com/ns.html?id=GTM-PKNLJQX\" class=\"lazyload\" src=\"data:image/gif;base64,R0lGODlhAQABAAAAACH5BAEKAAEALAAAAAABAAEAAAICTAEAOw==\"></iframe></noscript>\\n\\t<!-- End NU Google Tag Manager (noscript) -->\\n\\n\\t\\n\\t\\n\\t<div id=\"page\" class=\"hfeed site\">\\n\\n\\t\\t\\n\\t\\t\\t<div id=\"header-ctas\" class=\"header-ctas-nch-blue-2\">\\n\\n\\t\\t\\t\\t<div class=\"container\">\\n\\n\\t\\t\\t\\t\\t<div class=\"row\">\\n\\n\\t\\t\\t\\t\\t\\t<div class=\"col-12\">\\n\\n\\t\\t\\t\\t\\t\\t\\t<p><strong>Click here to start your application.</strong>  <a href=\"https://www.nulondon.ac.uk/application/\">Apply now</a></p>\\n\\n\\t\\t\\t\\t\\t\\t</div>\\n\\n\\t\\t\\t\\t\\t</div><!-- .row -->\\n\\n\\t\\t\\t\\t</div><!-- .container -->\\n\\n\\t\\t\\t</div><!-- #header-ctas -->\\n\\n\\t\\t\\n\\n\\t\\t\\n\\t\\t\\n\\t\\t\\t<nav id=\"misc-nav\">\\n\\n\\t\\t\\t\\t<div class=\\'container-fluid\\'>\\n\\n\\t\\t\\t\\t    <div class=\\'row\\'>\\n\\n\\t\\t\\t\\t\\t\\t<div class=\\'col-12 col-sm-6\\'>\\n\\n\\t\\t\\t\\t\\t\\t    <span class=\"phone-number\"><i class=\"fa fa-phone\"></i> <a href=\"tel:+442076374550\">+44 (0)20 7637 4550</a></span>\\n\\n\\t\\t\\t\\t\\t\\t</div><!-- .col-12 -->\\n\\n\\t\\t\\t\\t        <div class=\\'col-12 col-sm-6\\'>\\n\\n\\t\\t\\t\\t\\t\\t\\t<nav class=\"misc-nav\">\\n\\n\\t\\t\\t\\t\\t\\t\\t\\t\\n\\t\\t\\t\\t\\t\\t\\t\\t\\t\\n\\t\\t\\t\\t\\t\\t\\t\\t\\t\\t\\t\\t\\t\\t\\t\\t\\t\\t\\t<a href=\"https://www.nulondon.ac.uk/nch-student-hub/\" target=\"\">Current students</a>\\n\\t\\t\\t\\t\\t\\t\\t\\t\\t\\n\\t\\t\\t\\t\\t\\t\\t\\t\\n\\t\\t\\t\\t\\t\\t\\t\\t\\t\\n\\t\\t\\t\\t\\t\\t\\t\\t\\t\\t\\t\\t\\t\\t\\t\\t\\t\\t\\t<a href=\"https://www.nulondon.ac.uk/offer-holders/\" target=\"\">Offer holders</a>\\n\\t\\t\\t\\t\\t\\t\\t\\t\\t\\n\\t\\t\\t\\t\\t\\t\\t\\t\\n\\t\\t\\t\\t\\t\\t\\t\\t\\t\\n\\t\\t\\t\\t\\t\\t\\t\\t\\t\\t\\t\\t\\t\\t\\t\\t\\t\\t\\t<a href=\"https://nulondon.peoplehr.net/\" target=\"\">Staff Only</a>\\n\\t\\t\\t\\t\\t\\t\\t\\t\\t\\n\\t\\t\\t\\t\\t\\t\\t\\t\\n\\t\\t\\t\\t\\t\\t\\t</nav><!-- .misc-nav -->\\n\\n\\t\\t\\t\\t\\t\\t</div><!-- .col-12 -->\\n\\n\\t\\t\\t\\t   </div><!-- .row -->\\n\\n\\t\\t\\t   </div><!-- .container-fluid -->\\n\\n\\t\\t   </nav><!-- #misc-nav -->\\n\\n\\t\\t\\n\\n\\n\\n\\t\\t<nav id=\"main-nav\" class=\"navbar navbar-default navbar-expand-lg\">\\n\\n\\t\\t\\t<div class=\"container-fluid\">\\n\\n\\t\\t\\t\\t<!-- Brand and toggle get grouped for better mobile display -->\\n\\t\\t\\t\\t<div class=\"navbar-header\">\\n\\n\\t\\t\\t\\t\\t<button type=\"button\" class=\"navbar-toggle collapsed\" data-toggle=\"collapse\" data-target=\"#nch-main-nav-collapse\" aria-expanded=\"false\">\\n\\t\\t\\t\\t\\t\\t<i class=\"icon\">\\n\\t\\t\\t\\t\\t\\t\\t<span></span>\\n\\t\\t\\t\\t\\t\\t\\t<span></span>\\n\\t\\t\\t\\t\\t\\t\\t<span></span>\\n\\t\\t\\t\\t\\t\\t\\t<span></span>\\n\\t\\t\\t\\t\\t\\t</i>\\n\\t\\t\\t\\t\\t</button>\\n\\n\\t\\t\\t\\t\\t<a class=\"navbar-brand\" href=\"/\">\\n\\t\\t\\t\\t\\t\\t<img  alt=\"Northeastern University London\" data-src=\"https://www.nulondon.ac.uk/wp-content/themes/new-college-of-the-humanities/assets/images/logo-northeastern-uni-london-nch.svg\" class=\"lazyload\" src=\"data:image/gif;base64,R0lGODlhAQABAAAAACH5BAEKAAEALAAAAAABAAEAAAICTAEAOw==\"><noscript><img  alt=\"Northeastern University London\" data-src=\"https://www.nulondon.ac.uk/wp-content/themes/new-college-of-the-humanities/assets/images/logo-northeastern-uni-london-nch.svg\" class=\"lazyload\" src=\"data:image/gif;base64,R0lGODlhAQABAAAAACH5BAEKAAEALAAAAAABAAEAAAICTAEAOw==\"><noscript><img src=\"https://www.nulondon.ac.uk/wp-content/themes/new-college-of-the-humanities/assets/images/logo-northeastern-uni-london-nch.svg\" alt=\"Northeastern University London\"></noscript></noscript>\\n\\t\\t\\t\\t\\t</a>\\n\\n\\t\\t\\t\\t</div>\\n\\n\\t\\t\\t\\t<!-- Collect the nav links, forms, and other content for toggling -->\\n\\t\\t\\t\\t<div class=\"collapse navbar-collapse\" id=\"nch-main-nav-collapse\">\\n\\n\\t\\t\\t\\t\\t\\n\\t\\t\\t\\t\\t\\t<ul class=\"nav navbar-nav mr-auto\">\\n\\n\\t\\t\\t\\t\\t\\t\\t\\n\\t\\t\\t\\t\\t\\t\\t\\t<li class=\"nav-item dropdown\">\\n\\n\\t\\t\\t\\t\\t\\t\\t\\t\\t<a class=\"nav-link dropdown-toggle is-sub-nav\" href=\"#\" id=\"navbarDropdown\" role=\"button\" data-toggle=\"dropdown\" aria-haspopup=\"true\" aria-expanded=\"false\">Study</a>\\n\\n\\t\\t\\t\\t\\t\\t\\t\\t\\t<div class=\"dropdown-menu\" aria-labelledby=\"navbarDropdown\">\\n\\n\\t\\t\\t\\t\\t\\t\\t\\t\\t\\t<div class=\\'container\\'>\\n\\n\\t\\t\\t\\t\\t\\t\\t\\t\\t\\t    <div class=\\'row\\'>\\n\\n\\t\\t\\t\\t\\t\\t\\t\\t\\t\\t        <div class=\\'col-12 col-lg-10 offset-lg-1\\'>\\n\\n\\t\\t\\t\\t\\t\\t\\t\\t\\t\\t            <div class=\\'row\\'>\\n\\n\\t\\t\\t\\t\\t\\t\\t\\t\\t\\t\\t\\t\\t\\t\\n\\t\\t\\t\\t\\t\\t\\t\\t\\t\\t\\t                <div class=\\'col-12 col-md-8 links\\'>\\n\\n\\t\\t\\t\\t\\t\\t\\t\\t\\t\\t\\t\\t\\t\\t\\t\\t\\n\\t\\t\\t\\t\\t\\t\\t\\t\\t\\t\\t\\t\\t\\t\\t\\t\\t\\t\\t\\t\\t\\t\\t\\t\\t\\t\\t\\t\\t\\t\\t\\t\\t\\t\\n\\t\\t\\t\\t\\t\\t\\t\\t\\t\\t\\t                    \\t\\t<a href=\"https://www.nulondon.ac.uk/degrees-2023/\" target=\"\" class=\"menu-link\">Undergraduate Degrees</a>\\n\\n\\t\\t\\t\\t\\t\\t\\t\\t\\t\\t\\t\\t\\t\\t\\t\\t\\t\\n\\t\\t\\t\\t\\t\\t\\t\\t\\t\\t\\t\\t\\t\\t\\t\\t\\t\\n\\t\\t\\t\\t\\t\\t\\t\\t\\t\\t\\t\\t\\t\\t\\t\\t\\n\\t\\t\\t\\t\\t\\t\\t\\t\\t\\t\\t\\t\\t\\t\\t\\t\\t\\t\\t\\t\\t\\t\\t\\t\\t\\t\\t\\t\\t\\t\\t\\t\\t\\t\\n\\t\\t\\t\\t\\t\\t\\t\\t\\t\\t\\t                    \\t\\t<a href=\"https://www.nulondon.ac.uk/degrees/postgraduate/\" target=\"\" class=\"menu-link\">Postgraduate Degrees</a>\\n\\n\\t\\t\\t\\t\\t\\t\\t\\t\\t\\t\\t\\t\\t\\t\\t\\t\\t\\n\\t\\t\\t\\t\\t\\t\\t\\t\\t\\t\\t\\t\\t\\t\\t\\t\\t\\n\\t\\t\\t\\t\\t\\t\\t\\t\\t\\t\\t\\t\\t\\t\\t\\t\\n\\t\\t\\t\\t\\t\\t\\t\\t\\t\\t\\t\\t\\t\\t\\t\\t\\t\\t\\t\\t\\t\\t\\t\\t\\t\\t\\t\\t\\t\\t\\t\\t\\t\\t\\n\\t\\t\\t\\t\\t\\t\\t\\t\\t\\t\\t                    \\t\\t<a href=\"https://www.nulondon.ac.uk/study/apprenticeships/\" target=\"\" class=\"menu-link\">Workforce Development</a>\\n\\n\\t\\t\\t\\t\\t\\t\\t\\t\\t\\t\\t\\t\\t\\t\\t\\t\\t\\n\\t\\t\\t\\t\\t\\t\\t\\t\\t\\t\\t\\t\\t\\t\\t\\t\\t\\n\\t\\t\\t\\t\\t\\t\\t\\t\\t\\t\\t\\t\\t\\t\\t\\t\\n\\t\\t\\t\\t\\t\\t\\t\\t\\t\\t\\t\\t\\t\\t\\t\\t\\t\\t\\t\\t\\t\\t\\t\\t\\t\\t\\t\\t\\t\\t\\t\\t\\t\\t\\n\\t\\t\\t\\t\\t\\t\\t\\t\\t\\t\\t                    \\t\\t<a href=\"https://www.nulondon.ac.uk/pre-university-programmes\" target=\"\" class=\"menu-link\">Pre-University Programmes</a>\\n\\n\\t\\t\\t\\t\\t\\t\\t\\t\\t\\t\\t\\t\\t\\t\\t\\t\\t\\n\\t\\t\\t\\t\\t\\t\\t\\t\\t\\t\\t\\t\\t\\t\\t\\t\\t\\n\\t\\t\\t\\t\\t\\t\\t\\t\\t\\t\\t\\t\\t\\t\\t\\t\\n\\t\\t\\t\\t\\t\\t\\t\\t\\t\\t\\t\\t\\t\\t\\t\\t\\t\\t\\t\\t\\t\\t\\t\\t\\t\\t\\t\\t\\t\\t\\t\\t\\t\\t\\n\\t\\t\\t\\t\\t\\t\\t\\t\\t\\t\\t                    \\t\\t<a href=\"https://www.nulondon.ac.uk/study/nch-admissions/\" target=\"\" class=\"menu-link\">Admissions</a>\\n\\n\\t\\t\\t\\t\\t\\t\\t\\t\\t\\t\\t\\t\\t\\t\\t\\t\\t\\n\\t\\t\\t\\t\\t\\t\\t\\t\\t\\t\\t\\t\\t\\t\\t\\t\\t\\n\\t\\t\\t\\t\\t\\t\\t\\t\\t\\t\\t\\t\\t\\t\\t\\t\\n\\t\\t\\t\\t\\t\\t\\t\\t\\t\\t\\t\\t\\t\\t\\t\\t\\t\\t\\t\\t\\t\\t\\t\\t\\t\\t\\t\\t\\t\\t\\t\\t\\t\\t\\n\\t\\t\\t\\t\\t\\t\\t\\t\\t\\t\\t                    \\t\\t<a href=\"https://www.nulondon.ac.uk/study/international-students-at-nch/visa/\" target=\"\" class=\"menu-link\">Visas</a>\\n\\n\\t\\t\\t\\t\\t\\t\\t\\t\\t\\t\\t\\t\\t\\t\\t\\t\\t\\n\\t\\t\\t\\t\\t\\t\\t\\t\\t\\t\\t\\t\\t\\t\\t\\t\\t\\n\\t\\t\\t\\t\\t\\t\\t\\t\\t\\t\\t\\t\\t\\t\\t\\t\\n\\t\\t\\t\\t\\t\\t\\t\\t\\t\\t\\t\\t\\t\\t\\t\\t\\t\\t\\t\\t\\t\\t\\t\\t\\t\\t\\t\\t\\t\\t\\t\\t\\t\\t\\n\\t\\t\\t\\t\\t\\t\\t\\t\\t\\t\\t                    \\t\\t<a href=\"https://www.nulondon.ac.uk/entry-requirements-country/\" target=\"\" class=\"menu-link\">Entry requirements</a>\\n\\n\\t\\t\\t\\t\\t\\t\\t\\t\\t\\t\\t\\t\\t\\t\\t\\t\\t\\n\\t\\t\\t\\t\\t\\t\\t\\t\\t\\t\\t\\t\\t\\t\\t\\t\\t\\n\\t\\t\\t\\t\\t\\t\\t\\t\\t\\t\\t\\t\\t\\t\\t\\t\\n\\t\\t\\t\\t\\t\\t\\t\\t\\t\\t\\t\\t\\t\\t\\t\\t\\t\\t\\t\\t\\t\\t\\t\\t\\t\\t\\t\\t\\t\\t\\t\\t\\t\\t\\n\\t\\t\\t\\t\\t\\t\\t\\t\\t\\t\\t                    \\t\\t<a href=\"https://www.nulondon.ac.uk/fees-and-funding/\" target=\"\" class=\"menu-link\">Fees & Funding</a>\\n\\n\\t\\t\\t\\t\\t\\t\\t\\t\\t\\t\\t\\t\\t\\t\\t\\t\\t\\n\\t\\t\\t\\t\\t\\t\\t\\t\\t\\t\\t\\t\\t\\t\\t\\t\\t\\n\\t\\t\\t\\t\\t\\t\\t\\t\\t\\t\\t\\t\\t\\t\\t\\t\\n\\t\\t\\t\\t\\t\\t\\t\\t\\t\\t\\t                </div><!-- .col-12 -->\\n\\n\\t\\t\\t\\t\\t\\t\\t\\t\\t\\t\\t\\t\\t\\t\\n\\t\\t\\t\\t\\t\\t\\t\\t\\t\\t\\t\\t\\t\\t\\n\\t\\t\\t\\t\\t\\t\\t\\t\\t\\t\\t\\t\\t\\t\\t<div class=\\'col-12 col-md-4\\'>\\n\\n\\t\\t\\t\\t\\t\\t\\t\\t\\t\\t\\t\\t\\t\\t\\t\\t\\n\\t\\t\\t\\t\\t\\t\\t\\t\\t\\t\\t\\t\\t\\t\\t\\t\\t\\t\\t\\t\\t\\t\\t\\t\\t\\t\\t\\t\\t\\t\\t\\t\\t\\t\\n\\t\\t\\t\\t\\t\\t\\t\\t\\t\\t\\t\\t                    \\t<a href=\"https://www.nulondon.ac.uk/application/\" target=\"_blank\" class=\"btn btn-primary btn-block\">Start your application</a>\\n\\n\\t\\t\\t\\t\\t\\t\\t\\t\\t\\t\\t\\t\\t\\t\\t\\t\\t\\n\\t\\t\\t\\t\\t\\t\\t\\t\\t\\t\\t\\t\\t\\t\\t\\t\\t\\n\\t\\t\\t\\t\\t\\t\\t\\t\\t\\t\\t\\t\\t\\t\\t\\t\\n\\t\\t\\t\\t\\t\\t\\t\\t\\t\\t\\t\\t\\t\\t\\t\\t\\t\\t\\t\\t\\t\\t\\t\\t\\t\\t\\t\\t\\t\\t\\t\\t\\t\\t\\n\\t\\t\\t\\t\\t\\t\\t\\t\\t\\t\\t\\t                    \\t<a href=\"https://www.nulondon.ac.uk/prospectus/\" target=\"_blank\" class=\"btn btn-default btn-block\">Download a prospectus</a>\\n\\n\\t\\t\\t\\t\\t\\t\\t\\t\\t\\t\\t\\t\\t\\t\\t\\t\\t\\n\\t\\t\\t\\t\\t\\t\\t\\t\\t\\t\\t\\t\\t\\t\\t\\t\\t\\n\\t\\t\\t\\t\\t\\t\\t\\t\\t\\t\\t\\t\\t\\t\\t\\t\\n\\t\\t\\t\\t\\t\\t\\t\\t\\t\\t\\t\\t\\t\\t\\t\\t\\t\\t\\t\\t\\t\\t\\t\\t\\t\\t\\t\\t\\t\\t\\t\\t\\t\\t\\n\\t\\t\\t\\t\\t\\t\\t\\t\\t\\t\\t\\t                    \\t<a href=\"https://www.nulondon.ac.uk/study/visit-us/\" target=\"\" class=\"btn btn-default btn-block\">Visit us</a>\\n\\n\\t\\t\\t\\t\\t\\t\\t\\t\\t\\t\\t\\t\\t\\t\\t\\t\\t\\n\\t\\t\\t\\t\\t\\t\\t\\t\\t\\t\\t\\t\\t\\t\\t\\t\\t\\n\\t\\t\\t\\t\\t\\t\\t\\t\\t\\t\\t\\t\\t\\t\\t\\t\\n\\t\\t\\t\\t\\t\\t\\t\\t\\t\\t\\t                </div><!-- .col-12 -->\\n\\n\\t\\t\\t\\t\\t\\t\\t\\t\\t\\t\\t\\t\\t\\t\\n\\t\\t\\t\\t\\t\\t\\t\\t\\t\\t            </div><!-- .row -->\\n\\n\\t\\t\\t\\t\\t\\t\\t\\t\\t\\t        </div><!-- .col -->\\n\\n\\t\\t\\t\\t\\t\\t\\t\\t\\t\\t    </div><!-- .row -->\\n\\n\\t\\t\\t\\t\\t\\t\\t\\t\\t\\t</div><!-- .container -->\\n\\n\\t\\t\\t\\t\\t\\t\\t\\t\\t</div><!-- .dropdown-menu -->\\n\\n\\t\\t\\t\\t\\t\\t\\t\\t</li><!-- .dropdown -->\\n\\n\\t\\t\\t\\t\\t\\t\\t\\t\\n\\t\\t\\t\\t\\t\\t\\t\\n\\t\\t\\t\\t\\t\\t\\t\\t<li class=\"nav-item dropdown\">\\n\\n\\t\\t\\t\\t\\t\\t\\t\\t\\t<a class=\"nav-link dropdown-toggle \" href=\"#\" id=\"navbarDropdown\" role=\"button\" data-toggle=\"dropdown\" aria-haspopup=\"true\" aria-expanded=\"false\">Faculties</a>\\n\\n\\t\\t\\t\\t\\t\\t\\t\\t\\t<div class=\"dropdown-menu\" aria-labelledby=\"navbarDropdown\">\\n\\n\\t\\t\\t\\t\\t\\t\\t\\t\\t\\t<div class=\\'container\\'>\\n\\n\\t\\t\\t\\t\\t\\t\\t\\t\\t\\t    <div class=\\'row\\'>\\n\\n\\t\\t\\t\\t\\t\\t\\t\\t\\t\\t        <div class=\\'col-12 col-lg-10 offset-lg-1\\'>\\n\\n\\t\\t\\t\\t\\t\\t\\t\\t\\t\\t            <div class=\\'row\\'>\\n\\n\\t\\t\\t\\t\\t\\t\\t\\t\\t\\t\\t\\t\\t\\t\\n\\t\\t\\t\\t\\t\\t\\t\\t\\t\\t\\t                <div class=\\'col-12 col-md-8 links\\'>\\n\\n\\t\\t\\t\\t\\t\\t\\t\\t\\t\\t\\t\\t\\t\\t\\t\\t\\n\\t\\t\\t\\t\\t\\t\\t\\t\\t\\t\\t\\t\\t\\t\\t\\t\\t\\t\\t\\t\\t\\t\\t\\t\\t\\t\\t\\t\\t\\t\\t\\t\\t\\t\\n\\t\\t\\t\\t\\t\\t\\t\\t\\t\\t\\t                    \\t\\t<a href=\"https://www.nulondon.ac.uk/cmens-faculty/\" target=\"\" class=\"menu-link\">Computer & Data Science</a>\\n\\n\\t\\t\\t\\t\\t\\t\\t\\t\\t\\t\\t\\t\\t\\t\\t\\t\\t\\n\\t\\t\\t\\t\\t\\t\\t\\t\\t\\t\\t\\t\\t\\t\\t\\t\\t\\n\\t\\t\\t\\t\\t\\t\\t\\t\\t\\t\\t\\t\\t\\t\\t\\t\\n\\t\\t\\t\\t\\t\\t\\t\\t\\t\\t\\t\\t\\t\\t\\t\\t\\t\\t\\t\\t\\t\\t\\t\\t\\t\\t\\t\\t\\t\\t\\t\\t\\t\\t\\n\\t\\t\\t\\t\\t\\t\\t\\t\\t\\t\\t                    \\t\\t<a href=\"https://www.nulondon.ac.uk/faculties/economics-faculty/\" target=\"\" class=\"menu-link\">Economics</a>\\n\\n\\t\\t\\t\\t\\t\\t\\t\\t\\t\\t\\t\\t\\t\\t\\t\\t\\t\\n\\t\\t\\t\\t\\t\\t\\t\\t\\t\\t\\t\\t\\t\\t\\t\\t\\t\\n\\t\\t\\t\\t\\t\\t\\t\\t\\t\\t\\t\\t\\t\\t\\t\\t\\n\\t\\t\\t\\t\\t\\t\\t\\t\\t\\t\\t\\t\\t\\t\\t\\t\\t\\t\\t\\t\\t\\t\\t\\t\\t\\t\\t\\t\\t\\t\\t\\t\\t\\t\\n\\t\\t\\t\\t\\t\\t\\t\\t\\t\\t\\t                    \\t\\t<a href=\"https://www.nulondon.ac.uk/faculties/english-faculty-2/\" target=\"\" class=\"menu-link\">English</a>\\n\\n\\t\\t\\t\\t\\t\\t\\t\\t\\t\\t\\t\\t\\t\\t\\t\\t\\t\\n\\t\\t\\t\\t\\t\\t\\t\\t\\t\\t\\t\\t\\t\\t\\t\\t\\t\\n\\t\\t\\t\\t\\t\\t\\t\\t\\t\\t\\t\\t\\t\\t\\t\\t\\n\\t\\t\\t\\t\\t\\t\\t\\t\\t\\t\\t\\t\\t\\t\\t\\t\\t\\t\\t\\t\\t\\t\\t\\t\\t\\t\\t\\t\\t\\t\\t\\t\\t\\t\\n\\t\\t\\t\\t\\t\\t\\t\\t\\t\\t\\t                    \\t\\t<a href=\"https://www.nulondon.ac.uk/faculties/history-faculty/\" target=\"\" class=\"menu-link\">History faculty</a>\\n\\n\\t\\t\\t\\t\\t\\t\\t\\t\\t\\t\\t\\t\\t\\t\\t\\t\\t\\n\\t\\t\\t\\t\\t\\t\\t\\t\\t\\t\\t\\t\\t\\t\\t\\t\\t\\n\\t\\t\\t\\t\\t\\t\\t\\t\\t\\t\\t\\t\\t\\t\\t\\t\\n\\t\\t\\t\\t\\t\\t\\t\\t\\t\\t\\t\\t\\t\\t\\t\\t\\t\\t\\t\\t\\t\\t\\t\\t\\t\\t\\t\\t\\t\\t\\t\\t\\t\\t\\n\\t\\t\\t\\t\\t\\t\\t\\t\\t\\t\\t                    \\t\\t<a href=\"https://www.nulondon.ac.uk/faculties/law-faculty/\" target=\"\" class=\"menu-link\">Law </a>\\n\\n\\t\\t\\t\\t\\t\\t\\t\\t\\t\\t\\t\\t\\t\\t\\t\\t\\t\\n\\t\\t\\t\\t\\t\\t\\t\\t\\t\\t\\t\\t\\t\\t\\t\\t\\t\\n\\t\\t\\t\\t\\t\\t\\t\\t\\t\\t\\t\\t\\t\\t\\t\\t\\n\\t\\t\\t\\t\\t\\t\\t\\t\\t\\t\\t\\t\\t\\t\\t\\t\\t\\t\\t\\t\\t\\t\\t\\t\\t\\t\\t\\t\\t\\t\\t\\t\\t\\t\\n\\t\\t\\t\\t\\t\\t\\t\\t\\t\\t\\t                    \\t\\t<a href=\"https://www.nulondon.ac.uk/faculties/philosophy-faculty/\" target=\"\" class=\"menu-link\">Philosophy </a>\\n\\n\\t\\t\\t\\t\\t\\t\\t\\t\\t\\t\\t\\t\\t\\t\\t\\t\\t\\n\\t\\t\\t\\t\\t\\t\\t\\t\\t\\t\\t\\t\\t\\t\\t\\t\\t\\n\\t\\t\\t\\t\\t\\t\\t\\t\\t\\t\\t\\t\\t\\t\\t\\t\\n\\t\\t\\t\\t\\t\\t\\t\\t\\t\\t\\t\\t\\t\\t\\t\\t\\t\\t\\t\\t\\t\\t\\t\\t\\t\\t\\t\\t\\t\\t\\t\\t\\t\\t\\n\\t\\t\\t\\t\\t\\t\\t\\t\\t\\t\\t                    \\t\\t<a href=\"https://www.nulondon.ac.uk/faculties/politics-ir-faculty/\" target=\"\" class=\"menu-link\">Politics & IR </a>\\n\\n\\t\\t\\t\\t\\t\\t\\t\\t\\t\\t\\t\\t\\t\\t\\t\\t\\t\\n\\t\\t\\t\\t\\t\\t\\t\\t\\t\\t\\t\\t\\t\\t\\t\\t\\t\\n\\t\\t\\t\\t\\t\\t\\t\\t\\t\\t\\t\\t\\t\\t\\t\\t\\n\\t\\t\\t\\t\\t\\t\\t\\t\\t\\t\\t\\t\\t\\t\\t\\t\\t\\t\\t\\t\\t\\t\\t\\t\\t\\t\\t\\t\\t\\t\\t\\t\\t\\t\\n\\t\\t\\t\\t\\t\\t\\t\\t\\t\\t\\t                    \\t\\t<a href=\"https://www.nulondon.ac.uk/faculties/research-at-nch/\" target=\"\" class=\"menu-link\">Research and External Recognition</a>\\n\\n\\t\\t\\t\\t\\t\\t\\t\\t\\t\\t\\t\\t\\t\\t\\t\\t\\t\\n\\t\\t\\t\\t\\t\\t\\t\\t\\t\\t\\t\\t\\t\\t\\t\\t\\t\\n\\t\\t\\t\\t\\t\\t\\t\\t\\t\\t\\t\\t\\t\\t\\t\\t\\n\\t\\t\\t\\t\\t\\t\\t\\t\\t\\t\\t\\t\\t\\t\\t\\t\\t\\t\\t\\t\\t\\t\\t\\t\\t\\t\\t\\t\\t\\t\\t\\t\\t\\t\\n\\t\\t\\t\\t\\t\\t\\t\\t\\t\\t\\t                    \\t\\t<a href=\"https://www.nulondon.ac.uk/academic-management-structure/\" target=\"\" class=\"menu-link\">Academic Management Structure</a>\\n\\n\\t\\t\\t\\t\\t\\t\\t\\t\\t\\t\\t\\t\\t\\t\\t\\t\\t\\n\\t\\t\\t\\t\\t\\t\\t\\t\\t\\t\\t\\t\\t\\t\\t\\t\\t\\n\\t\\t\\t\\t\\t\\t\\t\\t\\t\\t\\t\\t\\t\\t\\t\\t\\n\\t\\t\\t\\t\\t\\t\\t\\t\\t\\t\\t\\t\\t\\t\\t\\t\\t\\t\\t\\t\\t\\t\\t\\t\\t\\t\\t\\t\\t\\t\\t\\t\\t\\t\\n\\t\\t\\t\\t\\t\\t\\t\\t\\t\\t\\t\\t\\t\\t\\t\\t\\t\\n\\t\\t\\t\\t\\t\\t\\t\\t\\t\\t\\t\\t\\t\\t\\t\\t\\n\\t\\t\\t\\t\\t\\t\\t\\t\\t\\t\\t                </div><!-- .col-12 -->\\n\\n\\t\\t\\t\\t\\t\\t\\t\\t\\t\\t\\t\\t\\t\\t\\n\\t\\t\\t\\t\\t\\t\\t\\t\\t\\t\\t\\t\\t\\t\\n\\t\\t\\t\\t\\t\\t\\t\\t\\t\\t\\t\\t\\t\\t\\t<div class=\\'col-12 col-md-4\\'>\\n\\n\\t\\t\\t\\t\\t\\t\\t\\t\\t\\t\\t\\t\\t\\t\\t\\t\\n\\t\\t\\t\\t\\t\\t\\t\\t\\t\\t\\t\\t\\t\\t\\t\\t\\t\\t\\t\\t\\t\\t\\t\\t\\t\\t\\t\\t\\t\\t\\t\\t\\t\\t\\n\\t\\t\\t\\t\\t\\t\\t\\t\\t\\t\\t\\t                    \\t<a href=\"https://www.nulondon.ac.uk/degrees\" target=\"_blank\" class=\"btn btn-primary btn-block\">Browse our subject areas</a>\\n\\n\\t\\t\\t\\t\\t\\t\\t\\t\\t\\t\\t\\t\\t\\t\\t\\t\\t\\n\\t\\t\\t\\t\\t\\t\\t\\t\\t\\t\\t\\t\\t\\t\\t\\t\\t\\n\\t\\t\\t\\t\\t\\t\\t\\t\\t\\t\\t\\t\\t\\t\\t\\t\\n\\t\\t\\t\\t\\t\\t\\t\\t\\t\\t\\t\\t\\t\\t\\t\\t\\t\\t\\t\\t\\t\\t\\t\\t\\t\\t\\t\\t\\t\\t\\t\\t\\t\\t\\n\\t\\t\\t\\t\\t\\t\\t\\t\\t\\t\\t\\t                    \\t<a href=\"https://www.nulondon.ac.uk/blogs/academic\" target=\"_blank\" class=\"btn btn-default btn-block\">Academic blog</a>\\n\\n\\t\\t\\t\\t\\t\\t\\t\\t\\t\\t\\t\\t\\t\\t\\t\\t\\t\\n\\t\\t\\t\\t\\t\\t\\t\\t\\t\\t\\t\\t\\t\\t\\t\\t\\t\\n\\t\\t\\t\\t\\t\\t\\t\\t\\t\\t\\t\\t\\t\\t\\t\\t\\n\\t\\t\\t\\t\\t\\t\\t\\t\\t\\t\\t\\t\\t\\t\\t\\t\\t\\t\\t\\t\\t\\t\\t\\t\\t\\t\\t\\t\\t\\t\\t\\t\\t\\t\\n\\t\\t\\t\\t\\t\\t\\t\\t\\t\\t\\t\\t                    \\t<a href=\"https://www.nulondon.ac.uk/research/\" target=\"_blank\" class=\"btn btn-default btn-block\">Research</a>\\n\\n\\t\\t\\t\\t\\t\\t\\t\\t\\t\\t\\t\\t\\t\\t\\t\\t\\t\\n\\t\\t\\t\\t\\t\\t\\t\\t\\t\\t\\t\\t\\t\\t\\t\\t\\t\\n\\t\\t\\t\\t\\t\\t\\t\\t\\t\\t\\t\\t\\t\\t\\t\\t\\n\\t\\t\\t\\t\\t\\t\\t\\t\\t\\t\\t                </div><!-- .col-12 -->\\n\\n\\t\\t\\t\\t\\t\\t\\t\\t\\t\\t\\t\\t\\t\\t\\n\\t\\t\\t\\t\\t\\t\\t\\t\\t\\t            </div><!-- .row -->\\n\\n\\t\\t\\t\\t\\t\\t\\t\\t\\t\\t        </div><!-- .col -->\\n\\n\\t\\t\\t\\t\\t\\t\\t\\t\\t\\t    </div><!-- .row -->\\n\\n\\t\\t\\t\\t\\t\\t\\t\\t\\t\\t</div><!-- .container -->\\n\\n\\t\\t\\t\\t\\t\\t\\t\\t\\t</div><!-- .dropdown-menu -->\\n\\n\\t\\t\\t\\t\\t\\t\\t\\t</li><!-- .dropdown -->\\n\\n\\t\\t\\t\\t\\t\\t\\t\\t\\n\\t\\t\\t\\t\\t\\t\\t\\n\\t\\t\\t\\t\\t\\t\\t\\t<li class=\"nav-item dropdown\">\\n\\n\\t\\t\\t\\t\\t\\t\\t\\t\\t<a class=\"nav-link dropdown-toggle \" href=\"#\" id=\"navbarDropdown\" role=\"button\" data-toggle=\"dropdown\" aria-haspopup=\"true\" aria-expanded=\"false\">Student Life</a>\\n\\n\\t\\t\\t\\t\\t\\t\\t\\t\\t<div class=\"dropdown-menu\" aria-labelledby=\"navbarDropdown\">\\n\\n\\t\\t\\t\\t\\t\\t\\t\\t\\t\\t<div class=\\'container\\'>\\n\\n\\t\\t\\t\\t\\t\\t\\t\\t\\t\\t    <div class=\\'row\\'>\\n\\n\\t\\t\\t\\t\\t\\t\\t\\t\\t\\t        <div class=\\'col-12 col-lg-10 offset-lg-1\\'>\\n\\n\\t\\t\\t\\t\\t\\t\\t\\t\\t\\t            <div class=\\'row\\'>\\n\\n\\t\\t\\t\\t\\t\\t\\t\\t\\t\\t\\t\\t\\t\\t\\n\\t\\t\\t\\t\\t\\t\\t\\t\\t\\t\\t                <div class=\\'col-12 col-md-8 links\\'>\\n\\n\\t\\t\\t\\t\\t\\t\\t\\t\\t\\t\\t\\t\\t\\t\\t\\t\\n\\t\\t\\t\\t\\t\\t\\t\\t\\t\\t\\t\\t\\t\\t\\t\\t\\t\\t\\t\\t\\t\\t\\t\\t\\t\\t\\t\\t\\t\\t\\t\\t\\t\\t\\n\\t\\t\\t\\t\\t\\t\\t\\t\\t\\t\\t                    \\t\\t<a href=\"https://www.nulondon.ac.uk/student-life/life-in-london/\" target=\"\" class=\"menu-link\">Life in London</a>\\n\\n\\t\\t\\t\\t\\t\\t\\t\\t\\t\\t\\t\\t\\t\\t\\t\\t\\t\\n\\t\\t\\t\\t\\t\\t\\t\\t\\t\\t\\t\\t\\t\\t\\t\\t\\t\\n\\t\\t\\t\\t\\t\\t\\t\\t\\t\\t\\t\\t\\t\\t\\t\\t\\n\\t\\t\\t\\t\\t\\t\\t\\t\\t\\t\\t\\t\\t\\t\\t\\t\\t\\t\\t\\t\\t\\t\\t\\t\\t\\t\\t\\t\\t\\t\\t\\t\\t\\t\\n\\t\\t\\t\\t\\t\\t\\t\\t\\t\\t\\t\\t\\t\\t\\t\\t\\t\\n\\t\\t\\t\\t\\t\\t\\t\\t\\t\\t\\t\\t\\t\\t\\t\\t\\n\\t\\t\\t\\t\\t\\t\\t\\t\\t\\t\\t\\t\\t\\t\\t\\t\\t\\t\\t\\t\\t\\t\\t\\t\\t\\t\\t\\t\\t\\t\\t\\t\\t\\t\\n\\t\\t\\t\\t\\t\\t\\t\\t\\t\\t\\t                    \\t\\t<a href=\"https://www.nulondon.ac.uk/student-life/choose-accommodation/\" target=\"\" class=\"menu-link\">Accommodation</a>\\n\\n\\t\\t\\t\\t\\t\\t\\t\\t\\t\\t\\t\\t\\t\\t\\t\\t\\t\\n\\t\\t\\t\\t\\t\\t\\t\\t\\t\\t\\t\\t\\t\\t\\t\\t\\t\\n\\t\\t\\t\\t\\t\\t\\t\\t\\t\\t\\t\\t\\t\\t\\t\\t\\n\\t\\t\\t\\t\\t\\t\\t\\t\\t\\t\\t\\t\\t\\t\\t\\t\\t\\t\\t\\t\\t\\t\\t\\t\\t\\t\\t\\t\\t\\t\\t\\t\\t\\t\\n\\t\\t\\t\\t\\t\\t\\t\\t\\t\\t\\t                    \\t\\t<a href=\"https://www.nusu.org.uk/\" target=\"_blank\" class=\"menu-link\">Student Union</a>\\n\\n\\t\\t\\t\\t\\t\\t\\t\\t\\t\\t\\t\\t\\t\\t\\t\\t\\t\\n\\t\\t\\t\\t\\t\\t\\t\\t\\t\\t\\t\\t\\t\\t\\t\\t\\t\\n\\t\\t\\t\\t\\t\\t\\t\\t\\t\\t\\t\\t\\t\\t\\t\\t\\n\\t\\t\\t\\t\\t\\t\\t\\t\\t\\t\\t\\t\\t\\t\\t\\t\\t\\t\\t\\t\\t\\t\\t\\t\\t\\t\\t\\t\\t\\t\\t\\t\\t\\t\\n\\t\\t\\t\\t\\t\\t\\t\\t\\t\\t\\t\\t\\t\\t\\t\\t\\t\\n\\t\\t\\t\\t\\t\\t\\t\\t\\t\\t\\t\\t\\t\\t\\t\\t\\n\\t\\t\\t\\t\\t\\t\\t\\t\\t\\t\\t\\t\\t\\t\\t\\t\\t\\t\\t\\t\\t\\t\\t\\t\\t\\t\\t\\t\\t\\t\\t\\t\\t\\t\\n\\t\\t\\t\\t\\t\\t\\t\\t\\t\\t\\t                    \\t\\t<a href=\"https://www.nulondon.ac.uk/study/international-students-at-nch/\" target=\"\" class=\"menu-link\">International Students</a>\\n\\n\\t\\t\\t\\t\\t\\t\\t\\t\\t\\t\\t\\t\\t\\t\\t\\t\\t\\n\\t\\t\\t\\t\\t\\t\\t\\t\\t\\t\\t\\t\\t\\t\\t\\t\\t\\n\\t\\t\\t\\t\\t\\t\\t\\t\\t\\t\\t\\t\\t\\t\\t\\t\\n\\t\\t\\t\\t\\t\\t\\t\\t\\t\\t\\t\\t\\t\\t\\t\\t\\t\\t\\t\\t\\t\\t\\t\\t\\t\\t\\t\\t\\t\\t\\t\\t\\t\\t\\n\\t\\t\\t\\t\\t\\t\\t\\t\\t\\t\\t                    \\t\\t<a href=\"https://www.nulondon.ac.uk/student-life/life-in-london/student-support/\" target=\"\" class=\"menu-link\">Student Support & Development</a>\\n\\n\\t\\t\\t\\t\\t\\t\\t\\t\\t\\t\\t\\t\\t\\t\\t\\t\\t\\n\\t\\t\\t\\t\\t\\t\\t\\t\\t\\t\\t\\t\\t\\t\\t\\t\\t\\n\\t\\t\\t\\t\\t\\t\\t\\t\\t\\t\\t\\t\\t\\t\\t\\t\\n\\t\\t\\t\\t\\t\\t\\t\\t\\t\\t\\t\\t\\t\\t\\t\\t\\t\\t\\t\\t\\t\\t\\t\\t\\t\\t\\t\\t\\t\\t\\t\\t\\t\\t\\n\\t\\t\\t\\t\\t\\t\\t\\t\\t\\t\\t                    \\t\\t<a href=\"https://www.nulondon.ac.uk/student-life/campus/\" target=\"\" class=\"menu-link\">Our Campus</a>\\n\\n\\t\\t\\t\\t\\t\\t\\t\\t\\t\\t\\t\\t\\t\\t\\t\\t\\t\\n\\t\\t\\t\\t\\t\\t\\t\\t\\t\\t\\t\\t\\t\\t\\t\\t\\t\\n\\t\\t\\t\\t\\t\\t\\t\\t\\t\\t\\t\\t\\t\\t\\t\\t\\n\\t\\t\\t\\t\\t\\t\\t\\t\\t\\t\\t\\t\\t\\t\\t\\t\\t\\t\\t\\t\\t\\t\\t\\t\\t\\t\\t\\t\\t\\t\\t\\t\\t\\t\\n\\t\\t\\t\\t\\t\\t\\t\\t\\t\\t\\t                    \\t\\t<a href=\"https://www.nulondon.ac.uk/student-life/ondemand/\" target=\"\" class=\"menu-link\">On Demand Content</a>\\n\\n\\t\\t\\t\\t\\t\\t\\t\\t\\t\\t\\t\\t\\t\\t\\t\\t\\t\\n\\t\\t\\t\\t\\t\\t\\t\\t\\t\\t\\t\\t\\t\\t\\t\\t\\t\\n\\t\\t\\t\\t\\t\\t\\t\\t\\t\\t\\t\\t\\t\\t\\t\\t\\n\\t\\t\\t\\t\\t\\t\\t\\t\\t\\t\\t                </div><!-- .col-12 -->\\n\\n\\t\\t\\t\\t\\t\\t\\t\\t\\t\\t\\t\\t\\t\\t\\n\\t\\t\\t\\t\\t\\t\\t\\t\\t\\t\\t\\t\\t\\t\\n\\t\\t\\t\\t\\t\\t\\t\\t\\t\\t\\t\\t\\t\\t\\t<div class=\\'col-12 col-md-4\\'>\\n\\n\\t\\t\\t\\t\\t\\t\\t\\t\\t\\t\\t\\t\\t\\t\\t\\t\\n\\t\\t\\t\\t\\t\\t\\t\\t\\t\\t\\t\\t\\t\\t\\t\\t\\t\\t\\t\\t\\t\\t\\t\\t\\t\\t\\t\\t\\t\\t\\t\\t\\t\\t\\n\\t\\t\\t\\t\\t\\t\\t\\t\\t\\t\\t\\t                    \\t<a href=\"https://www.nulondon.ac.uk/blogs/student/\" target=\"_blank\" class=\"btn btn-primary btn-block\">Student blog</a>\\n\\n\\t\\t\\t\\t\\t\\t\\t\\t\\t\\t\\t\\t\\t\\t\\t\\t\\t\\n\\t\\t\\t\\t\\t\\t\\t\\t\\t\\t\\t\\t\\t\\t\\t\\t\\t\\n\\t\\t\\t\\t\\t\\t\\t\\t\\t\\t\\t\\t\\t\\t\\t\\t\\n\\t\\t\\t\\t\\t\\t\\t\\t\\t\\t\\t\\t\\t\\t\\t\\t\\t\\t\\t\\t\\t\\t\\t\\t\\t\\t\\t\\t\\t\\t\\t\\t\\t\\t\\n\\t\\t\\t\\t\\t\\t\\t\\t\\t\\t\\t\\t                    \\t<a href=\"https://www.nulondon.ac.uk/ambassadors/\" target=\"\" class=\"btn btn-default btn-block\">Chat to our students</a>\\n\\n\\t\\t\\t\\t\\t\\t\\t\\t\\t\\t\\t\\t\\t\\t\\t\\t\\t\\n\\t\\t\\t\\t\\t\\t\\t\\t\\t\\t\\t\\t\\t\\t\\t\\t\\t\\n\\t\\t\\t\\t\\t\\t\\t\\t\\t\\t\\t\\t\\t\\t\\t\\t\\n\\t\\t\\t\\t\\t\\t\\t\\t\\t\\t\\t\\t\\t\\t\\t\\t\\t\\t\\t\\t\\t\\t\\t\\t\\t\\t\\t\\t\\t\\t\\t\\t\\t\\t\\n\\t\\t\\t\\t\\t\\t\\t\\t\\t\\t\\t\\t\\t\\t\\t\\t\\t\\n\\t\\t\\t\\t\\t\\t\\t\\t\\t\\t\\t\\t\\t\\t\\t\\t\\n\\t\\t\\t\\t\\t\\t\\t\\t\\t\\t\\t                </div><!-- .col-12 -->\\n\\n\\t\\t\\t\\t\\t\\t\\t\\t\\t\\t\\t\\t\\t\\t\\n\\t\\t\\t\\t\\t\\t\\t\\t\\t\\t            </div><!-- .row -->\\n\\n\\t\\t\\t\\t\\t\\t\\t\\t\\t\\t        </div><!-- .col -->\\n\\n\\t\\t\\t\\t\\t\\t\\t\\t\\t\\t    </div><!-- .row -->\\n\\n\\t\\t\\t\\t\\t\\t\\t\\t\\t\\t</div><!-- .container -->\\n\\n\\t\\t\\t\\t\\t\\t\\t\\t\\t</div><!-- .dropdown-menu -->\\n\\n\\t\\t\\t\\t\\t\\t\\t\\t</li><!-- .dropdown -->\\n\\n\\t\\t\\t\\t\\t\\t\\t\\t\\n\\t\\t\\t\\t\\t\\t\\t\\n\\t\\t\\t\\t\\t\\t\\t\\t<li class=\"nav-item dropdown\">\\n\\n\\t\\t\\t\\t\\t\\t\\t\\t\\t<a class=\"nav-link dropdown-toggle \" href=\"#\" id=\"navbarDropdown\" role=\"button\" data-toggle=\"dropdown\" aria-haspopup=\"true\" aria-expanded=\"false\">Employability</a>\\n\\n\\t\\t\\t\\t\\t\\t\\t\\t\\t<div class=\"dropdown-menu\" aria-labelledby=\"navbarDropdown\">\\n\\n\\t\\t\\t\\t\\t\\t\\t\\t\\t\\t<div class=\\'container\\'>\\n\\n\\t\\t\\t\\t\\t\\t\\t\\t\\t\\t    <div class=\\'row\\'>\\n\\n\\t\\t\\t\\t\\t\\t\\t\\t\\t\\t        <div class=\\'col-12 col-lg-10 offset-lg-1\\'>\\n\\n\\t\\t\\t\\t\\t\\t\\t\\t\\t\\t            <div class=\\'row\\'>\\n\\n\\t\\t\\t\\t\\t\\t\\t\\t\\t\\t\\t\\t\\t\\t\\n\\t\\t\\t\\t\\t\\t\\t\\t\\t\\t\\t                <div class=\\'col-12 col-md-8 links\\'>\\n\\n\\t\\t\\t\\t\\t\\t\\t\\t\\t\\t\\t\\t\\t\\t\\t\\t\\n\\t\\t\\t\\t\\t\\t\\t\\t\\t\\t\\t\\t\\t\\t\\t\\t\\t\\t\\t\\t\\t\\t\\t\\t\\t\\t\\t\\t\\t\\t\\t\\t\\t\\t\\n\\t\\t\\t\\t\\t\\t\\t\\t\\t\\t\\t                    \\t\\t<a href=\"https://www.nulondon.ac.uk/employability/\" target=\"\" class=\"menu-link\">Employability</a>\\n\\n\\t\\t\\t\\t\\t\\t\\t\\t\\t\\t\\t\\t\\t\\t\\t\\t\\t\\n\\t\\t\\t\\t\\t\\t\\t\\t\\t\\t\\t\\t\\t\\t\\t\\t\\t\\n\\t\\t\\t\\t\\t\\t\\t\\t\\t\\t\\t\\t\\t\\t\\t\\t\\n\\t\\t\\t\\t\\t\\t\\t\\t\\t\\t\\t\\t\\t\\t\\t\\t\\t\\t\\t\\t\\t\\t\\t\\t\\t\\t\\t\\t\\t\\t\\t\\t\\t\\t\\n\\t\\t\\t\\t\\t\\t\\t\\t\\t\\t\\t\\t\\t\\t\\t\\t\\t\\n\\t\\t\\t\\t\\t\\t\\t\\t\\t\\t\\t\\t\\t\\t\\t\\t\\n\\t\\t\\t\\t\\t\\t\\t\\t\\t\\t\\t\\t\\t\\t\\t\\t\\t\\t\\t\\t\\t\\t\\t\\t\\t\\t\\t\\t\\t\\t\\t\\t\\t\\t\\n\\t\\t\\t\\t\\t\\t\\t\\t\\t\\t\\t                    \\t\\t<a href=\"https://www.nulondon.ac.uk/employability/careers-advice/\" target=\"\" class=\"menu-link\">Careers Advice</a>\\n\\n\\t\\t\\t\\t\\t\\t\\t\\t\\t\\t\\t\\t\\t\\t\\t\\t\\t\\n\\t\\t\\t\\t\\t\\t\\t\\t\\t\\t\\t\\t\\t\\t\\t\\t\\t\\n\\t\\t\\t\\t\\t\\t\\t\\t\\t\\t\\t\\t\\t\\t\\t\\t\\n\\t\\t\\t\\t\\t\\t\\t\\t\\t\\t\\t\\t\\t\\t\\t\\t\\t\\t\\t\\t\\t\\t\\t\\t\\t\\t\\t\\t\\t\\t\\t\\t\\t\\t\\n\\t\\t\\t\\t\\t\\t\\t\\t\\t\\t\\t                    \\t\\t<a href=\"https://www.nulondon.ac.uk/employability/employer-relations/\" target=\"\" class=\"menu-link\">Employer relations</a>\\n\\n\\t\\t\\t\\t\\t\\t\\t\\t\\t\\t\\t\\t\\t\\t\\t\\t\\t\\n\\t\\t\\t\\t\\t\\t\\t\\t\\t\\t\\t\\t\\t\\t\\t\\t\\t\\n\\t\\t\\t\\t\\t\\t\\t\\t\\t\\t\\t\\t\\t\\t\\t\\t\\n\\t\\t\\t\\t\\t\\t\\t\\t\\t\\t\\t\\t\\t\\t\\t\\t\\t\\t\\t\\t\\t\\t\\t\\t\\t\\t\\t\\t\\t\\t\\t\\t\\t\\t\\n\\t\\t\\t\\t\\t\\t\\t\\t\\t\\t\\t                    \\t\\t<a href=\"https://www.nulondon.ac.uk/employability/graduate-destinations/\" target=\"\" class=\"menu-link\">Graduate destinations</a>\\n\\n\\t\\t\\t\\t\\t\\t\\t\\t\\t\\t\\t\\t\\t\\t\\t\\t\\t\\n\\t\\t\\t\\t\\t\\t\\t\\t\\t\\t\\t\\t\\t\\t\\t\\t\\t\\n\\t\\t\\t\\t\\t\\t\\t\\t\\t\\t\\t\\t\\t\\t\\t\\t\\n\\t\\t\\t\\t\\t\\t\\t\\t\\t\\t\\t\\t\\t\\t\\t\\t\\t\\t\\t\\t\\t\\t\\t\\t\\t\\t\\t\\t\\t\\t\\t\\t\\t\\t\\n\\t\\t\\t\\t\\t\\t\\t\\t\\t\\t\\t\\t\\t\\t\\t\\t\\t\\n\\t\\t\\t\\t\\t\\t\\t\\t\\t\\t\\t\\t\\t\\t\\t\\t\\n\\t\\t\\t\\t\\t\\t\\t\\t\\t\\t\\t                </div><!-- .col-12 -->\\n\\n\\t\\t\\t\\t\\t\\t\\t\\t\\t\\t\\t\\t\\t\\t\\n\\t\\t\\t\\t\\t\\t\\t\\t\\t\\t\\t\\t\\t\\t\\n\\t\\t\\t\\t\\t\\t\\t\\t\\t\\t\\t\\t\\t\\t\\t<div class=\\'col-12 col-md-4\\'>\\n\\n\\t\\t\\t\\t\\t\\t\\t\\t\\t\\t\\t\\t\\t\\t\\t\\t\\n\\t\\t\\t\\t\\t\\t\\t\\t\\t\\t\\t\\t\\t\\t\\t\\t\\t\\t\\t\\t\\t\\t\\t\\t\\t\\t\\t\\t\\t\\t\\t\\t\\t\\t\\n\\t\\t\\t\\t\\t\\t\\t\\t\\t\\t\\t\\t                    \\t<a href=\"https://www.nulondon.ac.uk/about-us/visit-us/\" target=\"\" class=\"btn btn-primary btn-block\">Book an Open Day</a>\\n\\n\\t\\t\\t\\t\\t\\t\\t\\t\\t\\t\\t\\t\\t\\t\\t\\t\\t\\n\\t\\t\\t\\t\\t\\t\\t\\t\\t\\t\\t\\t\\t\\t\\t\\t\\t\\n\\t\\t\\t\\t\\t\\t\\t\\t\\t\\t\\t\\t\\t\\t\\t\\t\\n\\t\\t\\t\\t\\t\\t\\t\\t\\t\\t\\t\\t\\t\\t\\t\\t\\t\\t\\t\\t\\t\\t\\t\\t\\t\\t\\t\\t\\t\\t\\t\\t\\t\\t\\n\\t\\t\\t\\t\\t\\t\\t\\t\\t\\t\\t\\t                    \\t<a href=\"https://www.nulondon.ac.uk/prospectus/\" target=\"\" class=\"btn btn-default btn-block\">Download a Prospectus</a>\\n\\n\\t\\t\\t\\t\\t\\t\\t\\t\\t\\t\\t\\t\\t\\t\\t\\t\\t\\n\\t\\t\\t\\t\\t\\t\\t\\t\\t\\t\\t\\t\\t\\t\\t\\t\\t\\n\\t\\t\\t\\t\\t\\t\\t\\t\\t\\t\\t\\t\\t\\t\\t\\t\\n\\t\\t\\t\\t\\t\\t\\t\\t\\t\\t\\t                </div><!-- .col-12 -->\\n\\n\\t\\t\\t\\t\\t\\t\\t\\t\\t\\t\\t\\t\\t\\t\\n\\t\\t\\t\\t\\t\\t\\t\\t\\t\\t            </div><!-- .row -->\\n\\n\\t\\t\\t\\t\\t\\t\\t\\t\\t\\t        </div><!-- .col -->\\n\\n\\t\\t\\t\\t\\t\\t\\t\\t\\t\\t    </div><!-- .row -->\\n\\n\\t\\t\\t\\t\\t\\t\\t\\t\\t\\t</div><!-- .container -->\\n\\n\\t\\t\\t\\t\\t\\t\\t\\t\\t</div><!-- .dropdown-menu -->\\n\\n\\t\\t\\t\\t\\t\\t\\t\\t</li><!-- .dropdown -->\\n\\n\\t\\t\\t\\t\\t\\t\\t\\t\\n\\t\\t\\t\\t\\t\\t\\t\\n\\t\\t\\t\\t\\t\\t\\t\\t<li class=\"nav-item dropdown\">\\n\\n\\t\\t\\t\\t\\t\\t\\t\\t\\t<a class=\"nav-link dropdown-toggle \" href=\"#\" id=\"navbarDropdown\" role=\"button\" data-toggle=\"dropdown\" aria-haspopup=\"true\" aria-expanded=\"false\">About</a>\\n\\n\\t\\t\\t\\t\\t\\t\\t\\t\\t<div class=\"dropdown-menu\" aria-labelledby=\"navbarDropdown\">\\n\\n\\t\\t\\t\\t\\t\\t\\t\\t\\t\\t<div class=\\'container\\'>\\n\\n\\t\\t\\t\\t\\t\\t\\t\\t\\t\\t    <div class=\\'row\\'>\\n\\n\\t\\t\\t\\t\\t\\t\\t\\t\\t\\t        <div class=\\'col-12 col-lg-10 offset-lg-1\\'>\\n\\n\\t\\t\\t\\t\\t\\t\\t\\t\\t\\t            <div class=\\'row\\'>\\n\\n\\t\\t\\t\\t\\t\\t\\t\\t\\t\\t\\t\\t\\t\\t\\n\\t\\t\\t\\t\\t\\t\\t\\t\\t\\t\\t                <div class=\\'col-12 col-md-8 links\\'>\\n\\n\\t\\t\\t\\t\\t\\t\\t\\t\\t\\t\\t\\t\\t\\t\\t\\t\\n\\t\\t\\t\\t\\t\\t\\t\\t\\t\\t\\t\\t\\t\\t\\t\\t\\t\\t\\t\\t\\t\\t\\t\\t\\t\\t\\t\\t\\t\\t\\t\\t\\t\\t\\n\\t\\t\\t\\t\\t\\t\\t\\t\\t\\t\\t                    \\t\\t<a href=\"https://www.nulondon.ac.uk/about-us/\" target=\"\" class=\"menu-link\">About NU London</a>\\n\\n\\t\\t\\t\\t\\t\\t\\t\\t\\t\\t\\t\\t\\t\\t\\t\\t\\t\\n\\t\\t\\t\\t\\t\\t\\t\\t\\t\\t\\t\\t\\t\\t\\t\\t\\t\\n\\t\\t\\t\\t\\t\\t\\t\\t\\t\\t\\t\\t\\t\\t\\t\\t\\n\\t\\t\\t\\t\\t\\t\\t\\t\\t\\t\\t\\t\\t\\t\\t\\t\\t\\t\\t\\t\\t\\t\\t\\t\\t\\t\\t\\t\\t\\t\\t\\t\\t\\t\\n\\t\\t\\t\\t\\t\\t\\t\\t\\t\\t\\t                    \\t\\t<a href=\"https://www.nulondon.ac.uk/about-us/contact/\" target=\"\" class=\"menu-link\">Find & contact us</a>\\n\\n\\t\\t\\t\\t\\t\\t\\t\\t\\t\\t\\t\\t\\t\\t\\t\\t\\t\\n\\t\\t\\t\\t\\t\\t\\t\\t\\t\\t\\t\\t\\t\\t\\t\\t\\t\\n\\t\\t\\t\\t\\t\\t\\t\\t\\t\\t\\t\\t\\t\\t\\t\\t\\n\\t\\t\\t\\t\\t\\t\\t\\t\\t\\t\\t\\t\\t\\t\\t\\t\\t\\t\\t\\t\\t\\t\\t\\t\\t\\t\\t\\t\\t\\t\\t\\t\\t\\t\\n\\t\\t\\t\\t\\t\\t\\t\\t\\t\\t\\t                    \\t\\t<a href=\"https://www.nulondon.ac.uk/about-us/job-opportunities/\" target=\"\" class=\"menu-link\">Work at NU London</a>\\n\\n\\t\\t\\t\\t\\t\\t\\t\\t\\t\\t\\t\\t\\t\\t\\t\\t\\t\\n\\t\\t\\t\\t\\t\\t\\t\\t\\t\\t\\t\\t\\t\\t\\t\\t\\t\\n\\t\\t\\t\\t\\t\\t\\t\\t\\t\\t\\t\\t\\t\\t\\t\\t\\n\\t\\t\\t\\t\\t\\t\\t\\t\\t\\t\\t\\t\\t\\t\\t\\t\\t\\t\\t\\t\\t\\t\\t\\t\\t\\t\\t\\t\\t\\t\\t\\t\\t\\t\\n\\t\\t\\t\\t\\t\\t\\t\\t\\t\\t\\t                    \\t\\t<a href=\"https://www.nulondon.ac.uk/about-us/professional-staff/\" target=\"\" class=\"menu-link\">Professional staff</a>\\n\\n\\t\\t\\t\\t\\t\\t\\t\\t\\t\\t\\t\\t\\t\\t\\t\\t\\t\\n\\t\\t\\t\\t\\t\\t\\t\\t\\t\\t\\t\\t\\t\\t\\t\\t\\t\\n\\t\\t\\t\\t\\t\\t\\t\\t\\t\\t\\t\\t\\t\\t\\t\\t\\n\\t\\t\\t\\t\\t\\t\\t\\t\\t\\t\\t\\t\\t\\t\\t\\t\\t\\t\\t\\t\\t\\t\\t\\t\\t\\t\\t\\t\\t\\t\\t\\t\\t\\t\\n\\t\\t\\t\\t\\t\\t\\t\\t\\t\\t\\t                    \\t\\t<a href=\"https://www.nulondon.ac.uk/academic-handbook\" target=\"\" class=\"menu-link\">Academic handbook</a>\\n\\n\\t\\t\\t\\t\\t\\t\\t\\t\\t\\t\\t\\t\\t\\t\\t\\t\\t\\n\\t\\t\\t\\t\\t\\t\\t\\t\\t\\t\\t\\t\\t\\t\\t\\t\\t\\n\\t\\t\\t\\t\\t\\t\\t\\t\\t\\t\\t\\t\\t\\t\\t\\t\\n\\t\\t\\t\\t\\t\\t\\t\\t\\t\\t\\t\\t\\t\\t\\t\\t\\t\\t\\t\\t\\t\\t\\t\\t\\t\\t\\t\\t\\t\\t\\t\\t\\t\\t\\n\\t\\t\\t\\t\\t\\t\\t\\t\\t\\t\\t                    \\t\\t<a href=\"https://www.nulondon.ac.uk/about-us/why-nulondon/\" target=\"\" class=\"menu-link\">Why study at NU London</a>\\n\\n\\t\\t\\t\\t\\t\\t\\t\\t\\t\\t\\t\\t\\t\\t\\t\\t\\t\\n\\t\\t\\t\\t\\t\\t\\t\\t\\t\\t\\t\\t\\t\\t\\t\\t\\t\\n\\t\\t\\t\\t\\t\\t\\t\\t\\t\\t\\t\\t\\t\\t\\t\\t\\n\\t\\t\\t\\t\\t\\t\\t\\t\\t\\t\\t\\t\\t\\t\\t\\t\\t\\t\\t\\t\\t\\t\\t\\t\\t\\t\\t\\t\\t\\t\\t\\t\\t\\t\\n\\t\\t\\t\\t\\t\\t\\t\\t\\t\\t\\t                    \\t\\t<a href=\"https://www.nulondon.ac.uk/about-us/widening-participation/\" target=\"\" class=\"menu-link\">Widening Participation</a>\\n\\n\\t\\t\\t\\t\\t\\t\\t\\t\\t\\t\\t\\t\\t\\t\\t\\t\\t\\n\\t\\t\\t\\t\\t\\t\\t\\t\\t\\t\\t\\t\\t\\t\\t\\t\\t\\n\\t\\t\\t\\t\\t\\t\\t\\t\\t\\t\\t\\t\\t\\t\\t\\t\\n\\t\\t\\t\\t\\t\\t\\t\\t\\t\\t\\t                </div><!-- .col-12 -->\\n\\n\\t\\t\\t\\t\\t\\t\\t\\t\\t\\t\\t\\t\\t\\t\\n\\t\\t\\t\\t\\t\\t\\t\\t\\t\\t\\t\\t\\t\\t\\n\\t\\t\\t\\t\\t\\t\\t\\t\\t\\t\\t\\t\\t\\t\\t<div class=\\'col-12 col-md-4\\'>\\n\\n\\t\\t\\t\\t\\t\\t\\t\\t\\t\\t\\t\\t\\t\\t\\t\\t\\n\\t\\t\\t\\t\\t\\t\\t\\t\\t\\t\\t\\t\\t\\t\\t\\t\\t\\t\\t\\t\\t\\t\\t\\t\\t\\t\\t\\t\\t\\t\\t\\t\\t\\t\\n\\t\\t\\t\\t\\t\\t\\t\\t\\t\\t\\t\\t                    \\t<a href=\"https://www.nulondon.ac.uk/about-us/contact/\" target=\"\" class=\"btn btn-primary btn-block\">Contact us</a>\\n\\n\\t\\t\\t\\t\\t\\t\\t\\t\\t\\t\\t\\t\\t\\t\\t\\t\\t\\n\\t\\t\\t\\t\\t\\t\\t\\t\\t\\t\\t\\t\\t\\t\\t\\t\\t\\n\\t\\t\\t\\t\\t\\t\\t\\t\\t\\t\\t\\t\\t\\t\\t\\t\\n\\t\\t\\t\\t\\t\\t\\t\\t\\t\\t\\t\\t\\t\\t\\t\\t\\t\\t\\t\\t\\t\\t\\t\\t\\t\\t\\t\\t\\t\\t\\t\\t\\t\\t\\n\\t\\t\\t\\t\\t\\t\\t\\t\\t\\t\\t\\t                    \\t<a href=\"https://www.nulondon.ac.uk/about-us/visit-us/\" target=\"\" class=\"btn btn-default btn-block\">Open Days & Events</a>\\n\\n\\t\\t\\t\\t\\t\\t\\t\\t\\t\\t\\t\\t\\t\\t\\t\\t\\t\\n\\t\\t\\t\\t\\t\\t\\t\\t\\t\\t\\t\\t\\t\\t\\t\\t\\t\\n\\t\\t\\t\\t\\t\\t\\t\\t\\t\\t\\t\\t\\t\\t\\t\\t\\n\\t\\t\\t\\t\\t\\t\\t\\t\\t\\t\\t\\t\\t\\t\\t\\t\\t\\t\\t\\t\\t\\t\\t\\t\\t\\t\\t\\t\\t\\t\\t\\t\\t\\t\\n\\t\\t\\t\\t\\t\\t\\t\\t\\t\\t\\t\\t                    \\t<a href=\"https://www.nulondon.ac.uk/ambassadors/\" target=\"\" class=\"btn btn-default btn-block\">Chat to our students</a>\\n\\n\\t\\t\\t\\t\\t\\t\\t\\t\\t\\t\\t\\t\\t\\t\\t\\t\\t\\n\\t\\t\\t\\t\\t\\t\\t\\t\\t\\t\\t\\t\\t\\t\\t\\t\\t\\n\\t\\t\\t\\t\\t\\t\\t\\t\\t\\t\\t\\t\\t\\t\\t\\t\\n\\t\\t\\t\\t\\t\\t\\t\\t\\t\\t\\t                </div><!-- .col-12 -->\\n\\n\\t\\t\\t\\t\\t\\t\\t\\t\\t\\t\\t\\t\\t\\t\\n\\t\\t\\t\\t\\t\\t\\t\\t\\t\\t            </div><!-- .row -->\\n\\n\\t\\t\\t\\t\\t\\t\\t\\t\\t\\t        </div><!-- .col -->\\n\\n\\t\\t\\t\\t\\t\\t\\t\\t\\t\\t    </div><!-- .row -->\\n\\n\\t\\t\\t\\t\\t\\t\\t\\t\\t\\t</div><!-- .container -->\\n\\n\\t\\t\\t\\t\\t\\t\\t\\t\\t</div><!-- .dropdown-menu -->\\n\\n\\t\\t\\t\\t\\t\\t\\t\\t</li><!-- .dropdown -->\\n\\n\\t\\t\\t\\t\\t\\t\\t\\t\\n\\t\\t\\t\\t\\t\\t\\t\\n\\t\\t\\t\\t\\t\\t\\t\\t<li class=\"nav-item dropdown\">\\n\\n\\t\\t\\t\\t\\t\\t\\t\\t\\t<a class=\"nav-link dropdown-toggle \" href=\"#\" id=\"navbarDropdown\" role=\"button\" data-toggle=\"dropdown\" aria-haspopup=\"true\" aria-expanded=\"false\">News & Events</a>\\n\\n\\t\\t\\t\\t\\t\\t\\t\\t\\t<div class=\"dropdown-menu\" aria-labelledby=\"navbarDropdown\">\\n\\n\\t\\t\\t\\t\\t\\t\\t\\t\\t\\t<div class=\\'container\\'>\\n\\n\\t\\t\\t\\t\\t\\t\\t\\t\\t\\t    <div class=\\'row\\'>\\n\\n\\t\\t\\t\\t\\t\\t\\t\\t\\t\\t        <div class=\\'col-12 col-lg-10 offset-lg-1\\'>\\n\\n\\t\\t\\t\\t\\t\\t\\t\\t\\t\\t            <div class=\\'row\\'>\\n\\n\\t\\t\\t\\t\\t\\t\\t\\t\\t\\t\\t\\t\\t\\t\\n\\t\\t\\t\\t\\t\\t\\t\\t\\t\\t\\t                <div class=\\'col-12 col-md-8 links\\'>\\n\\n\\t\\t\\t\\t\\t\\t\\t\\t\\t\\t\\t\\t\\t\\t\\t\\t\\n\\t\\t\\t\\t\\t\\t\\t\\t\\t\\t\\t\\t\\t\\t\\t\\t\\t\\t\\t\\t\\t\\t\\t\\t\\t\\t\\t\\t\\t\\t\\t\\t\\t\\t\\n\\t\\t\\t\\t\\t\\t\\t\\t\\t\\t\\t                    \\t\\t<a href=\"https://www.nulondon.ac.uk/blogs/news/\" target=\"\" class=\"menu-link\">University News</a>\\n\\n\\t\\t\\t\\t\\t\\t\\t\\t\\t\\t\\t\\t\\t\\t\\t\\t\\t\\n\\t\\t\\t\\t\\t\\t\\t\\t\\t\\t\\t\\t\\t\\t\\t\\t\\t\\n\\t\\t\\t\\t\\t\\t\\t\\t\\t\\t\\t\\t\\t\\t\\t\\t\\n\\t\\t\\t\\t\\t\\t\\t\\t\\t\\t\\t\\t\\t\\t\\t\\t\\t\\t\\t\\t\\t\\t\\t\\t\\t\\t\\t\\t\\t\\t\\t\\t\\t\\t\\n\\t\\t\\t\\t\\t\\t\\t\\t\\t\\t\\t                    \\t\\t<a href=\"https://www.nulondon.ac.uk/blogs/academic/\" target=\"\" class=\"menu-link\">Academic Blog</a>\\n\\n\\t\\t\\t\\t\\t\\t\\t\\t\\t\\t\\t\\t\\t\\t\\t\\t\\t\\n\\t\\t\\t\\t\\t\\t\\t\\t\\t\\t\\t\\t\\t\\t\\t\\t\\t\\n\\t\\t\\t\\t\\t\\t\\t\\t\\t\\t\\t\\t\\t\\t\\t\\t\\n\\t\\t\\t\\t\\t\\t\\t\\t\\t\\t\\t\\t\\t\\t\\t\\t\\t\\t\\t\\t\\t\\t\\t\\t\\t\\t\\t\\t\\t\\t\\t\\t\\t\\t\\n\\t\\t\\t\\t\\t\\t\\t\\t\\t\\t\\t                    \\t\\t<a href=\"https://www.nulondon.ac.uk/blogs/student/\" target=\"\" class=\"menu-link\">Student Blog</a>\\n\\n\\t\\t\\t\\t\\t\\t\\t\\t\\t\\t\\t\\t\\t\\t\\t\\t\\t\\n\\t\\t\\t\\t\\t\\t\\t\\t\\t\\t\\t\\t\\t\\t\\t\\t\\t\\n\\t\\t\\t\\t\\t\\t\\t\\t\\t\\t\\t\\t\\t\\t\\t\\t\\n\\t\\t\\t\\t\\t\\t\\t\\t\\t\\t\\t\\t\\t\\t\\t\\t\\t\\t\\t\\t\\t\\t\\t\\t\\t\\t\\t\\t\\t\\t\\t\\t\\t\\t\\n\\t\\t\\t\\t\\t\\t\\t\\t\\t\\t\\t                    \\t\\t<a href=\"https://www.nulondon.ac.uk/blogs/apprenticeships/\" target=\"\" class=\"menu-link\">Apprenticeships News</a>\\n\\n\\t\\t\\t\\t\\t\\t\\t\\t\\t\\t\\t\\t\\t\\t\\t\\t\\t\\n\\t\\t\\t\\t\\t\\t\\t\\t\\t\\t\\t\\t\\t\\t\\t\\t\\t\\n\\t\\t\\t\\t\\t\\t\\t\\t\\t\\t\\t\\t\\t\\t\\t\\t\\n\\t\\t\\t\\t\\t\\t\\t\\t\\t\\t\\t\\t\\t\\t\\t\\t\\t\\t\\t\\t\\t\\t\\t\\t\\t\\t\\t\\t\\t\\t\\t\\t\\t\\t\\n\\t\\t\\t\\t\\t\\t\\t\\t\\t\\t\\t                    \\t\\t<a href=\"https://www.nulondon.ac.uk/about-us/press\" target=\"\" class=\"menu-link\">Press Coverage</a>\\n\\n\\t\\t\\t\\t\\t\\t\\t\\t\\t\\t\\t\\t\\t\\t\\t\\t\\t\\n\\t\\t\\t\\t\\t\\t\\t\\t\\t\\t\\t\\t\\t\\t\\t\\t\\t\\n\\t\\t\\t\\t\\t\\t\\t\\t\\t\\t\\t\\t\\t\\t\\t\\t\\n\\t\\t\\t\\t\\t\\t\\t\\t\\t\\t\\t\\t\\t\\t\\t\\t\\t\\t\\t\\t\\t\\t\\t\\t\\t\\t\\t\\t\\t\\t\\t\\t\\t\\t\\n\\t\\t\\t\\t\\t\\t\\t\\t\\t\\t\\t                    \\t\\t<a href=\"https://www.nulondon.ac.uk/news-and-events/events/\" target=\"\" class=\"menu-link\">Events</a>\\n\\n\\t\\t\\t\\t\\t\\t\\t\\t\\t\\t\\t\\t\\t\\t\\t\\t\\t\\n\\t\\t\\t\\t\\t\\t\\t\\t\\t\\t\\t\\t\\t\\t\\t\\t\\t\\n\\t\\t\\t\\t\\t\\t\\t\\t\\t\\t\\t\\t\\t\\t\\t\\t\\n\\t\\t\\t\\t\\t\\t\\t\\t\\t\\t\\t                </div><!-- .col-12 -->\\n\\n\\t\\t\\t\\t\\t\\t\\t\\t\\t\\t\\t\\t\\t\\t\\n\\t\\t\\t\\t\\t\\t\\t\\t\\t\\t\\t\\t\\t\\t\\n\\t\\t\\t\\t\\t\\t\\t\\t\\t\\t\\t\\t\\t\\t\\t<div class=\\'col-12 col-md-4\\'>\\n\\n\\t\\t\\t\\t\\t\\t\\t\\t\\t\\t\\t\\t\\t\\t\\t\\t\\n\\t\\t\\t\\t\\t\\t\\t\\t\\t\\t\\t\\t\\t\\t\\t\\t\\t\\t\\t\\t\\t\\t\\t\\t\\t\\t\\t\\t\\t\\t\\t\\t\\t\\t\\n\\t\\t\\t\\t\\t\\t\\t\\t\\t\\t\\t\\t                    \\t<a href=\"https://www.nulondon.ac.uk/blogs/\" target=\"\" class=\"btn btn-primary btn-block\">Read our latest posts</a>\\n\\n\\t\\t\\t\\t\\t\\t\\t\\t\\t\\t\\t\\t\\t\\t\\t\\t\\t\\n\\t\\t\\t\\t\\t\\t\\t\\t\\t\\t\\t\\t\\t\\t\\t\\t\\t\\n\\t\\t\\t\\t\\t\\t\\t\\t\\t\\t\\t\\t\\t\\t\\t\\t\\n\\t\\t\\t\\t\\t\\t\\t\\t\\t\\t\\t                </div><!-- .col-12 -->\\n\\n\\t\\t\\t\\t\\t\\t\\t\\t\\t\\t\\t\\t\\t\\t\\n\\t\\t\\t\\t\\t\\t\\t\\t\\t\\t            </div><!-- .row -->\\n\\n\\t\\t\\t\\t\\t\\t\\t\\t\\t\\t        </div><!-- .col -->\\n\\n\\t\\t\\t\\t\\t\\t\\t\\t\\t\\t    </div><!-- .row -->\\n\\n\\t\\t\\t\\t\\t\\t\\t\\t\\t\\t</div><!-- .container -->\\n\\n\\t\\t\\t\\t\\t\\t\\t\\t\\t</div><!-- .dropdown-menu -->\\n\\n\\t\\t\\t\\t\\t\\t\\t\\t</li><!-- .dropdown -->\\n\\n\\t\\t\\t\\t\\t\\t\\t\\t\\n\\t\\t\\t\\t\\t\\t\\t\\n\\t\\t\\t\\t\\t\\t</ul>\\n\\n\\t\\t\\t\\t\\t\\n\\t\\t\\t\\t\\t<form class=\"form-inline navbar-form\" role=\"search\" method=\"get\" action=\"https://www.nulondon.ac.uk/\">\\n\\n\\t\\t\\t\\t\\t\\t<div class=\"input-group\">\\n\\t\\t\\t\\t\\t\\t\\t<input type=\"text\" name=\"s\" class=\"form-control\" placeholder=\"Search\" value=\"\">\\n\\t\\t\\t\\t\\t\\t\\t<button type=\"submit\" class=\"btn btn-primary\">\\n\\t\\t\\t\\t\\t\\t\\t\\t<i class=\"fa fa-search\"></i>\\n\\t\\t\\t\\t\\t\\t\\t</button>\\n\\t\\t\\t\\t\\t\\t</div>\\n\\n\\t\\t\\t\\t\\t</form>\\n\\n\\t\\t\\t\\t\\t\\n\\t\\t\\t\\t\\t\\t<ul id=\"misc-nav-mobile\" class=\"nav navbar-nav\">\\n\\n\\t\\t\\t\\t\\t\\t\\t<li class=\"misc-nav-header\">College Links:</li>\\n\\n\\t\\t\\t\\t\\t\\t\\t\\n\\t\\t\\t\\t\\t\\t\\t\\t\\n\\t\\t\\t\\t\\t\\t\\t\\t\\t\\t\\t\\t\\t\\t\\t\\t\\t<li class=\"nav-item\">\\n\\t\\t\\t\\t\\t\\t\\t\\t\\t\\t<a href=\"https://www.nulondon.ac.uk/nch-student-hub/\" target=\"\" class=\"menu-link\">Current students</a>\\n\\t\\t\\t\\t\\t\\t\\t\\t\\t</li>\\n\\t\\t\\t\\t\\t\\t\\t\\t\\n\\t\\t\\t\\t\\t\\t\\t\\n\\t\\t\\t\\t\\t\\t\\t\\t\\n\\t\\t\\t\\t\\t\\t\\t\\t\\t\\t\\t\\t\\t\\t\\t\\t\\t<li class=\"nav-item\">\\n\\t\\t\\t\\t\\t\\t\\t\\t\\t\\t<a href=\"https://www.nulondon.ac.uk/offer-holders/\" target=\"\" class=\"menu-link\">Offer holders</a>\\n\\t\\t\\t\\t\\t\\t\\t\\t\\t</li>\\n\\t\\t\\t\\t\\t\\t\\t\\t\\n\\t\\t\\t\\t\\t\\t\\t\\n\\t\\t\\t\\t\\t\\t\\t\\t\\n\\t\\t\\t\\t\\t\\t\\t\\t\\t\\t\\t\\t\\t\\t\\t\\t\\t<li class=\"nav-item\">\\n\\t\\t\\t\\t\\t\\t\\t\\t\\t\\t<a href=\"https://nulondon.peoplehr.net/\" target=\"\" class=\"menu-link\">Staff Only</a>\\n\\t\\t\\t\\t\\t\\t\\t\\t\\t</li>\\n\\t\\t\\t\\t\\t\\t\\t\\t\\n\\t\\t\\t\\t\\t\\t\\t\\n\\t\\t\\t\\t\\t   </ul><!-- #misc-nav-mobile -->\\n\\n\\t\\t\\t\\t\\t\\n\\t\\t\\t\\t</div><!-- /.navbar-collapse -->\\n\\n\\t\\t\\t</div><!-- /.container-fluid -->\\n\\n\\t\\t</nav><!-- #main-nav -->\\n\\n\\n\\n\\t\\t\\n\\t\\t\\t\\n\\t\\t\\t\\t\\n\\t\\t\\t\\t\\t\\t<nav id=\\'sub-nav\\'>\\n\\n\\t\\t\\t\\t\\t\\t    <div class=\\'container-fluid\\'>\\n\\n\\t\\t\\t\\t\\t\\t        <div class=\\'row\\'>\\n\\n\\t\\t\\t\\t\\t\\t            <div class=\\'col-12\\'>\\n\\n\\t\\t\\t\\t\\t\\t\\t\\t\\t\\t\\n\\t\\t\\t\\t\\t\\t\\t\\t\\t\\t\\t\\n\\t\\t\\t\\t\\t\\t\\t\\t\\t\\t\\t\\t\\n\\t\\t\\t\\t\\t\\t\\t\\t\\t\\t\\t\\t\\t\\t\\t\\t\\t\\t\\t\\t\\t\\t\\t\\t\\t<a href=\"https://www.nulondon.ac.uk/degrees-2023/\" target=\"\" class=\"\">Undergraduate Degrees</a>\\n\\t\\t\\t\\t\\t\\t\\t\\t\\t\\t\\t\\t\\n\\t\\t\\t\\t\\t\\t\\t\\t\\t\\t\\t\\t\\n\\t\\t\\t\\t\\t\\t\\t\\t\\t\\t\\t\\n\\t\\t\\t\\t\\t\\t\\t\\t\\t\\t\\n\\t\\t\\t\\t\\t\\t\\t\\t\\t\\t\\t\\n\\t\\t\\t\\t\\t\\t\\t\\t\\t\\t\\t\\t\\n\\t\\t\\t\\t\\t\\t\\t\\t\\t\\t\\t\\t\\t\\t\\t\\t\\t\\t\\t\\t\\t\\t\\t\\t\\t<a href=\"https://www.nulondon.ac.uk/degrees/postgraduate/\" target=\"\" class=\"active\">Postgraduate Degrees</a>\\n\\t\\t\\t\\t\\t\\t\\t\\t\\t\\t\\t\\t\\n\\t\\t\\t\\t\\t\\t\\t\\t\\t\\t\\t\\t\\n\\t\\t\\t\\t\\t\\t\\t\\t\\t\\t\\t\\n\\t\\t\\t\\t\\t\\t\\t\\t\\t\\t\\n\\t\\t\\t\\t\\t\\t\\t\\t\\t\\t\\t\\n\\t\\t\\t\\t\\t\\t\\t\\t\\t\\t\\t\\t\\n\\t\\t\\t\\t\\t\\t\\t\\t\\t\\t\\t\\t\\t\\t\\t\\t\\t\\t\\t\\t\\t\\t\\t\\t\\t<a href=\"https://www.nulondon.ac.uk/study/apprenticeships/\" target=\"\" class=\"\">Workforce Development</a>\\n\\t\\t\\t\\t\\t\\t\\t\\t\\t\\t\\t\\t\\n\\t\\t\\t\\t\\t\\t\\t\\t\\t\\t\\t\\t\\n\\t\\t\\t\\t\\t\\t\\t\\t\\t\\t\\t\\n\\t\\t\\t\\t\\t\\t\\t\\t\\t\\t\\n\\t\\t\\t\\t\\t\\t\\t\\t\\t\\t\\t\\n\\t\\t\\t\\t\\t\\t\\t\\t\\t\\t\\t\\t\\n\\t\\t\\t\\t\\t\\t\\t\\t\\t\\t\\t\\t\\t\\t\\t\\t\\t\\t\\t\\t\\t\\t\\t\\t\\t<a href=\"https://www.nulondon.ac.uk/pre-university-programmes\" target=\"\" class=\"\">Pre-University Programmes</a>\\n\\t\\t\\t\\t\\t\\t\\t\\t\\t\\t\\t\\t\\n\\t\\t\\t\\t\\t\\t\\t\\t\\t\\t\\t\\t\\n\\t\\t\\t\\t\\t\\t\\t\\t\\t\\t\\t\\n\\t\\t\\t\\t\\t\\t\\t\\t\\t\\t\\n\\t\\t\\t\\t\\t\\t\\t\\t\\t\\t\\t\\n\\t\\t\\t\\t\\t\\t\\t\\t\\t\\t\\t\\t\\n\\t\\t\\t\\t\\t\\t\\t\\t\\t\\t\\t\\t\\t\\t\\t\\t\\t\\t\\t\\t\\t\\t\\t\\t\\t<a href=\"https://www.nulondon.ac.uk/study/nch-admissions/\" target=\"\" class=\"\">Admissions</a>\\n\\t\\t\\t\\t\\t\\t\\t\\t\\t\\t\\t\\t\\n\\t\\t\\t\\t\\t\\t\\t\\t\\t\\t\\t\\t\\n\\t\\t\\t\\t\\t\\t\\t\\t\\t\\t\\t\\n\\t\\t\\t\\t\\t\\t\\t\\t\\t\\t\\n\\t\\t\\t\\t\\t\\t\\t\\t\\t\\t\\t\\n\\t\\t\\t\\t\\t\\t\\t\\t\\t\\t\\t\\t\\n\\t\\t\\t\\t\\t\\t\\t\\t\\t\\t\\t\\t\\t\\t\\t\\t\\t\\t\\t\\t\\t\\t\\t\\t\\t<a href=\"https://www.nulondon.ac.uk/study/international-students-at-nch/visa/\" target=\"\" class=\"\">Visas</a>\\n\\t\\t\\t\\t\\t\\t\\t\\t\\t\\t\\t\\t\\n\\t\\t\\t\\t\\t\\t\\t\\t\\t\\t\\t\\t\\n\\t\\t\\t\\t\\t\\t\\t\\t\\t\\t\\t\\n\\t\\t\\t\\t\\t\\t\\t\\t\\t\\t\\n\\t\\t\\t\\t\\t\\t\\t\\t\\t\\t\\t\\n\\t\\t\\t\\t\\t\\t\\t\\t\\t\\t\\t\\t\\n\\t\\t\\t\\t\\t\\t\\t\\t\\t\\t\\t\\t\\t\\t\\t\\t\\t\\t\\t\\t\\t\\t\\t\\t\\t<a href=\"https://www.nulondon.ac.uk/entry-requirements-country/\" target=\"\" class=\"\">Entry requirements</a>\\n\\t\\t\\t\\t\\t\\t\\t\\t\\t\\t\\t\\t\\n\\t\\t\\t\\t\\t\\t\\t\\t\\t\\t\\t\\t\\n\\t\\t\\t\\t\\t\\t\\t\\t\\t\\t\\t\\n\\t\\t\\t\\t\\t\\t\\t\\t\\t\\t\\n\\t\\t\\t\\t\\t\\t\\t\\t\\t\\t\\t\\n\\t\\t\\t\\t\\t\\t\\t\\t\\t\\t\\t\\t\\n\\t\\t\\t\\t\\t\\t\\t\\t\\t\\t\\t\\t\\t\\t\\t\\t\\t\\t\\t\\t\\t\\t\\t\\t\\t<a href=\"https://www.nulondon.ac.uk/fees-and-funding/\" target=\"\" class=\"\">Fees & Funding</a>\\n\\t\\t\\t\\t\\t\\t\\t\\t\\t\\t\\t\\t\\n\\t\\t\\t\\t\\t\\t\\t\\t\\t\\t\\t\\t\\n\\t\\t\\t\\t\\t\\t\\t\\t\\t\\t\\t\\n\\t\\t\\t\\t\\t\\t\\t\\t\\t\\t\\n\\t\\t\\t\\t\\t\\t            </div><!-- .col-12 -->\\n\\n\\t\\t\\t\\t\\t\\t        </div><!-- .row -->\\n\\n\\t\\t\\t\\t\\t\\t    </div><!-- .container-fluid -->\\n\\n\\t\\t\\t\\t\\t\\t</nav><!-- #sub-nav -->\\n\\n\\t\\t\\t\\t\\t\\n\\t\\t\\t\\t\\n\\t\\t\\t\\t\\n\\t\\t\\t\\n\\t\\t\\t\\t\\n\\t\\t\\t\\t\\n\\t\\t\\t\\t\\n\\t\\t\\t\\n\\t\\t\\t\\t\\n\\t\\t\\t\\t\\n\\t\\t\\t\\t\\n\\t\\t\\t\\n\\t\\t\\t\\t\\n\\t\\t\\t\\t\\n\\t\\t\\t\\t\\n\\t\\t\\t\\n\\t\\t\\t\\t\\n\\t\\t\\t\\t\\n\\t\\t\\t\\t\\n\\t\\t\\t\\n\\t\\t\\t\\t\\n\\t\\t\\t\\t\\n\\t\\t\\t\\t\\n\\t\\t\\t\\n\\t\\t\\n\\n\\n\\n\\n\\n\\n\\n\\n\\t\\t<div id=\"content\" class=\"site-content\">\\n\\n\\t\\n\\n\\n\\t\\t<div id=\"postgraduate-hub-heading\" class=\\'page-heading-new image\\' style=\"background-image: url(https://www.nulondon.ac.uk/wp-content/uploads/2023/06/NU-Student-working-overlooking-Tower-Bridge-London-3600x2477-1-1110x764.jpg);\">\\n\\n\\t\\t    <div class=\\'container\\'>\\n\\n\\t\\t        <div class=\\'row\\'>\\n\\n\\t\\t            <div class=\\'col-md-8 offset-md-2\\'>\\n\\n\\t\\t                <h1>Postgraduate Study</h1>\\n\\n\\t\\t                <div class=\\'row\\'>\\n\\n\\t\\t                    <div class=\\'col-12\\'>\\n\\n\\t\\t                        <p>Masters degrees at the intersection of humanities and science.<br />\\nFuture-proof your career with analytical, technical &amp; ethical skills.<br />\\nIt takes human intelligence to make the artificial kind.</p>\\n<p>#HumansWanted</p>\\n\\n\\t\\t                    </div><!-- .col -->\\n\\n\\t\\t                </div><!-- .row -->\\n\\n\\t\\t            </div><!-- .col-->\\n\\n\\t\\t        </div><!-- .row -->\\n\\n\\t\\t    </div><!-- .container -->\\n\\n\\t\\t</div><!-- #postgraduate-hub-heading -->\\n\\n\\n\\n\\t\\t<div id=\\'postgraduate-degrees\\' class=\\'section grey\\'>\\n\\n\\t\\t    <div class=\\'container\\'>\\n\\n\\t\\t        <div class=\\'row\\'>\\n\\n\\t\\t\\t\\t\\t<div class=\\'col-md-8 offset-md-2\\'>\\n\\n\\t\\t                <div class=\\'section-title\\'>\\n\\n\\t\\t                    <h2>Choose your postgraduate degree</h2>\\n\\n\\t\\t                </div><!-- .section-title -->\\n\\n\\t\\t            </div><!-- .col -->\\n\\n\\t\\t        </div><!-- .row -->\\n\\n\\t\\t\\t\\t<div class=\\'row justify-content-center\\'>\\n\\n\\t\\t\\t\\t\\t\\n\\t\\t\\t\\t\\t\\t\\t<div class=\\'col-12 col-sm-6 col-lg-4 my-2 masters-degree\\'>\\n\\n\\t\\t\\t\\t\\t\\t\\t\\t<a href=\"https://www.nulondon.ac.uk/degrees/postgraduate/ai-computer-science/\" class=\"masters-degree-link\">\\n\\n\\t\\t\\t\\t\\t\\t\\t\\t\\t<div class=\\'masters-degree-image\\' style=\"background-image: url(https://www.nulondon.ac.uk/wp-content/uploads/2020/08/pexels-markus-spiske-2004161-1110x740.jpg);\"></div><!-- .masters-degree-image -->\\n\\n\\t\\t\\t\\t\\t\\t\\t\\t\\t<div class=\\'masters-degree-content\\'>\\n\\n\\t\\t\\t\\t\\t\\t\\t\\t\\t    <p class=\"title\">MSc Artificial Intelligence &#038; Computer Science</p>\\n\\n\\t\\t\\t\\t\\t\\t\\t\\t\\t\\t<p><span style=\"font-weight: 400;\">Designed to prepare graduates for a multitude of careers in the technology sector, our MSc Artificial Intelligence &amp; Computer Science equips students with</span><span style=\"font-weight: 400;\"> advanced software development skills combined with key competencies in the application of algorithmic and theoretical computer science principles to solve wide-ranging problems.</span></p>\\n\\n\\t\\t\\t\\t\\t\\t\\t\\t\\t</div><!-- .masters-degree-content -->\\n\\n\\t\\t\\t\\t\\t\\t\\t\\t\\t<div class=\\'masters-degree-button\\'>\\n\\n\\t\\t\\t\\t\\t\\t\\t\\t\\t    <div class=\\'btn btn-default btn-block\\'>\\n\\n\\t\\t\\t\\t\\t\\t\\t\\t\\t        View Degree\\n\\t\\t\\t\\t\\t\\t\\t\\t\\t    </div><!-- .btn btn-default btn-block -->\\n\\n\\t\\t\\t\\t\\t\\t\\t\\t\\t</div><!-- .masters-degree-button -->\\n\\n\\t\\t\\t\\t\\t\\t\\t\\t</a><!-- .masters-degree -->\\n\\n\\t\\t\\t\\t\\t\\t\\t</div><!-- .col -->\\n\\n\\t\\t\\t\\t\\t\\t\\t\\n\\t\\t\\t\\t\\t\\t\\t<div class=\\'col-12 col-sm-6 col-lg-4 my-2 masters-degree\\'>\\n\\n\\t\\t\\t\\t\\t\\t\\t\\t<a href=\"https://www.nulondon.ac.uk/degrees/postgraduate/ai-data-analytics/\" class=\"masters-degree-link\">\\n\\n\\t\\t\\t\\t\\t\\t\\t\\t\\t<div class=\\'masters-degree-image\\' style=\"background-image: url(https://www.nulondon.ac.uk/wp-content/uploads/2022/03/shutterstock_2036186156-1110x498.jpg);\"></div><!-- .masters-degree-image -->\\n\\n\\t\\t\\t\\t\\t\\t\\t\\t\\t<div class=\\'masters-degree-content\\'>\\n\\n\\t\\t\\t\\t\\t\\t\\t\\t\\t    <p class=\"title\">MSc Artificial Intelligence &#038; Data Analytics</p>\\n\\n\\t\\t\\t\\t\\t\\t\\t\\t\\t\\t<p>The MSc Artificial Intelligence &amp; Data Analytics programme is designed to <span style=\"font-weight: 400;\"> support the career development of AI and data science professionals by providing graduates with the in-depth knowledge, skills and experience that are required by businesses and organisations in the technology sector.</span></p>\\n\\n\\t\\t\\t\\t\\t\\t\\t\\t\\t</div><!-- .masters-degree-content -->\\n\\n\\t\\t\\t\\t\\t\\t\\t\\t\\t<div class=\\'masters-degree-button\\'>\\n\\n\\t\\t\\t\\t\\t\\t\\t\\t\\t    <div class=\\'btn btn-default btn-block\\'>\\n\\n\\t\\t\\t\\t\\t\\t\\t\\t\\t        View Degree\\n\\t\\t\\t\\t\\t\\t\\t\\t\\t    </div><!-- .btn btn-default btn-block -->\\n\\n\\t\\t\\t\\t\\t\\t\\t\\t\\t</div><!-- .masters-degree-button -->\\n\\n\\t\\t\\t\\t\\t\\t\\t\\t</a><!-- .masters-degree -->\\n\\n\\t\\t\\t\\t\\t\\t\\t</div><!-- .col -->\\n\\n\\t\\t\\t\\t\\t\\t\\t\\n\\t\\t\\t\\t\\t\\t\\t<div class=\\'col-12 col-sm-6 col-lg-4 my-2 masters-degree\\'>\\n\\n\\t\\t\\t\\t\\t\\t\\t\\t<a href=\"https://www.nulondon.ac.uk/degrees/postgraduate/ai-ethics/\" class=\"masters-degree-link\">\\n\\n\\t\\t\\t\\t\\t\\t\\t\\t\\t<div class=\\'masters-degree-image\\' style=\"background-image: url(https://www.nulondon.ac.uk/wp-content/uploads/2020/10/shutterstock_592921421-1110x663.jpg);\"></div><!-- .masters-degree-image -->\\n\\n\\t\\t\\t\\t\\t\\t\\t\\t\\t<div class=\\'masters-degree-content\\'>\\n\\n\\t\\t\\t\\t\\t\\t\\t\\t\\t    <p class=\"title\">MSc Artificial Intelligence and Ethics</p>\\n\\n\\t\\t\\t\\t\\t\\t\\t\\t\\t\\t<p>The MSc Artificial Intelligence and Ethics is an integrated programme of study with dual foci on both theory and application. Presupposing no background in computing, students are equipped with the relevant knowledge and data programming skills &#8211; covering recent technical developments alongside broader ethical and theoretical considerations &#8211; to fulfil the needs of a vast range of organisations and employers.</p>\\n<div class=\"grammarly-disable-indicator\"></div>\\n<div class=\"grammarly-disable-indicator\"></div>\\n\\n\\t\\t\\t\\t\\t\\t\\t\\t\\t</div><!-- .masters-degree-content -->\\n\\n\\t\\t\\t\\t\\t\\t\\t\\t\\t<div class=\\'masters-degree-button\\'>\\n\\n\\t\\t\\t\\t\\t\\t\\t\\t\\t    <div class=\\'btn btn-default btn-block\\'>\\n\\n\\t\\t\\t\\t\\t\\t\\t\\t\\t        View Degree\\n\\t\\t\\t\\t\\t\\t\\t\\t\\t    </div><!-- .btn btn-default btn-block -->\\n\\n\\t\\t\\t\\t\\t\\t\\t\\t\\t</div><!-- .masters-degree-button -->\\n\\n\\t\\t\\t\\t\\t\\t\\t\\t</a><!-- .masters-degree -->\\n\\n\\t\\t\\t\\t\\t\\t\\t</div><!-- .col -->\\n\\n\\t\\t\\t\\t\\t\\t\\t\\n\\t\\t\\t\\t\\t\\t\\t<div class=\\'col-12 col-sm-6 col-lg-4 my-2 masters-degree\\'>\\n\\n\\t\\t\\t\\t\\t\\t\\t\\t<a href=\"https://www.nulondon.ac.uk/degrees/postgraduate/ai-technology-leadership/\" class=\"masters-degree-link\">\\n\\n\\t\\t\\t\\t\\t\\t\\t\\t\\t<div class=\\'masters-degree-image\\' style=\"background-image: url(https://www.nulondon.ac.uk/wp-content/uploads/2023/01/pexels-energepiccom-159888-1110x833.jpg);\"></div><!-- .masters-degree-image -->\\n\\n\\t\\t\\t\\t\\t\\t\\t\\t\\t<div class=\\'masters-degree-content\\'>\\n\\n\\t\\t\\t\\t\\t\\t\\t\\t\\t    <p class=\"title\">MSc Artificial Intelligence &#038; Technology Leadership</p>\\n\\n\\t\\t\\t\\t\\t\\t\\t\\t\\t\\t<p>As technology progresses, the need for skills in AI and a data-driven economy rises. Our MSc Artificial Intelligence &amp; Technology Leadership has been designed to assist students in investigating, identifying and implementing technological strategetic solutions in a digital world.</p>\\n<p>&nbsp;</p>\\n\\n\\t\\t\\t\\t\\t\\t\\t\\t\\t</div><!-- .masters-degree-content -->\\n\\n\\t\\t\\t\\t\\t\\t\\t\\t\\t<div class=\\'masters-degree-button\\'>\\n\\n\\t\\t\\t\\t\\t\\t\\t\\t\\t    <div class=\\'btn btn-default btn-block\\'>\\n\\n\\t\\t\\t\\t\\t\\t\\t\\t\\t        View Degree\\n\\t\\t\\t\\t\\t\\t\\t\\t\\t    </div><!-- .btn btn-default btn-block -->\\n\\n\\t\\t\\t\\t\\t\\t\\t\\t\\t</div><!-- .masters-degree-button -->\\n\\n\\t\\t\\t\\t\\t\\t\\t\\t</a><!-- .masters-degree -->\\n\\n\\t\\t\\t\\t\\t\\t\\t</div><!-- .col -->\\n\\n\\t\\t\\t\\t\\t\\t\\t\\n\\t\\t\\t\\t\\t\\t\\t<div class=\\'col-12 col-sm-6 col-lg-4 my-2 masters-degree\\'>\\n\\n\\t\\t\\t\\t\\t\\t\\t\\t<a href=\"https://www.nulondon.ac.uk/degrees/postgraduate/creative-writing/\" class=\"masters-degree-link\">\\n\\n\\t\\t\\t\\t\\t\\t\\t\\t\\t<div class=\\'masters-degree-image\\' style=\"background-image: url(https://www.nulondon.ac.uk/wp-content/uploads/2023/01/Creative-Writing-3-1110x740.jpg);\"></div><!-- .masters-degree-image -->\\n\\n\\t\\t\\t\\t\\t\\t\\t\\t\\t<div class=\\'masters-degree-content\\'>\\n\\n\\t\\t\\t\\t\\t\\t\\t\\t\\t    <p class=\"title\">MA Contemporary Creative Writing</p>\\n\\n\\t\\t\\t\\t\\t\\t\\t\\t\\t\\t<p>The Master of Arts in Contemporary Creative Writing at Northeastern University London equips students with the knowledge, craft skills and discipline needed to be a creative writer now.</p>\\n<div class=\"grammarly-disable-indicator\"></div>\\n<div class=\"grammarly-disable-indicator\"></div>\\n\\n\\t\\t\\t\\t\\t\\t\\t\\t\\t</div><!-- .masters-degree-content -->\\n\\n\\t\\t\\t\\t\\t\\t\\t\\t\\t<div class=\\'masters-degree-button\\'>\\n\\n\\t\\t\\t\\t\\t\\t\\t\\t\\t    <div class=\\'btn btn-default btn-block\\'>\\n\\n\\t\\t\\t\\t\\t\\t\\t\\t\\t        View Degree\\n\\t\\t\\t\\t\\t\\t\\t\\t\\t    </div><!-- .btn btn-default btn-block -->\\n\\n\\t\\t\\t\\t\\t\\t\\t\\t\\t</div><!-- .masters-degree-button -->\\n\\n\\t\\t\\t\\t\\t\\t\\t\\t</a><!-- .masters-degree -->\\n\\n\\t\\t\\t\\t\\t\\t\\t</div><!-- .col -->\\n\\n\\t\\t\\t\\t\\t\\t\\t\\n\\t\\t\\t\\t\\t\\t\\t<div class=\\'col-12 col-sm-6 col-lg-4 my-2 masters-degree\\'>\\n\\n\\t\\t\\t\\t\\t\\t\\t\\t<a href=\"https://www.nulondon.ac.uk/degrees/postgraduate/politics-sustainability/\" class=\"masters-degree-link\">\\n\\n\\t\\t\\t\\t\\t\\t\\t\\t\\t<div class=\\'masters-degree-image\\' style=\"background-image: url(https://www.nulondon.ac.uk/wp-content/uploads/2020/11/shutterstock_1384645469-1110x624.jpg);\"></div><!-- .masters-degree-image -->\\n\\n\\t\\t\\t\\t\\t\\t\\t\\t\\t<div class=\\'masters-degree-content\\'>\\n\\n\\t\\t\\t\\t\\t\\t\\t\\t\\t    <p class=\"title\">MSc Digital Politics &#038; Sustainable Development</p>\\n\\n\\t\\t\\t\\t\\t\\t\\t\\t\\t\\t<p>Explore the increasingly urgent phenomena of social activism, fake news, cybercrime, AI, and sustainability within a rewarding and professionally salient masters degree. Drawing on politics, philosophy, and computer science, this compelling interdisciplinary degree addresses new global frontiers facing political and business leaders.</p>\\n\\n\\t\\t\\t\\t\\t\\t\\t\\t\\t</div><!-- .masters-degree-content -->\\n\\n\\t\\t\\t\\t\\t\\t\\t\\t\\t<div class=\\'masters-degree-button\\'>\\n\\n\\t\\t\\t\\t\\t\\t\\t\\t\\t    <div class=\\'btn btn-default btn-block\\'>\\n\\n\\t\\t\\t\\t\\t\\t\\t\\t\\t        View Degree\\n\\t\\t\\t\\t\\t\\t\\t\\t\\t    </div><!-- .btn btn-default btn-block -->\\n\\n\\t\\t\\t\\t\\t\\t\\t\\t\\t</div><!-- .masters-degree-button -->\\n\\n\\t\\t\\t\\t\\t\\t\\t\\t</a><!-- .masters-degree -->\\n\\n\\t\\t\\t\\t\\t\\t\\t</div><!-- .col -->\\n\\n\\t\\t\\t\\t\\t\\t\\t\\n\\t\\t\\t\\t\\t\\t\\t<div class=\\'col-12 col-sm-6 col-lg-4 my-2 masters-degree\\'>\\n\\n\\t\\t\\t\\t\\t\\t\\t\\t<a href=\"https://www.nulondon.ac.uk/degrees/postgraduate/investment-banking/\" class=\"masters-degree-link\">\\n\\n\\t\\t\\t\\t\\t\\t\\t\\t\\t<div class=\\'masters-degree-image\\' style=\"background-image: url(https://www.nulondon.ac.uk/wp-content/uploads/2023/03/shutterstock_732185581-1110x645.jpg);\"></div><!-- .masters-degree-image -->\\n\\n\\t\\t\\t\\t\\t\\t\\t\\t\\t<div class=\\'masters-degree-content\\'>\\n\\n\\t\\t\\t\\t\\t\\t\\t\\t\\t    <p class=\"title\">MSc Global Investment Banking</p>\\n\\n\\t\\t\\t\\t\\t\\t\\t\\t\\t\\t<p><span style=\"font-weight: 400;\">Our MSc Global Investment Banking stands apart as a job role-focused degree for people wanting to enter investment banking, offering a unique and innovative pedagogical experience, with employability as a central tenet of the educational journey.</span></p>\\n\\n\\t\\t\\t\\t\\t\\t\\t\\t\\t</div><!-- .masters-degree-content -->\\n\\n\\t\\t\\t\\t\\t\\t\\t\\t\\t<div class=\\'masters-degree-button\\'>\\n\\n\\t\\t\\t\\t\\t\\t\\t\\t\\t    <div class=\\'btn btn-default btn-block\\'>\\n\\n\\t\\t\\t\\t\\t\\t\\t\\t\\t        View Degree\\n\\t\\t\\t\\t\\t\\t\\t\\t\\t    </div><!-- .btn btn-default btn-block -->\\n\\n\\t\\t\\t\\t\\t\\t\\t\\t\\t</div><!-- .masters-degree-button -->\\n\\n\\t\\t\\t\\t\\t\\t\\t\\t</a><!-- .masters-degree -->\\n\\n\\t\\t\\t\\t\\t\\t\\t</div><!-- .col -->\\n\\n\\t\\t\\t\\t\\t\\t\\t\\n\\t\\t\\t\\t\\t\\t\\t<div class=\\'col-12 col-sm-6 col-lg-4 my-2 masters-degree\\'>\\n\\n\\t\\t\\t\\t\\t\\t\\t\\t<a href=\"https://www.nulondon.ac.uk/degrees/postgraduate/philosophy-and-ai/\" class=\"masters-degree-link\">\\n\\n\\t\\t\\t\\t\\t\\t\\t\\t\\t<div class=\\'masters-degree-image\\' style=\"background-image: url(https://www.nulondon.ac.uk/wp-content/uploads/2020/04/shutterstock_1286139130-1110x740.jpg);\"></div><!-- .masters-degree-image -->\\n\\n\\t\\t\\t\\t\\t\\t\\t\\t\\t<div class=\\'masters-degree-content\\'>\\n\\n\\t\\t\\t\\t\\t\\t\\t\\t\\t    <p class=\"title\">MA Philosophy and Artificial Intelligence</p>\\n\\n\\t\\t\\t\\t\\t\\t\\t\\t\\t\\t<p><span style=\"font-weight: 400;\">Poised at the intersection of the humanities and technology, this innovative Masters degree can equip you with the combination of thinking, communication, and technical skills widely sought in sectors ranging from professional services, to the creative industries and government.</span></p>\\n\\n\\t\\t\\t\\t\\t\\t\\t\\t\\t</div><!-- .masters-degree-content -->\\n\\n\\t\\t\\t\\t\\t\\t\\t\\t\\t<div class=\\'masters-degree-button\\'>\\n\\n\\t\\t\\t\\t\\t\\t\\t\\t\\t    <div class=\\'btn btn-default btn-block\\'>\\n\\n\\t\\t\\t\\t\\t\\t\\t\\t\\t        View Degree\\n\\t\\t\\t\\t\\t\\t\\t\\t\\t    </div><!-- .btn btn-default btn-block -->\\n\\n\\t\\t\\t\\t\\t\\t\\t\\t\\t</div><!-- .masters-degree-button -->\\n\\n\\t\\t\\t\\t\\t\\t\\t\\t</a><!-- .masters-degree -->\\n\\n\\t\\t\\t\\t\\t\\t\\t</div><!-- .col -->\\n\\n\\t\\t\\t\\t\\t\\t\\t\\n\\t\\t\\t\\t</div><!-- .row -->\\n\\n\\t\\t    </div><!-- .container -->\\n\\n\\t\\t</div><!-- #postgraduate-degrees -->\\n\\n\\n\\n\\n\\t\\t\\n\\t\\t\\t<section id=\"degree-hub-content\" class=\\'section white content\\'>\\n\\n\\t\\t\\t\\t<div class=\\'container\\'>\\n\\n\\t\\t\\t\\t\\t<div class=\\'row\\'>\\n\\n\\t\\t\\t\\t\\t\\t<div class=\\'col-md-10 offset-md-1\\'>\\n\\n\\t\\t\\t\\t\\t\\t\\t<h2>Attend A Postgraduate Event</h2>\\n\\n\\t\\t\\t\\t\\t\\t\\t<p>Join our <a href=\"https://www.nulondon.ac.uk/study/visit-us/pg-events/events/\">postgraduate events</a>, and see if Northeastern University London is the place for you to flourish.</p>\\n\\n\\t\\t\\t\\t\\t\\t</div><!-- .col-md-10 offset-md-1 -->\\n\\n\\t\\t\\t\\t\\t</div><!-- .row -->\\n\\n\\t\\t\\t\\t</div><!-- .container -->\\n\\n\\t\\t\\t</section><!-- .content -->\\n\\n\\t\\t\\n\\n\\n\\t\\t<div id=\\'postgraduate-apply\\' class=\"section grey\">\\n\\n\\t\\t\\t<div class=\\'container\\'>\\n\\n\\t\\t\\t    <div class=\\'row\\'>\\n\\n\\t\\t\\t        <div class=\\'col-12 col-sm-8 offset-sm-2\\'>\\n\\n\\t\\t\\t\\t\\t\\t<h3>Find out more</h3>\\n\\n\\t\\t\\t\\t\\t\\t<div class=\\'row\\'>\\n\\n\\t\\t\\t\\t\\t\\t    <div class=\\'col-12 col-lg-6 offset-lg-3\\'>\\n\\n\\t\\t\\t\\t\\t\\t        <a href=\"https://www.nulondon.ac.uk/prospectus/\" class=\"btn btn-primary btn-block\">Request a prospectus</a><!-- . -->\\n\\n\\t\\t\\t\\t\\t\\t    </div><!-- .col -->\\n\\n\\t\\t\\t\\t\\t\\t</div><!-- .row -->\\n\\n\\t\\t\\t        </div><!-- .col -->\\n\\n\\t\\t\\t    </div><!-- .row -->\\n\\n\\t\\t\\t</div><!-- .container -->\\n\\n\\t\\t</div><!-- #postgraduate-apply -->\\n\\n\\n\\n\\t\\t\\n\\n\\n\\n\\t\\n</div><!-- #content -->\\n\\n\\n<footer id=\"footer\">\\n\\n\\n    <aside id=\"footer-social\">\\n\\n        <div class=\"container\">\\n\\n            <div class=\"row\">\\n\\n                <!--<div class=\"col-12 col-sm-6 footer-social-newsletter d-none\">\\n\\n                    <p class=\"title\">Got a question for us?</p>\\n\\n                    <a href=\"/contact/\" class=\"btn btn-primary\">Get in touch</a>\\n\\n                </div>-->\\n\\n                <div class=\"col-12 footer-social-buttons d-flex flex-column flex-md-row justify-content-center align-items-center\">\\n\\n                    <p class=\"title d-block\">Follow, like, and subscribe</p>\\n\\n                    <nav class=\"social-nav text-center d-block\">\\n\\n                        <a href=\"https://www.facebook.com/NortheasternLDN\" class=\"social-link-facebook\" title=\"Like Northeastern University London on Facebook\">\\n                            <i class=\"fab fa-facebook\"></i>\\n                        </a>\\n\\n                        <a href=\"https://twitter.com/NortheasternLDN\" class=\"social-link-twitter\" title=\"Follow Northeastern University London on Twitter\">\\n                            <i class=\"fab fa-twitter\"></i>\\n                        </a>\\n\\n                        <a href=\"https://www.instagram.com/northeastern.ldn/\" class=\"social-link-instagram\" title=\"Follow Northeastern University London on Instagram\">\\n                            <i class=\"fab fa-instagram\"></i>\\n                        </a>\\n\\n                        <a href=\"https://www.youtube.com/@NortheasternLDN\" class=\"social-link-youtube\" title=\"Subscribe to Northeastern University London on YouTube\">\\n                            <i class=\"fab fa-youtube\"></i>\\n                        </a>\\n                        \\n                        <a href=\"https://www.tiktok.com/@northeasternldn\" class=\"social-link-tiktok\" title=\"Follow to Northeastern University London on TikTok\">\\n                            <i class=\"fab fa-tiktok\"></i>\\n                        </a>\\n                        \\n                    </nav>\\n\\n                </div>\\n\\n            </div>\\n\\n        </div>\\n\\n    </aside><!-- #footer-social -->\\n\\n\\n\\n    <nav id=\"footer-nav\">\\n\\n        <div class=\"container\">\\n\\n            <div class=\"row\">\\n\\n                <div class=\"column col-md-3 col-sm-6 d-none d-sm-block\">\\n\\n                    <p class=\"menu-name\">Admissions</p>\\n\\n                    <div class=\"menu-admissions-container\"><ul id=\"menu-admissions\" class=\"menu\"><li id=\"menu-item-68752\" class=\"menu-item menu-item-type-custom menu-item-object-custom menu-item-68752\"><a href=\"https://www.nulondon.ac.uk/nch-admissions/\">Northeastern University London Admissions</a></li>\\n<li id=\"menu-item-68751\" class=\"menu-item menu-item-type-custom menu-item-object-custom menu-item-68751\"><a href=\"/home-fees/\">Fees and funding</a></li>\\n<li id=\"menu-item-55092\" class=\"menu-item menu-item-type-custom menu-item-object-custom menu-item-55092\"><a href=\"https://www.nulondon.ac.uk/entry-requirements-country/\">Entry requirements</a></li>\\n</ul></div>\\n                </div><!-- .column -->\\n\\n                <div class=\"column col-md-3 col-sm-6 d-none d-sm-block\">\\n\\n                    <p class=\"menu-name\">Degree programmes</p>\\n\\n                    <div class=\"menu-degree-programmes-container\"><ul id=\"menu-degree-programmes\" class=\"menu\"><li id=\"menu-item-4542\" class=\"menu-item menu-item-type-custom menu-item-object-custom menu-item-4542\"><a href=\"/degrees-2023/\">Undergraduate study</a></li>\\n<li id=\"menu-item-64256\" class=\"menu-item menu-item-type-custom menu-item-object-custom menu-item-64256\"><a href=\"https://www.nulondon.ac.uk/notice/\">Notice to prospective students</a></li>\\n<li id=\"menu-item-57660\" class=\"menu-item menu-item-type-custom menu-item-object-custom current-menu-item menu-item-57660\"><a href=\"https://www.nulondon.ac.uk/degrees/postgraduate/\" aria-current=\"page\">Postgraduate study</a></li>\\n</ul></div>\\n                </div><!-- .column -->\\n\\n                <div class=\"column col-md-3 col-sm-6 d-none d-sm-block\">\\n\\n                    <p class=\"menu-name\">International</p>\\n\\n                    <div class=\"menu-international-container\"><ul id=\"menu-international\" class=\"menu\"><li id=\"menu-item-4592\" class=\"menu-item menu-item-type-custom menu-item-object-custom menu-item-4592\"><a href=\"/hubs/international-students/\">International students</a></li>\\n</ul></div>\\n                </div><!-- .column -->\\n\\n                <div class=\"column col-md-3 col-sm-6 d-none d-sm-block\">\\n\\n                    <p class=\"menu-name\">Life at NU London</p>\\n\\n                    <div class=\"menu-life-at-nu-london-container\"><ul id=\"menu-life-at-nu-london\" class=\"menu\"><li id=\"menu-item-54792\" class=\"menu-item menu-item-type-custom menu-item-object-custom menu-item-54792\"><a href=\"https://www.nulondon.ac.uk/ambassadors/\">Chat to our students</a></li>\\n</ul></div>\\n                </div><!-- .column -->\\n\\n\\n                <div class=\"column col-xs-12 d-block d-sm-none\">\\n\\n                    <p class=\"menu-name\">Admissions</p>\\n\\n                    <div class=\"menu-admissions-container\"><ul id=\"menu-admissions-1\" class=\"menu\"><li class=\"menu-item menu-item-type-custom menu-item-object-custom menu-item-68752\"><a href=\"https://www.nulondon.ac.uk/nch-admissions/\">Northeastern University London Admissions</a></li>\\n<li class=\"menu-item menu-item-type-custom menu-item-object-custom menu-item-68751\"><a href=\"/home-fees/\">Fees and funding</a></li>\\n<li class=\"menu-item menu-item-type-custom menu-item-object-custom menu-item-55092\"><a href=\"https://www.nulondon.ac.uk/entry-requirements-country/\">Entry requirements</a></li>\\n</ul></div>\\n                </div><!-- .column -->\\n\\n            </div><!-- .row -->\\n\\n        </div><!-- .container -->\\n\\n    </nav><!-- #footer-nav -->\\n\\n\\n\\n    <div id=\"footer-base\">\\n\\n        <div class=\"container\">\\n\\n            <div class=\"row\">\\n\\n                <div id=\"footer-contact-details\" class=\"col-12 col-md-3\">\\n\\n                    <a href=\"/\" class=\"logo\" title=\"Northeastern University London\">\\n                        <img  alt=\"Northeastern University London\" data-src=\"https://www.nulondon.ac.uk/wp-content/themes/new-college-of-the-humanities/assets/images/logo-northeastern-uni-london-nch.svg\" class=\"lazyload\" src=\"data:image/gif;base64,R0lGODlhAQABAAAAACH5BAEKAAEALAAAAAABAAEAAAICTAEAOw==\"><noscript><img  alt=\"Northeastern University London\" data-src=\"https://www.nulondon.ac.uk/wp-content/themes/new-college-of-the-humanities/assets/images/logo-northeastern-uni-london-nch.svg\" class=\"lazyload\" src=\"data:image/gif;base64,R0lGODlhAQABAAAAACH5BAEKAAEALAAAAAABAAEAAAICTAEAOw==\"><noscript><img src=\"https://www.nulondon.ac.uk/wp-content/themes/new-college-of-the-humanities/assets/images/logo-northeastern-uni-london-nch.svg\" alt=\"Northeastern University London\"></noscript></noscript>\\n                    </a><!-- .logo -->\\n\\n                </div><!-- #footer-contact-details -->\\n\\n                <div id=\"footer-content\" class=\"col-12 col-md-9\">\\n\\n                    <div class=\"row\">\\n\\n                        <div class=\"vcard col-12\">\\n\\n                            <div class=\"org screen-reader-text\">Northeastern University London</div>\\n                            \\n                            <div class=\"adr\">\\n                                Address: \\n                                <span class=\"street-address\"> Devon House, 58 St Katharine\\xe2\\x80\\x99s Way</span>,\\n                                <span class=\"locality\">London</span>,\\n                                <span class=\"postal-code\">E1W 1LP</span>,\\n                                <span class=\"country-name\">United Kingdom</span>\\n                            </div>\\n\\n                            <strong>Tel: <a href=\"tel:+442076374550\" class=\"tel\">+44 (0)20 7637 4550</a> | Email: </strong> \\n                            <a class=\"email\" href=\"mailto:info@nulondon.ac.uk\">info@nulondon.ac.uk</a>\\n\\n                        </div>\\n\\n                        <div class=\\'col-12\\'>\\n\\n                            <p class=\"mt-1 mb-0 text-white small\">Northeastern University London is a charity registered with the Charity Commission for England and Wales (charity number 1189858.)</p>\\n\\n                        </div><!-- .col -->\\n\\n                    </div><!-- .row -->\\n\\n                    <div class=\"row\">\\n\\n                        <nav id=\"footer-legal-nav\">\\n\\n                            <div class=\"menu-footer-legal-links-container\"><ul id=\"menu-footer-legal-links\" class=\"menu\"><li id=\"menu-item-55002\" class=\"menu-item menu-item-type-post_type menu-item-object-page menu-item-55002\"><a href=\"https://www.nulondon.ac.uk/about-us/contact/\">Contact Us</a></li>\\n<li id=\"menu-item-55012\" class=\"menu-item menu-item-type-custom menu-item-object-custom menu-item-55012\"><a href=\"https://www.nulondon.ac.uk/visit-us/\">Open Day Registration</a></li>\\n<li id=\"menu-item-55032\" class=\"menu-item menu-item-type-custom menu-item-object-custom menu-item-55032\"><a href=\"https://www.nulondon.ac.uk/prospectus/\">Request a Prospectus</a></li>\\n<li id=\"menu-item-55062\" class=\"menu-item menu-item-type-custom menu-item-object-custom menu-item-55062\"><a href=\"https://www.nulondon.ac.uk/about-us/academic-handbook/access-and-participation/\">Access and Participation Plan</a></li>\\n<li id=\"menu-item-1095\" class=\"menu-item menu-item-type-custom menu-item-object-custom menu-item-1095\"><a href=\"https://www.nulondon.ac.uk/about-us/academic-handbook/nch-policies-and-procedures/data-protection/\">Data Protection Policy</a></li>\\n<li id=\"menu-item-1100\" class=\"menu-item menu-item-type-custom menu-item-object-custom menu-item-1100\"><a href=\"https://www.nulondon.ac.uk/about-us/academic-handbook/nch-policies-and-procedures/data-protection/\">Cookie Policy</a></li>\\n</ul></div>\\n                        </nav><!-- #footer-legal-nav -->\\n\\n                    </div><!-- .row -->\\n\\n                </div><!-- #footer-content -->\\n\\n            </div><!-- .row -->\\n\\n        </div><!-- .container -->\\n\\n    </div><!-- #footer-base -->\\n\\n</footer>\\n\\n\\n\\n\\n\\n</div><!-- #page -->\\n\\n\\n\\n\\n\\n\\n\\n\\n \\n\\n<!-- END Footer Scripts -->\\n<!-- WP FOOTER -->\\n<!-- Custom Facebook Feed JS -->\\r\\n<script type=\"text/javascript\">var cffajaxurl = \"https://www.nulondon.ac.uk/wp-admin/admin-ajax.php\";\\r\\nvar cfflinkhashtags = \"true\";\\r\\n</script>\\r\\n        <style>\\n            .searchwp-live-search-results {\\n                opacity: 0;\\n                transition: opacity .25s ease-in-out;\\n                -moz-transition: opacity .25s ease-in-out;\\n                -webkit-transition: opacity .25s ease-in-out;\\n                height: 0;\\n                overflow: hidden;\\n                z-index: 9999995; /* Exceed SearchWP Modal Search Form overlay. */\\n                position: absolute;\\n                display: none;\\n            }\\n\\n            .searchwp-live-search-results-showing {\\n                display: block;\\n                opacity: 1;\\n                height: auto;\\n                overflow: auto;\\n            }\\n\\n            .searchwp-live-search-no-results {\\n                padding: 3em 2em 0;\\n                text-align: center;\\n            }\\n\\n            .searchwp-live-search-no-min-chars:after {\\n                content: \"Continue typing\";\\n                display: block;\\n                text-align: center;\\n                padding: 2em 2em 0;\\n            }\\n        </style>\\n                <script>\\n            var _SEARCHWP_LIVE_AJAX_SEARCH_BLOCKS = true;\\n            var _SEARCHWP_LIVE_AJAX_SEARCH_ENGINE = \\'default\\';\\n            var _SEARCHWP_LIVE_AJAX_SEARCH_CONFIG = \\'default\\';\\n        </script>\\n        <script type=\"text/javascript\" src=\"https://www.nulondon.ac.uk/wp-content/plugins/contact-form-7/includes/swv/js/index.js\" id=\"swv-js\"></script>\\n<script type=\"text/javascript\" id=\"contact-form-7-js-extra\">\\n/* <![CDATA[ */\\nvar wpcf7 = {\"api\":{\"root\":\"https:\\\\/\\\\/www.nulondon.ac.uk\\\\/wp-json\\\\/\",\"namespace\":\"contact-form-7\\\\/v1\"}};\\n/* ]]> */\\n</script>\\n<script type=\"text/javascript\" src=\"https://www.nulondon.ac.uk/wp-content/plugins/contact-form-7/includes/js/index.js\" id=\"contact-form-7-js\"></script>\\n<script type=\"text/javascript\" id=\"leadin-script-loader-js-js-extra\">\\n/* <![CDATA[ */\\nvar leadin_wordpress = {\"userRole\":\"visitor\",\"pageType\":\"post\",\"leadinPluginVersion\":\"10.2.17\"};\\n/* ]]> */\\n</script>\\n<script type=\"text/javascript\" src=\"https://js.hs-scripts.com/4544478.js\" id=\"leadin-script-loader-js-js\"></script>\\n<script type=\"text/javascript\" src=\"https://www.nulondon.ac.uk/wp-content/themes/new-college-of-the-humanities/build/vendor/jquery/dist/jquery.min.js\" id=\"jquery-js\"></script>\\n<script type=\"text/javascript\" src=\"https://www.nulondon.ac.uk/wp-content/plugins/custom-facebook-feed/assets/js/cff-scripts.min.js\" id=\"cffscripts-js\"></script>\\n<script type=\"text/javascript\" src=\"https://www.nulondon.ac.uk/wp-content/plugins/wp-smush-pro/app/assets/js/smush-lazy-load.min.js\" id=\"smush-lazy-load-js\"></script>\\n<script type=\"text/javascript\" src=\"https://www.nulondon.ac.uk/wp-content/themes/new-college-of-the-humanities/build/vendor/popper.js/dist/umd/popper.min.js\" id=\"popper-js\"></script>\\n<script type=\"text/javascript\" src=\"https://www.nulondon.ac.uk/wp-content/themes/new-college-of-the-humanities/build/vendor/jquery-background-video/jquery.background-video.min.js\" id=\"background-video-js\"></script>\\n<script type=\"text/javascript\" src=\"https://www.nulondon.ac.uk/wp-content/themes/new-college-of-the-humanities/build/vendor/bootstrap/dist/js/bootstrap.min.js\" id=\"bootstrap-js-js\"></script>\\n<script type=\"text/javascript\" id=\"swp-live-search-client-js-extra\">\\n/* <![CDATA[ */\\nvar searchwp_live_search_params = [];\\nsearchwp_live_search_params = {\"ajaxurl\":\"https:\\\\/\\\\/www.nulondon.ac.uk\\\\/wp-admin\\\\/admin-ajax.php\",\"origin_id\":70104,\"config\":{\"default\":{\"engine\":\"default\",\"input\":{\"delay\":300,\"min_chars\":3},\"results\":{\"position\":\"bottom\",\"width\":\"css\",\"offset\":{\"x\":0,\"y\":30}},\"spinner\":{\"lines\":12,\"length\":8,\"width\":3,\"radius\":8,\"scale\":1,\"corners\":1,\"color\":\"#424242\",\"fadeColor\":\"transparent\",\"speed\":1,\"rotate\":0,\"animation\":\"searchwp-spinner-line-fade-quick\",\"direction\":1,\"zIndex\":2000000000,\"className\":\"spinner\",\"top\":\"50%\",\"left\":\"50%\",\"shadow\":\"0 0 1px transparent\",\"position\":\"absolute\"}},\"videos\":{\"engine\":\"default\",\"input\":{\"delay\":300,\"min_chars\":3},\"results\":{\"position\":\"bottom\",\"width\":\"css\",\"offset\":{\"x\":0,\"y\":30}},\"spinner\":{\"lines\":12,\"length\":8,\"width\":3,\"radius\":8,\"scale\":1,\"corners\":1,\"color\":\"#424242\",\"fadeColor\":\"transparent\",\"speed\":1,\"rotate\":0,\"animation\":\"searchwp-spinner-line-fade-quick\",\"direction\":1,\"zIndex\":2000000000,\"className\":\"spinner\",\"top\":\"50%\",\"left\":\"50%\",\"shadow\":\"0 0 1px transparent\",\"position\":\"absolute\"},\"parent_el\":\"#video-live-search-results\"}},\"msg_no_config_found\":\"No valid SearchWP Live Search configuration found!\",\"aria_instructions\":\"When autocomplete results are available use up and down arrows to review and enter to go to the desired page. Touch device users, explore by touch or with swipe gestures.\"};;\\n/* ]]> */\\n</script>\\n<script type=\"text/javascript\" src=\"https://www.nulondon.ac.uk/wp-content/plugins/searchwp-live-ajax-search/assets/javascript/dist/script.min.js\" id=\"swp-live-search-client-js\"></script>\\n<script type=\"text/javascript\" src=\"https://cdnjs.cloudflare.com/ajax/libs/jspdf/1.5.3/jspdf.min.js\" id=\"js-pdf-js\"></script>\\n<script type=\"text/javascript\" src=\"https://html2canvas.hertzen.com/dist/html2canvas.js\" id=\"html2canvas-js\"></script>\\n<script type=\"text/javascript\" src=\"https://www.nulondon.ac.uk/wp-content/themes/new-college-of-the-humanities/build/vendor/js.cookie.min.js\" id=\"js-cookie-js\"></script>\\n<script type=\"text/javascript\" src=\"https://www.nulondon.ac.uk/wp-content/themes/new-college-of-the-humanities/build/js/main.min.js\" id=\"new-college-of-the-humanities-js-js\"></script>\\n<script type=\"text/javascript\" src=\"https://maps.googleapis.com/maps/api/js\" id=\"googlemaps-js\"></script>\\n\\n</body>\\n</html>\\n'"
      ]
     },
     "execution_count": 1,
     "metadata": {},
     "output_type": "execute_result"
    }
   ],
   "source": [
    "# import the urlib library into your application\n",
    "import urllib.request as urllib\n",
    "\n",
    "# setup a variable called html to receive the object information.\n",
    "html = urllib.urlopen(\"https://www.nulondon.ac.uk/degrees/postgraduate/\")\n",
    "# variable contents will read the HTML layout of the page you access.\n",
    "contents = html.read()\n",
    "\n",
    "# Let's try to print `contents` in class\n",
    "contents\n",
    "# The contents will be of readable or non-readable format!"
   ]
  },
  {
   "cell_type": "markdown",
   "metadata": {
    "slideshow": {
     "slide_type": "slide"
    }
   },
   "source": [
    "## 3. Parsing with BeautifulSoup\n",
    "\n",
    "__BeautifulSoup__ is a Web Scraping library that converts HTML pages into easily-traversible Python objects, retaining the general structure of a web page:\n",
    "\n",
    "```html\n",
    "<html>\n",
    "   <head>...</head>\n",
    "   <body>...</body>\n",
    "</html>\n",
    "```\n",
    "\n",
    "#### Note\n",
    "Make sure you have installed first the Python library __BeautifulSoup4__\n",
    "You can install it like so:\n",
    "\n",
    "```\n",
    "$ pip install beautifulsoup4\n",
    "\n",
    "or \n",
    "\n",
    "$ conda install beautifulsoup4\n",
    "```\n",
    "\n",
    "For more information read the documentation: https://pypi.org/project/beautifulsoup4/"
   ]
  },
  {
   "cell_type": "code",
   "execution_count": 2,
   "metadata": {
    "slideshow": {
     "slide_type": "slide"
    }
   },
   "outputs": [
    {
     "data": {
      "text/plain": [
       "<body class=\"degrees-template degrees-template-page-degree-type-postgraduate degrees-template-page-degree-type-postgraduate-php single single-degrees postid-70104\" data-header-ctas=\"visible\">\n",
       "<!-- NUL Google Tag Manager (noscript) -->\n",
       "<noscript><iframe class=\"lazyload\" data-src=\"https://www.googletagmanager.com/ns.html?id=GTM-MZHBDT\" height=\"0\" src=\"data:image/gif;base64,R0lGODlhAQABAAAAACH5BAEKAAEALAAAAAABAAEAAAICTAEAOw==\" style=\"display:none;visibility:hidden\" width=\"0\"></iframe></noscript>\n",
       "<!-- End NUL Google Tag Manager (noscript) -->\n",
       "<!-- NU Google Tag Manager (noscript) (two tags) -->\n",
       "<noscript><iframe class=\"lazyload\" data-src=\"https://www.googletagmanager.com/ns.html?id=GTM-WGQLLJ\" height=\"0\" src=\"data:image/gif;base64,R0lGODlhAQABAAAAACH5BAEKAAEALAAAAAABAAEAAAICTAEAOw==\" style=\"display:none;visibility:hidden\" width=\"0\"></iframe></noscript>\n",
       "<noscript><iframe class=\"lazyload\" data-src=\"https://www.googletagmanager.com/ns.html?id=GTM-PKNLJQX\" height=\"0\" src=\"data:image/gif;base64,R0lGODlhAQABAAAAACH5BAEKAAEALAAAAAABAAEAAAICTAEAOw==\" style=\"display:none;visibility:hidden\" width=\"0\"></iframe></noscript>\n",
       "<!-- End NU Google Tag Manager (noscript) -->\n",
       "<div class=\"hfeed site\" id=\"page\">\n",
       "<div class=\"header-ctas-nch-blue-2\" id=\"header-ctas\">\n",
       "<div class=\"container\">\n",
       "<div class=\"row\">\n",
       "<div class=\"col-12\">\n",
       "<p><strong>Click here to start your application.</strong> <a href=\"https://www.nulondon.ac.uk/application/\">Apply now</a></p>\n",
       "</div>\n",
       "</div><!-- .row -->\n",
       "</div><!-- .container -->\n",
       "</div><!-- #header-ctas -->\n",
       "<nav id=\"misc-nav\">\n",
       "<div class=\"container-fluid\">\n",
       "<div class=\"row\">\n",
       "<div class=\"col-12 col-sm-6\">\n",
       "<span class=\"phone-number\"><i class=\"fa fa-phone\"></i> <a href=\"tel:+442076374550\">+44 (0)20 7637 4550</a></span>\n",
       "</div><!-- .col-12 -->\n",
       "<div class=\"col-12 col-sm-6\">\n",
       "<nav class=\"misc-nav\">\n",
       "<a href=\"https://www.nulondon.ac.uk/nch-student-hub/\" target=\"\">Current students</a>\n",
       "<a href=\"https://www.nulondon.ac.uk/offer-holders/\" target=\"\">Offer holders</a>\n",
       "<a href=\"https://nulondon.peoplehr.net/\" target=\"\">Staff Only</a>\n",
       "</nav><!-- .misc-nav -->\n",
       "</div><!-- .col-12 -->\n",
       "</div><!-- .row -->\n",
       "</div><!-- .container-fluid -->\n",
       "</nav><!-- #misc-nav -->\n",
       "<nav class=\"navbar navbar-default navbar-expand-lg\" id=\"main-nav\">\n",
       "<div class=\"container-fluid\">\n",
       "<!-- Brand and toggle get grouped for better mobile display -->\n",
       "<div class=\"navbar-header\">\n",
       "<button aria-expanded=\"false\" class=\"navbar-toggle collapsed\" data-target=\"#nch-main-nav-collapse\" data-toggle=\"collapse\" type=\"button\">\n",
       "<i class=\"icon\">\n",
       "<span></span>\n",
       "<span></span>\n",
       "<span></span>\n",
       "<span></span>\n",
       "</i>\n",
       "</button>\n",
       "<a class=\"navbar-brand\" href=\"/\">\n",
       "<img alt=\"Northeastern University London\" class=\"lazyload\" data-src=\"https://www.nulondon.ac.uk/wp-content/themes/new-college-of-the-humanities/assets/images/logo-northeastern-uni-london-nch.svg\" src=\"data:image/gif;base64,R0lGODlhAQABAAAAACH5BAEKAAEALAAAAAABAAEAAAICTAEAOw==\"/><noscript><img alt=\"Northeastern University London\" class=\"lazyload\" data-src=\"https://www.nulondon.ac.uk/wp-content/themes/new-college-of-the-humanities/assets/images/logo-northeastern-uni-london-nch.svg\" src=\"data:image/gif;base64,R0lGODlhAQABAAAAACH5BAEKAAEALAAAAAABAAEAAAICTAEAOw==\"/><noscript><img alt=\"Northeastern University London\" src=\"https://www.nulondon.ac.uk/wp-content/themes/new-college-of-the-humanities/assets/images/logo-northeastern-uni-london-nch.svg\"/></noscript></noscript>\n",
       "</a>\n",
       "</div>\n",
       "<!-- Collect the nav links, forms, and other content for toggling -->\n",
       "<div class=\"collapse navbar-collapse\" id=\"nch-main-nav-collapse\">\n",
       "<ul class=\"nav navbar-nav mr-auto\">\n",
       "<li class=\"nav-item dropdown\">\n",
       "<a aria-expanded=\"false\" aria-haspopup=\"true\" class=\"nav-link dropdown-toggle is-sub-nav\" data-toggle=\"dropdown\" href=\"#\" id=\"navbarDropdown\" role=\"button\">Study</a>\n",
       "<div aria-labelledby=\"navbarDropdown\" class=\"dropdown-menu\">\n",
       "<div class=\"container\">\n",
       "<div class=\"row\">\n",
       "<div class=\"col-12 col-lg-10 offset-lg-1\">\n",
       "<div class=\"row\">\n",
       "<div class=\"col-12 col-md-8 links\">\n",
       "<a class=\"menu-link\" href=\"https://www.nulondon.ac.uk/degrees-2023/\" target=\"\">Undergraduate Degrees</a>\n",
       "<a class=\"menu-link\" href=\"https://www.nulondon.ac.uk/degrees/postgraduate/\" target=\"\">Postgraduate Degrees</a>\n",
       "<a class=\"menu-link\" href=\"https://www.nulondon.ac.uk/study/apprenticeships/\" target=\"\">Workforce Development</a>\n",
       "<a class=\"menu-link\" href=\"https://www.nulondon.ac.uk/pre-university-programmes\" target=\"\">Pre-University Programmes</a>\n",
       "<a class=\"menu-link\" href=\"https://www.nulondon.ac.uk/study/nch-admissions/\" target=\"\">Admissions</a>\n",
       "<a class=\"menu-link\" href=\"https://www.nulondon.ac.uk/study/international-students-at-nch/visa/\" target=\"\">Visas</a>\n",
       "<a class=\"menu-link\" href=\"https://www.nulondon.ac.uk/entry-requirements-country/\" target=\"\">Entry requirements</a>\n",
       "<a class=\"menu-link\" href=\"https://www.nulondon.ac.uk/fees-and-funding/\" target=\"\">Fees &amp; Funding</a>\n",
       "</div><!-- .col-12 -->\n",
       "<div class=\"col-12 col-md-4\">\n",
       "<a class=\"btn btn-primary btn-block\" href=\"https://www.nulondon.ac.uk/application/\" target=\"_blank\">Start your application</a>\n",
       "<a class=\"btn btn-default btn-block\" href=\"https://www.nulondon.ac.uk/prospectus/\" target=\"_blank\">Download a prospectus</a>\n",
       "<a class=\"btn btn-default btn-block\" href=\"https://www.nulondon.ac.uk/study/visit-us/\" target=\"\">Visit us</a>\n",
       "</div><!-- .col-12 -->\n",
       "</div><!-- .row -->\n",
       "</div><!-- .col -->\n",
       "</div><!-- .row -->\n",
       "</div><!-- .container -->\n",
       "</div><!-- .dropdown-menu -->\n",
       "</li><!-- .dropdown -->\n",
       "<li class=\"nav-item dropdown\">\n",
       "<a aria-expanded=\"false\" aria-haspopup=\"true\" class=\"nav-link dropdown-toggle\" data-toggle=\"dropdown\" href=\"#\" id=\"navbarDropdown\" role=\"button\">Faculties</a>\n",
       "<div aria-labelledby=\"navbarDropdown\" class=\"dropdown-menu\">\n",
       "<div class=\"container\">\n",
       "<div class=\"row\">\n",
       "<div class=\"col-12 col-lg-10 offset-lg-1\">\n",
       "<div class=\"row\">\n",
       "<div class=\"col-12 col-md-8 links\">\n",
       "<a class=\"menu-link\" href=\"https://www.nulondon.ac.uk/cmens-faculty/\" target=\"\">Computer &amp; Data Science</a>\n",
       "<a class=\"menu-link\" href=\"https://www.nulondon.ac.uk/faculties/economics-faculty/\" target=\"\">Economics</a>\n",
       "<a class=\"menu-link\" href=\"https://www.nulondon.ac.uk/faculties/english-faculty-2/\" target=\"\">English</a>\n",
       "<a class=\"menu-link\" href=\"https://www.nulondon.ac.uk/faculties/history-faculty/\" target=\"\">History faculty</a>\n",
       "<a class=\"menu-link\" href=\"https://www.nulondon.ac.uk/faculties/law-faculty/\" target=\"\">Law </a>\n",
       "<a class=\"menu-link\" href=\"https://www.nulondon.ac.uk/faculties/philosophy-faculty/\" target=\"\">Philosophy </a>\n",
       "<a class=\"menu-link\" href=\"https://www.nulondon.ac.uk/faculties/politics-ir-faculty/\" target=\"\">Politics &amp; IR </a>\n",
       "<a class=\"menu-link\" href=\"https://www.nulondon.ac.uk/faculties/research-at-nch/\" target=\"\">Research and External Recognition</a>\n",
       "<a class=\"menu-link\" href=\"https://www.nulondon.ac.uk/academic-management-structure/\" target=\"\">Academic Management Structure</a>\n",
       "</div><!-- .col-12 -->\n",
       "<div class=\"col-12 col-md-4\">\n",
       "<a class=\"btn btn-primary btn-block\" href=\"https://www.nulondon.ac.uk/degrees\" target=\"_blank\">Browse our subject areas</a>\n",
       "<a class=\"btn btn-default btn-block\" href=\"https://www.nulondon.ac.uk/blogs/academic\" target=\"_blank\">Academic blog</a>\n",
       "<a class=\"btn btn-default btn-block\" href=\"https://www.nulondon.ac.uk/research/\" target=\"_blank\">Research</a>\n",
       "</div><!-- .col-12 -->\n",
       "</div><!-- .row -->\n",
       "</div><!-- .col -->\n",
       "</div><!-- .row -->\n",
       "</div><!-- .container -->\n",
       "</div><!-- .dropdown-menu -->\n",
       "</li><!-- .dropdown -->\n",
       "<li class=\"nav-item dropdown\">\n",
       "<a aria-expanded=\"false\" aria-haspopup=\"true\" class=\"nav-link dropdown-toggle\" data-toggle=\"dropdown\" href=\"#\" id=\"navbarDropdown\" role=\"button\">Student Life</a>\n",
       "<div aria-labelledby=\"navbarDropdown\" class=\"dropdown-menu\">\n",
       "<div class=\"container\">\n",
       "<div class=\"row\">\n",
       "<div class=\"col-12 col-lg-10 offset-lg-1\">\n",
       "<div class=\"row\">\n",
       "<div class=\"col-12 col-md-8 links\">\n",
       "<a class=\"menu-link\" href=\"https://www.nulondon.ac.uk/student-life/life-in-london/\" target=\"\">Life in London</a>\n",
       "<a class=\"menu-link\" href=\"https://www.nulondon.ac.uk/student-life/choose-accommodation/\" target=\"\">Accommodation</a>\n",
       "<a class=\"menu-link\" href=\"https://www.nusu.org.uk/\" target=\"_blank\">Student Union</a>\n",
       "<a class=\"menu-link\" href=\"https://www.nulondon.ac.uk/study/international-students-at-nch/\" target=\"\">International Students</a>\n",
       "<a class=\"menu-link\" href=\"https://www.nulondon.ac.uk/student-life/life-in-london/student-support/\" target=\"\">Student Support &amp; Development</a>\n",
       "<a class=\"menu-link\" href=\"https://www.nulondon.ac.uk/student-life/campus/\" target=\"\">Our Campus</a>\n",
       "<a class=\"menu-link\" href=\"https://www.nulondon.ac.uk/student-life/ondemand/\" target=\"\">On Demand Content</a>\n",
       "</div><!-- .col-12 -->\n",
       "<div class=\"col-12 col-md-4\">\n",
       "<a class=\"btn btn-primary btn-block\" href=\"https://www.nulondon.ac.uk/blogs/student/\" target=\"_blank\">Student blog</a>\n",
       "<a class=\"btn btn-default btn-block\" href=\"https://www.nulondon.ac.uk/ambassadors/\" target=\"\">Chat to our students</a>\n",
       "</div><!-- .col-12 -->\n",
       "</div><!-- .row -->\n",
       "</div><!-- .col -->\n",
       "</div><!-- .row -->\n",
       "</div><!-- .container -->\n",
       "</div><!-- .dropdown-menu -->\n",
       "</li><!-- .dropdown -->\n",
       "<li class=\"nav-item dropdown\">\n",
       "<a aria-expanded=\"false\" aria-haspopup=\"true\" class=\"nav-link dropdown-toggle\" data-toggle=\"dropdown\" href=\"#\" id=\"navbarDropdown\" role=\"button\">Employability</a>\n",
       "<div aria-labelledby=\"navbarDropdown\" class=\"dropdown-menu\">\n",
       "<div class=\"container\">\n",
       "<div class=\"row\">\n",
       "<div class=\"col-12 col-lg-10 offset-lg-1\">\n",
       "<div class=\"row\">\n",
       "<div class=\"col-12 col-md-8 links\">\n",
       "<a class=\"menu-link\" href=\"https://www.nulondon.ac.uk/employability/\" target=\"\">Employability</a>\n",
       "<a class=\"menu-link\" href=\"https://www.nulondon.ac.uk/employability/careers-advice/\" target=\"\">Careers Advice</a>\n",
       "<a class=\"menu-link\" href=\"https://www.nulondon.ac.uk/employability/employer-relations/\" target=\"\">Employer relations</a>\n",
       "<a class=\"menu-link\" href=\"https://www.nulondon.ac.uk/employability/graduate-destinations/\" target=\"\">Graduate destinations</a>\n",
       "</div><!-- .col-12 -->\n",
       "<div class=\"col-12 col-md-4\">\n",
       "<a class=\"btn btn-primary btn-block\" href=\"https://www.nulondon.ac.uk/about-us/visit-us/\" target=\"\">Book an Open Day</a>\n",
       "<a class=\"btn btn-default btn-block\" href=\"https://www.nulondon.ac.uk/prospectus/\" target=\"\">Download a Prospectus</a>\n",
       "</div><!-- .col-12 -->\n",
       "</div><!-- .row -->\n",
       "</div><!-- .col -->\n",
       "</div><!-- .row -->\n",
       "</div><!-- .container -->\n",
       "</div><!-- .dropdown-menu -->\n",
       "</li><!-- .dropdown -->\n",
       "<li class=\"nav-item dropdown\">\n",
       "<a aria-expanded=\"false\" aria-haspopup=\"true\" class=\"nav-link dropdown-toggle\" data-toggle=\"dropdown\" href=\"#\" id=\"navbarDropdown\" role=\"button\">About</a>\n",
       "<div aria-labelledby=\"navbarDropdown\" class=\"dropdown-menu\">\n",
       "<div class=\"container\">\n",
       "<div class=\"row\">\n",
       "<div class=\"col-12 col-lg-10 offset-lg-1\">\n",
       "<div class=\"row\">\n",
       "<div class=\"col-12 col-md-8 links\">\n",
       "<a class=\"menu-link\" href=\"https://www.nulondon.ac.uk/about-us/\" target=\"\">About NU London</a>\n",
       "<a class=\"menu-link\" href=\"https://www.nulondon.ac.uk/about-us/contact/\" target=\"\">Find &amp; contact us</a>\n",
       "<a class=\"menu-link\" href=\"https://www.nulondon.ac.uk/about-us/job-opportunities/\" target=\"\">Work at NU London</a>\n",
       "<a class=\"menu-link\" href=\"https://www.nulondon.ac.uk/about-us/professional-staff/\" target=\"\">Professional staff</a>\n",
       "<a class=\"menu-link\" href=\"https://www.nulondon.ac.uk/academic-handbook\" target=\"\">Academic handbook</a>\n",
       "<a class=\"menu-link\" href=\"https://www.nulondon.ac.uk/about-us/why-nulondon/\" target=\"\">Why study at NU London</a>\n",
       "<a class=\"menu-link\" href=\"https://www.nulondon.ac.uk/about-us/widening-participation/\" target=\"\">Widening Participation</a>\n",
       "</div><!-- .col-12 -->\n",
       "<div class=\"col-12 col-md-4\">\n",
       "<a class=\"btn btn-primary btn-block\" href=\"https://www.nulondon.ac.uk/about-us/contact/\" target=\"\">Contact us</a>\n",
       "<a class=\"btn btn-default btn-block\" href=\"https://www.nulondon.ac.uk/about-us/visit-us/\" target=\"\">Open Days &amp; Events</a>\n",
       "<a class=\"btn btn-default btn-block\" href=\"https://www.nulondon.ac.uk/ambassadors/\" target=\"\">Chat to our students</a>\n",
       "</div><!-- .col-12 -->\n",
       "</div><!-- .row -->\n",
       "</div><!-- .col -->\n",
       "</div><!-- .row -->\n",
       "</div><!-- .container -->\n",
       "</div><!-- .dropdown-menu -->\n",
       "</li><!-- .dropdown -->\n",
       "<li class=\"nav-item dropdown\">\n",
       "<a aria-expanded=\"false\" aria-haspopup=\"true\" class=\"nav-link dropdown-toggle\" data-toggle=\"dropdown\" href=\"#\" id=\"navbarDropdown\" role=\"button\">News &amp; Events</a>\n",
       "<div aria-labelledby=\"navbarDropdown\" class=\"dropdown-menu\">\n",
       "<div class=\"container\">\n",
       "<div class=\"row\">\n",
       "<div class=\"col-12 col-lg-10 offset-lg-1\">\n",
       "<div class=\"row\">\n",
       "<div class=\"col-12 col-md-8 links\">\n",
       "<a class=\"menu-link\" href=\"https://www.nulondon.ac.uk/blogs/news/\" target=\"\">University News</a>\n",
       "<a class=\"menu-link\" href=\"https://www.nulondon.ac.uk/blogs/academic/\" target=\"\">Academic Blog</a>\n",
       "<a class=\"menu-link\" href=\"https://www.nulondon.ac.uk/blogs/student/\" target=\"\">Student Blog</a>\n",
       "<a class=\"menu-link\" href=\"https://www.nulondon.ac.uk/blogs/apprenticeships/\" target=\"\">Apprenticeships News</a>\n",
       "<a class=\"menu-link\" href=\"https://www.nulondon.ac.uk/about-us/press\" target=\"\">Press Coverage</a>\n",
       "<a class=\"menu-link\" href=\"https://www.nulondon.ac.uk/news-and-events/events/\" target=\"\">Events</a>\n",
       "</div><!-- .col-12 -->\n",
       "<div class=\"col-12 col-md-4\">\n",
       "<a class=\"btn btn-primary btn-block\" href=\"https://www.nulondon.ac.uk/blogs/\" target=\"\">Read our latest posts</a>\n",
       "</div><!-- .col-12 -->\n",
       "</div><!-- .row -->\n",
       "</div><!-- .col -->\n",
       "</div><!-- .row -->\n",
       "</div><!-- .container -->\n",
       "</div><!-- .dropdown-menu -->\n",
       "</li><!-- .dropdown -->\n",
       "</ul>\n",
       "<form action=\"https://www.nulondon.ac.uk/\" class=\"form-inline navbar-form\" method=\"get\" role=\"search\">\n",
       "<div class=\"input-group\">\n",
       "<input class=\"form-control\" name=\"s\" placeholder=\"Search\" type=\"text\" value=\"\"/>\n",
       "<button class=\"btn btn-primary\" type=\"submit\">\n",
       "<i class=\"fa fa-search\"></i>\n",
       "</button>\n",
       "</div>\n",
       "</form>\n",
       "<ul class=\"nav navbar-nav\" id=\"misc-nav-mobile\">\n",
       "<li class=\"misc-nav-header\">College Links:</li>\n",
       "<li class=\"nav-item\">\n",
       "<a class=\"menu-link\" href=\"https://www.nulondon.ac.uk/nch-student-hub/\" target=\"\">Current students</a>\n",
       "</li>\n",
       "<li class=\"nav-item\">\n",
       "<a class=\"menu-link\" href=\"https://www.nulondon.ac.uk/offer-holders/\" target=\"\">Offer holders</a>\n",
       "</li>\n",
       "<li class=\"nav-item\">\n",
       "<a class=\"menu-link\" href=\"https://nulondon.peoplehr.net/\" target=\"\">Staff Only</a>\n",
       "</li>\n",
       "</ul><!-- #misc-nav-mobile -->\n",
       "</div><!-- /.navbar-collapse -->\n",
       "</div><!-- /.container-fluid -->\n",
       "</nav><!-- #main-nav -->\n",
       "<nav id=\"sub-nav\">\n",
       "<div class=\"container-fluid\">\n",
       "<div class=\"row\">\n",
       "<div class=\"col-12\">\n",
       "<a class=\"\" href=\"https://www.nulondon.ac.uk/degrees-2023/\" target=\"\">Undergraduate Degrees</a>\n",
       "<a class=\"active\" href=\"https://www.nulondon.ac.uk/degrees/postgraduate/\" target=\"\">Postgraduate Degrees</a>\n",
       "<a class=\"\" href=\"https://www.nulondon.ac.uk/study/apprenticeships/\" target=\"\">Workforce Development</a>\n",
       "<a class=\"\" href=\"https://www.nulondon.ac.uk/pre-university-programmes\" target=\"\">Pre-University Programmes</a>\n",
       "<a class=\"\" href=\"https://www.nulondon.ac.uk/study/nch-admissions/\" target=\"\">Admissions</a>\n",
       "<a class=\"\" href=\"https://www.nulondon.ac.uk/study/international-students-at-nch/visa/\" target=\"\">Visas</a>\n",
       "<a class=\"\" href=\"https://www.nulondon.ac.uk/entry-requirements-country/\" target=\"\">Entry requirements</a>\n",
       "<a class=\"\" href=\"https://www.nulondon.ac.uk/fees-and-funding/\" target=\"\">Fees &amp; Funding</a>\n",
       "</div><!-- .col-12 -->\n",
       "</div><!-- .row -->\n",
       "</div><!-- .container-fluid -->\n",
       "</nav><!-- #sub-nav -->\n",
       "<div class=\"site-content\" id=\"content\">\n",
       "<div class=\"page-heading-new image\" id=\"postgraduate-hub-heading\" style=\"background-image: url(https://www.nulondon.ac.uk/wp-content/uploads/2023/06/NU-Student-working-overlooking-Tower-Bridge-London-3600x2477-1-1110x764.jpg);\">\n",
       "<div class=\"container\">\n",
       "<div class=\"row\">\n",
       "<div class=\"col-md-8 offset-md-2\">\n",
       "<h1>Postgraduate Study</h1>\n",
       "<div class=\"row\">\n",
       "<div class=\"col-12\">\n",
       "<p>Masters degrees at the intersection of humanities and science.<br/>\n",
       "Future-proof your career with analytical, technical &amp; ethical skills.<br/>\n",
       "It takes human intelligence to make the artificial kind.</p>\n",
       "<p>#HumansWanted</p>\n",
       "</div><!-- .col -->\n",
       "</div><!-- .row -->\n",
       "</div><!-- .col-->\n",
       "</div><!-- .row -->\n",
       "</div><!-- .container -->\n",
       "</div><!-- #postgraduate-hub-heading -->\n",
       "<div class=\"section grey\" id=\"postgraduate-degrees\">\n",
       "<div class=\"container\">\n",
       "<div class=\"row\">\n",
       "<div class=\"col-md-8 offset-md-2\">\n",
       "<div class=\"section-title\">\n",
       "<h2>Choose your postgraduate degree</h2>\n",
       "</div><!-- .section-title -->\n",
       "</div><!-- .col -->\n",
       "</div><!-- .row -->\n",
       "<div class=\"row justify-content-center\">\n",
       "<div class=\"col-12 col-sm-6 col-lg-4 my-2 masters-degree\">\n",
       "<a class=\"masters-degree-link\" href=\"https://www.nulondon.ac.uk/degrees/postgraduate/ai-computer-science/\">\n",
       "<div class=\"masters-degree-image\" style=\"background-image: url(https://www.nulondon.ac.uk/wp-content/uploads/2020/08/pexels-markus-spiske-2004161-1110x740.jpg);\"></div><!-- .masters-degree-image -->\n",
       "<div class=\"masters-degree-content\">\n",
       "<p class=\"title\">MSc Artificial Intelligence &amp; Computer Science</p>\n",
       "<p><span style=\"font-weight: 400;\">Designed to prepare graduates for a multitude of careers in the technology sector, our MSc Artificial Intelligence &amp; Computer Science equips students with</span><span style=\"font-weight: 400;\"> advanced software development skills combined with key competencies in the application of algorithmic and theoretical computer science principles to solve wide-ranging problems.</span></p>\n",
       "</div><!-- .masters-degree-content -->\n",
       "<div class=\"masters-degree-button\">\n",
       "<div class=\"btn btn-default btn-block\">\n",
       "\n",
       "\t\t\t\t\t\t\t\t\t        View Degree\n",
       "\t\t\t\t\t\t\t\t\t    </div><!-- .btn btn-default btn-block -->\n",
       "</div><!-- .masters-degree-button -->\n",
       "</a><!-- .masters-degree -->\n",
       "</div><!-- .col -->\n",
       "<div class=\"col-12 col-sm-6 col-lg-4 my-2 masters-degree\">\n",
       "<a class=\"masters-degree-link\" href=\"https://www.nulondon.ac.uk/degrees/postgraduate/ai-data-analytics/\">\n",
       "<div class=\"masters-degree-image\" style=\"background-image: url(https://www.nulondon.ac.uk/wp-content/uploads/2022/03/shutterstock_2036186156-1110x498.jpg);\"></div><!-- .masters-degree-image -->\n",
       "<div class=\"masters-degree-content\">\n",
       "<p class=\"title\">MSc Artificial Intelligence &amp; Data Analytics</p>\n",
       "<p>The MSc Artificial Intelligence &amp; Data Analytics programme is designed to <span style=\"font-weight: 400;\"> support the career development of AI and data science professionals by providing graduates with the in-depth knowledge, skills and experience that are required by businesses and organisations in the technology sector.</span></p>\n",
       "</div><!-- .masters-degree-content -->\n",
       "<div class=\"masters-degree-button\">\n",
       "<div class=\"btn btn-default btn-block\">\n",
       "\n",
       "\t\t\t\t\t\t\t\t\t        View Degree\n",
       "\t\t\t\t\t\t\t\t\t    </div><!-- .btn btn-default btn-block -->\n",
       "</div><!-- .masters-degree-button -->\n",
       "</a><!-- .masters-degree -->\n",
       "</div><!-- .col -->\n",
       "<div class=\"col-12 col-sm-6 col-lg-4 my-2 masters-degree\">\n",
       "<a class=\"masters-degree-link\" href=\"https://www.nulondon.ac.uk/degrees/postgraduate/ai-ethics/\">\n",
       "<div class=\"masters-degree-image\" style=\"background-image: url(https://www.nulondon.ac.uk/wp-content/uploads/2020/10/shutterstock_592921421-1110x663.jpg);\"></div><!-- .masters-degree-image -->\n",
       "<div class=\"masters-degree-content\">\n",
       "<p class=\"title\">MSc Artificial Intelligence and Ethics</p>\n",
       "<p>The MSc Artificial Intelligence and Ethics is an integrated programme of study with dual foci on both theory and application. Presupposing no background in computing, students are equipped with the relevant knowledge and data programming skills – covering recent technical developments alongside broader ethical and theoretical considerations – to fulfil the needs of a vast range of organisations and employers.</p>\n",
       "<div class=\"grammarly-disable-indicator\"></div>\n",
       "<div class=\"grammarly-disable-indicator\"></div>\n",
       "</div><!-- .masters-degree-content -->\n",
       "<div class=\"masters-degree-button\">\n",
       "<div class=\"btn btn-default btn-block\">\n",
       "\n",
       "\t\t\t\t\t\t\t\t\t        View Degree\n",
       "\t\t\t\t\t\t\t\t\t    </div><!-- .btn btn-default btn-block -->\n",
       "</div><!-- .masters-degree-button -->\n",
       "</a><!-- .masters-degree -->\n",
       "</div><!-- .col -->\n",
       "<div class=\"col-12 col-sm-6 col-lg-4 my-2 masters-degree\">\n",
       "<a class=\"masters-degree-link\" href=\"https://www.nulondon.ac.uk/degrees/postgraduate/ai-technology-leadership/\">\n",
       "<div class=\"masters-degree-image\" style=\"background-image: url(https://www.nulondon.ac.uk/wp-content/uploads/2023/01/pexels-energepiccom-159888-1110x833.jpg);\"></div><!-- .masters-degree-image -->\n",
       "<div class=\"masters-degree-content\">\n",
       "<p class=\"title\">MSc Artificial Intelligence &amp; Technology Leadership</p>\n",
       "<p>As technology progresses, the need for skills in AI and a data-driven economy rises. Our MSc Artificial Intelligence &amp; Technology Leadership has been designed to assist students in investigating, identifying and implementing technological strategetic solutions in a digital world.</p>\n",
       "<p> </p>\n",
       "</div><!-- .masters-degree-content -->\n",
       "<div class=\"masters-degree-button\">\n",
       "<div class=\"btn btn-default btn-block\">\n",
       "\n",
       "\t\t\t\t\t\t\t\t\t        View Degree\n",
       "\t\t\t\t\t\t\t\t\t    </div><!-- .btn btn-default btn-block -->\n",
       "</div><!-- .masters-degree-button -->\n",
       "</a><!-- .masters-degree -->\n",
       "</div><!-- .col -->\n",
       "<div class=\"col-12 col-sm-6 col-lg-4 my-2 masters-degree\">\n",
       "<a class=\"masters-degree-link\" href=\"https://www.nulondon.ac.uk/degrees/postgraduate/creative-writing/\">\n",
       "<div class=\"masters-degree-image\" style=\"background-image: url(https://www.nulondon.ac.uk/wp-content/uploads/2023/01/Creative-Writing-3-1110x740.jpg);\"></div><!-- .masters-degree-image -->\n",
       "<div class=\"masters-degree-content\">\n",
       "<p class=\"title\">MA Contemporary Creative Writing</p>\n",
       "<p>The Master of Arts in Contemporary Creative Writing at Northeastern University London equips students with the knowledge, craft skills and discipline needed to be a creative writer now.</p>\n",
       "<div class=\"grammarly-disable-indicator\"></div>\n",
       "<div class=\"grammarly-disable-indicator\"></div>\n",
       "</div><!-- .masters-degree-content -->\n",
       "<div class=\"masters-degree-button\">\n",
       "<div class=\"btn btn-default btn-block\">\n",
       "\n",
       "\t\t\t\t\t\t\t\t\t        View Degree\n",
       "\t\t\t\t\t\t\t\t\t    </div><!-- .btn btn-default btn-block -->\n",
       "</div><!-- .masters-degree-button -->\n",
       "</a><!-- .masters-degree -->\n",
       "</div><!-- .col -->\n",
       "<div class=\"col-12 col-sm-6 col-lg-4 my-2 masters-degree\">\n",
       "<a class=\"masters-degree-link\" href=\"https://www.nulondon.ac.uk/degrees/postgraduate/politics-sustainability/\">\n",
       "<div class=\"masters-degree-image\" style=\"background-image: url(https://www.nulondon.ac.uk/wp-content/uploads/2020/11/shutterstock_1384645469-1110x624.jpg);\"></div><!-- .masters-degree-image -->\n",
       "<div class=\"masters-degree-content\">\n",
       "<p class=\"title\">MSc Digital Politics &amp; Sustainable Development</p>\n",
       "<p>Explore the increasingly urgent phenomena of social activism, fake news, cybercrime, AI, and sustainability within a rewarding and professionally salient masters degree. Drawing on politics, philosophy, and computer science, this compelling interdisciplinary degree addresses new global frontiers facing political and business leaders.</p>\n",
       "</div><!-- .masters-degree-content -->\n",
       "<div class=\"masters-degree-button\">\n",
       "<div class=\"btn btn-default btn-block\">\n",
       "\n",
       "\t\t\t\t\t\t\t\t\t        View Degree\n",
       "\t\t\t\t\t\t\t\t\t    </div><!-- .btn btn-default btn-block -->\n",
       "</div><!-- .masters-degree-button -->\n",
       "</a><!-- .masters-degree -->\n",
       "</div><!-- .col -->\n",
       "<div class=\"col-12 col-sm-6 col-lg-4 my-2 masters-degree\">\n",
       "<a class=\"masters-degree-link\" href=\"https://www.nulondon.ac.uk/degrees/postgraduate/investment-banking/\">\n",
       "<div class=\"masters-degree-image\" style=\"background-image: url(https://www.nulondon.ac.uk/wp-content/uploads/2023/03/shutterstock_732185581-1110x645.jpg);\"></div><!-- .masters-degree-image -->\n",
       "<div class=\"masters-degree-content\">\n",
       "<p class=\"title\">MSc Global Investment Banking</p>\n",
       "<p><span style=\"font-weight: 400;\">Our MSc Global Investment Banking stands apart as a job role-focused degree for people wanting to enter investment banking, offering a unique and innovative pedagogical experience, with employability as a central tenet of the educational journey.</span></p>\n",
       "</div><!-- .masters-degree-content -->\n",
       "<div class=\"masters-degree-button\">\n",
       "<div class=\"btn btn-default btn-block\">\n",
       "\n",
       "\t\t\t\t\t\t\t\t\t        View Degree\n",
       "\t\t\t\t\t\t\t\t\t    </div><!-- .btn btn-default btn-block -->\n",
       "</div><!-- .masters-degree-button -->\n",
       "</a><!-- .masters-degree -->\n",
       "</div><!-- .col -->\n",
       "<div class=\"col-12 col-sm-6 col-lg-4 my-2 masters-degree\">\n",
       "<a class=\"masters-degree-link\" href=\"https://www.nulondon.ac.uk/degrees/postgraduate/philosophy-and-ai/\">\n",
       "<div class=\"masters-degree-image\" style=\"background-image: url(https://www.nulondon.ac.uk/wp-content/uploads/2020/04/shutterstock_1286139130-1110x740.jpg);\"></div><!-- .masters-degree-image -->\n",
       "<div class=\"masters-degree-content\">\n",
       "<p class=\"title\">MA Philosophy and Artificial Intelligence</p>\n",
       "<p><span style=\"font-weight: 400;\">Poised at the intersection of the humanities and technology, this innovative Masters degree can equip you with the combination of thinking, communication, and technical skills widely sought in sectors ranging from professional services, to the creative industries and government.</span></p>\n",
       "</div><!-- .masters-degree-content -->\n",
       "<div class=\"masters-degree-button\">\n",
       "<div class=\"btn btn-default btn-block\">\n",
       "\n",
       "\t\t\t\t\t\t\t\t\t        View Degree\n",
       "\t\t\t\t\t\t\t\t\t    </div><!-- .btn btn-default btn-block -->\n",
       "</div><!-- .masters-degree-button -->\n",
       "</a><!-- .masters-degree -->\n",
       "</div><!-- .col -->\n",
       "</div><!-- .row -->\n",
       "</div><!-- .container -->\n",
       "</div><!-- #postgraduate-degrees -->\n",
       "<section class=\"section white content\" id=\"degree-hub-content\">\n",
       "<div class=\"container\">\n",
       "<div class=\"row\">\n",
       "<div class=\"col-md-10 offset-md-1\">\n",
       "<h2>Attend A Postgraduate Event</h2>\n",
       "<p>Join our <a href=\"https://www.nulondon.ac.uk/study/visit-us/pg-events/events/\">postgraduate events</a>, and see if Northeastern University London is the place for you to flourish.</p>\n",
       "</div><!-- .col-md-10 offset-md-1 -->\n",
       "</div><!-- .row -->\n",
       "</div><!-- .container -->\n",
       "</section><!-- .content -->\n",
       "<div class=\"section grey\" id=\"postgraduate-apply\">\n",
       "<div class=\"container\">\n",
       "<div class=\"row\">\n",
       "<div class=\"col-12 col-sm-8 offset-sm-2\">\n",
       "<h3>Find out more</h3>\n",
       "<div class=\"row\">\n",
       "<div class=\"col-12 col-lg-6 offset-lg-3\">\n",
       "<a class=\"btn btn-primary btn-block\" href=\"https://www.nulondon.ac.uk/prospectus/\">Request a prospectus</a><!-- . -->\n",
       "</div><!-- .col -->\n",
       "</div><!-- .row -->\n",
       "</div><!-- .col -->\n",
       "</div><!-- .row -->\n",
       "</div><!-- .container -->\n",
       "</div><!-- #postgraduate-apply -->\n",
       "</div><!-- #content -->\n",
       "<footer id=\"footer\">\n",
       "<aside id=\"footer-social\">\n",
       "<div class=\"container\">\n",
       "<div class=\"row\">\n",
       "<!--<div class=\"col-12 col-sm-6 footer-social-newsletter d-none\">\n",
       "\n",
       "                    <p class=\"title\">Got a question for us?</p>\n",
       "\n",
       "                    <a href=\"/contact/\" class=\"btn btn-primary\">Get in touch</a>\n",
       "\n",
       "                </div>-->\n",
       "<div class=\"col-12 footer-social-buttons d-flex flex-column flex-md-row justify-content-center align-items-center\">\n",
       "<p class=\"title d-block\">Follow, like, and subscribe</p>\n",
       "<nav class=\"social-nav text-center d-block\">\n",
       "<a class=\"social-link-facebook\" href=\"https://www.facebook.com/NortheasternLDN\" title=\"Like Northeastern University London on Facebook\">\n",
       "<i class=\"fab fa-facebook\"></i>\n",
       "</a>\n",
       "<a class=\"social-link-twitter\" href=\"https://twitter.com/NortheasternLDN\" title=\"Follow Northeastern University London on Twitter\">\n",
       "<i class=\"fab fa-twitter\"></i>\n",
       "</a>\n",
       "<a class=\"social-link-instagram\" href=\"https://www.instagram.com/northeastern.ldn/\" title=\"Follow Northeastern University London on Instagram\">\n",
       "<i class=\"fab fa-instagram\"></i>\n",
       "</a>\n",
       "<a class=\"social-link-youtube\" href=\"https://www.youtube.com/@NortheasternLDN\" title=\"Subscribe to Northeastern University London on YouTube\">\n",
       "<i class=\"fab fa-youtube\"></i>\n",
       "</a>\n",
       "<a class=\"social-link-tiktok\" href=\"https://www.tiktok.com/@northeasternldn\" title=\"Follow to Northeastern University London on TikTok\">\n",
       "<i class=\"fab fa-tiktok\"></i>\n",
       "</a>\n",
       "</nav>\n",
       "</div>\n",
       "</div>\n",
       "</div>\n",
       "</aside><!-- #footer-social -->\n",
       "<nav id=\"footer-nav\">\n",
       "<div class=\"container\">\n",
       "<div class=\"row\">\n",
       "<div class=\"column col-md-3 col-sm-6 d-none d-sm-block\">\n",
       "<p class=\"menu-name\">Admissions</p>\n",
       "<div class=\"menu-admissions-container\"><ul class=\"menu\" id=\"menu-admissions\"><li class=\"menu-item menu-item-type-custom menu-item-object-custom menu-item-68752\" id=\"menu-item-68752\"><a href=\"https://www.nulondon.ac.uk/nch-admissions/\">Northeastern University London Admissions</a></li>\n",
       "<li class=\"menu-item menu-item-type-custom menu-item-object-custom menu-item-68751\" id=\"menu-item-68751\"><a href=\"/home-fees/\">Fees and funding</a></li>\n",
       "<li class=\"menu-item menu-item-type-custom menu-item-object-custom menu-item-55092\" id=\"menu-item-55092\"><a href=\"https://www.nulondon.ac.uk/entry-requirements-country/\">Entry requirements</a></li>\n",
       "</ul></div>\n",
       "</div><!-- .column -->\n",
       "<div class=\"column col-md-3 col-sm-6 d-none d-sm-block\">\n",
       "<p class=\"menu-name\">Degree programmes</p>\n",
       "<div class=\"menu-degree-programmes-container\"><ul class=\"menu\" id=\"menu-degree-programmes\"><li class=\"menu-item menu-item-type-custom menu-item-object-custom menu-item-4542\" id=\"menu-item-4542\"><a href=\"/degrees-2023/\">Undergraduate study</a></li>\n",
       "<li class=\"menu-item menu-item-type-custom menu-item-object-custom menu-item-64256\" id=\"menu-item-64256\"><a href=\"https://www.nulondon.ac.uk/notice/\">Notice to prospective students</a></li>\n",
       "<li class=\"menu-item menu-item-type-custom menu-item-object-custom current-menu-item menu-item-57660\" id=\"menu-item-57660\"><a aria-current=\"page\" href=\"https://www.nulondon.ac.uk/degrees/postgraduate/\">Postgraduate study</a></li>\n",
       "</ul></div>\n",
       "</div><!-- .column -->\n",
       "<div class=\"column col-md-3 col-sm-6 d-none d-sm-block\">\n",
       "<p class=\"menu-name\">International</p>\n",
       "<div class=\"menu-international-container\"><ul class=\"menu\" id=\"menu-international\"><li class=\"menu-item menu-item-type-custom menu-item-object-custom menu-item-4592\" id=\"menu-item-4592\"><a href=\"/hubs/international-students/\">International students</a></li>\n",
       "</ul></div>\n",
       "</div><!-- .column -->\n",
       "<div class=\"column col-md-3 col-sm-6 d-none d-sm-block\">\n",
       "<p class=\"menu-name\">Life at NU London</p>\n",
       "<div class=\"menu-life-at-nu-london-container\"><ul class=\"menu\" id=\"menu-life-at-nu-london\"><li class=\"menu-item menu-item-type-custom menu-item-object-custom menu-item-54792\" id=\"menu-item-54792\"><a href=\"https://www.nulondon.ac.uk/ambassadors/\">Chat to our students</a></li>\n",
       "</ul></div>\n",
       "</div><!-- .column -->\n",
       "<div class=\"column col-xs-12 d-block d-sm-none\">\n",
       "<p class=\"menu-name\">Admissions</p>\n",
       "<div class=\"menu-admissions-container\"><ul class=\"menu\" id=\"menu-admissions-1\"><li class=\"menu-item menu-item-type-custom menu-item-object-custom menu-item-68752\"><a href=\"https://www.nulondon.ac.uk/nch-admissions/\">Northeastern University London Admissions</a></li>\n",
       "<li class=\"menu-item menu-item-type-custom menu-item-object-custom menu-item-68751\"><a href=\"/home-fees/\">Fees and funding</a></li>\n",
       "<li class=\"menu-item menu-item-type-custom menu-item-object-custom menu-item-55092\"><a href=\"https://www.nulondon.ac.uk/entry-requirements-country/\">Entry requirements</a></li>\n",
       "</ul></div>\n",
       "</div><!-- .column -->\n",
       "</div><!-- .row -->\n",
       "</div><!-- .container -->\n",
       "</nav><!-- #footer-nav -->\n",
       "<div id=\"footer-base\">\n",
       "<div class=\"container\">\n",
       "<div class=\"row\">\n",
       "<div class=\"col-12 col-md-3\" id=\"footer-contact-details\">\n",
       "<a class=\"logo\" href=\"/\" title=\"Northeastern University London\">\n",
       "<img alt=\"Northeastern University London\" class=\"lazyload\" data-src=\"https://www.nulondon.ac.uk/wp-content/themes/new-college-of-the-humanities/assets/images/logo-northeastern-uni-london-nch.svg\" src=\"data:image/gif;base64,R0lGODlhAQABAAAAACH5BAEKAAEALAAAAAABAAEAAAICTAEAOw==\"/><noscript><img alt=\"Northeastern University London\" class=\"lazyload\" data-src=\"https://www.nulondon.ac.uk/wp-content/themes/new-college-of-the-humanities/assets/images/logo-northeastern-uni-london-nch.svg\" src=\"data:image/gif;base64,R0lGODlhAQABAAAAACH5BAEKAAEALAAAAAABAAEAAAICTAEAOw==\"/><noscript><img alt=\"Northeastern University London\" src=\"https://www.nulondon.ac.uk/wp-content/themes/new-college-of-the-humanities/assets/images/logo-northeastern-uni-london-nch.svg\"/></noscript></noscript>\n",
       "</a><!-- .logo -->\n",
       "</div><!-- #footer-contact-details -->\n",
       "<div class=\"col-12 col-md-9\" id=\"footer-content\">\n",
       "<div class=\"row\">\n",
       "<div class=\"vcard col-12\">\n",
       "<div class=\"org screen-reader-text\">Northeastern University London</div>\n",
       "<div class=\"adr\">\n",
       "                                Address: \n",
       "                                <span class=\"street-address\"> Devon House, 58 St Katharine’s Way</span>,\n",
       "                                <span class=\"locality\">London</span>,\n",
       "                                <span class=\"postal-code\">E1W 1LP</span>,\n",
       "                                <span class=\"country-name\">United Kingdom</span>\n",
       "</div>\n",
       "<strong>Tel: <a class=\"tel\" href=\"tel:+442076374550\">+44 (0)20 7637 4550</a> | Email: </strong>\n",
       "<a class=\"email\" href=\"mailto:info@nulondon.ac.uk\">info@nulondon.ac.uk</a>\n",
       "</div>\n",
       "<div class=\"col-12\">\n",
       "<p class=\"mt-1 mb-0 text-white small\">Northeastern University London is a charity registered with the Charity Commission for England and Wales (charity number 1189858.)</p>\n",
       "</div><!-- .col -->\n",
       "</div><!-- .row -->\n",
       "<div class=\"row\">\n",
       "<nav id=\"footer-legal-nav\">\n",
       "<div class=\"menu-footer-legal-links-container\"><ul class=\"menu\" id=\"menu-footer-legal-links\"><li class=\"menu-item menu-item-type-post_type menu-item-object-page menu-item-55002\" id=\"menu-item-55002\"><a href=\"https://www.nulondon.ac.uk/about-us/contact/\">Contact Us</a></li>\n",
       "<li class=\"menu-item menu-item-type-custom menu-item-object-custom menu-item-55012\" id=\"menu-item-55012\"><a href=\"https://www.nulondon.ac.uk/visit-us/\">Open Day Registration</a></li>\n",
       "<li class=\"menu-item menu-item-type-custom menu-item-object-custom menu-item-55032\" id=\"menu-item-55032\"><a href=\"https://www.nulondon.ac.uk/prospectus/\">Request a Prospectus</a></li>\n",
       "<li class=\"menu-item menu-item-type-custom menu-item-object-custom menu-item-55062\" id=\"menu-item-55062\"><a href=\"https://www.nulondon.ac.uk/about-us/academic-handbook/access-and-participation/\">Access and Participation Plan</a></li>\n",
       "<li class=\"menu-item menu-item-type-custom menu-item-object-custom menu-item-1095\" id=\"menu-item-1095\"><a href=\"https://www.nulondon.ac.uk/about-us/academic-handbook/nch-policies-and-procedures/data-protection/\">Data Protection Policy</a></li>\n",
       "<li class=\"menu-item menu-item-type-custom menu-item-object-custom menu-item-1100\" id=\"menu-item-1100\"><a href=\"https://www.nulondon.ac.uk/about-us/academic-handbook/nch-policies-and-procedures/data-protection/\">Cookie Policy</a></li>\n",
       "</ul></div>\n",
       "</nav><!-- #footer-legal-nav -->\n",
       "</div><!-- .row -->\n",
       "</div><!-- #footer-content -->\n",
       "</div><!-- .row -->\n",
       "</div><!-- .container -->\n",
       "</div><!-- #footer-base -->\n",
       "</footer>\n",
       "</div><!-- #page -->\n",
       "<!-- END Footer Scripts -->\n",
       "<!-- WP FOOTER -->\n",
       "<!-- Custom Facebook Feed JS -->\n",
       "<script type=\"text/javascript\">var cffajaxurl = \"https://www.nulondon.ac.uk/wp-admin/admin-ajax.php\";\n",
       "var cfflinkhashtags = \"true\";\n",
       "</script>\n",
       "<style>\n",
       "            .searchwp-live-search-results {\n",
       "                opacity: 0;\n",
       "                transition: opacity .25s ease-in-out;\n",
       "                -moz-transition: opacity .25s ease-in-out;\n",
       "                -webkit-transition: opacity .25s ease-in-out;\n",
       "                height: 0;\n",
       "                overflow: hidden;\n",
       "                z-index: 9999995; /* Exceed SearchWP Modal Search Form overlay. */\n",
       "                position: absolute;\n",
       "                display: none;\n",
       "            }\n",
       "\n",
       "            .searchwp-live-search-results-showing {\n",
       "                display: block;\n",
       "                opacity: 1;\n",
       "                height: auto;\n",
       "                overflow: auto;\n",
       "            }\n",
       "\n",
       "            .searchwp-live-search-no-results {\n",
       "                padding: 3em 2em 0;\n",
       "                text-align: center;\n",
       "            }\n",
       "\n",
       "            .searchwp-live-search-no-min-chars:after {\n",
       "                content: \"Continue typing\";\n",
       "                display: block;\n",
       "                text-align: center;\n",
       "                padding: 2em 2em 0;\n",
       "            }\n",
       "        </style>\n",
       "<script>\n",
       "            var _SEARCHWP_LIVE_AJAX_SEARCH_BLOCKS = true;\n",
       "            var _SEARCHWP_LIVE_AJAX_SEARCH_ENGINE = 'default';\n",
       "            var _SEARCHWP_LIVE_AJAX_SEARCH_CONFIG = 'default';\n",
       "        </script>\n",
       "<script id=\"swv-js\" src=\"https://www.nulondon.ac.uk/wp-content/plugins/contact-form-7/includes/swv/js/index.js\" type=\"text/javascript\"></script>\n",
       "<script id=\"contact-form-7-js-extra\" type=\"text/javascript\">\n",
       "/* <![CDATA[ */\n",
       "var wpcf7 = {\"api\":{\"root\":\"https:\\/\\/www.nulondon.ac.uk\\/wp-json\\/\",\"namespace\":\"contact-form-7\\/v1\"}};\n",
       "/* ]]> */\n",
       "</script>\n",
       "<script id=\"contact-form-7-js\" src=\"https://www.nulondon.ac.uk/wp-content/plugins/contact-form-7/includes/js/index.js\" type=\"text/javascript\"></script>\n",
       "<script id=\"leadin-script-loader-js-js-extra\" type=\"text/javascript\">\n",
       "/* <![CDATA[ */\n",
       "var leadin_wordpress = {\"userRole\":\"visitor\",\"pageType\":\"post\",\"leadinPluginVersion\":\"10.2.17\"};\n",
       "/* ]]> */\n",
       "</script>\n",
       "<script id=\"leadin-script-loader-js-js\" src=\"https://js.hs-scripts.com/4544478.js\" type=\"text/javascript\"></script>\n",
       "<script id=\"jquery-js\" src=\"https://www.nulondon.ac.uk/wp-content/themes/new-college-of-the-humanities/build/vendor/jquery/dist/jquery.min.js\" type=\"text/javascript\"></script>\n",
       "<script id=\"cffscripts-js\" src=\"https://www.nulondon.ac.uk/wp-content/plugins/custom-facebook-feed/assets/js/cff-scripts.min.js\" type=\"text/javascript\"></script>\n",
       "<script id=\"smush-lazy-load-js\" src=\"https://www.nulondon.ac.uk/wp-content/plugins/wp-smush-pro/app/assets/js/smush-lazy-load.min.js\" type=\"text/javascript\"></script>\n",
       "<script id=\"popper-js\" src=\"https://www.nulondon.ac.uk/wp-content/themes/new-college-of-the-humanities/build/vendor/popper.js/dist/umd/popper.min.js\" type=\"text/javascript\"></script>\n",
       "<script id=\"background-video-js\" src=\"https://www.nulondon.ac.uk/wp-content/themes/new-college-of-the-humanities/build/vendor/jquery-background-video/jquery.background-video.min.js\" type=\"text/javascript\"></script>\n",
       "<script id=\"bootstrap-js-js\" src=\"https://www.nulondon.ac.uk/wp-content/themes/new-college-of-the-humanities/build/vendor/bootstrap/dist/js/bootstrap.min.js\" type=\"text/javascript\"></script>\n",
       "<script id=\"swp-live-search-client-js-extra\" type=\"text/javascript\">\n",
       "/* <![CDATA[ */\n",
       "var searchwp_live_search_params = [];\n",
       "searchwp_live_search_params = {\"ajaxurl\":\"https:\\/\\/www.nulondon.ac.uk\\/wp-admin\\/admin-ajax.php\",\"origin_id\":70104,\"config\":{\"default\":{\"engine\":\"default\",\"input\":{\"delay\":300,\"min_chars\":3},\"results\":{\"position\":\"bottom\",\"width\":\"css\",\"offset\":{\"x\":0,\"y\":30}},\"spinner\":{\"lines\":12,\"length\":8,\"width\":3,\"radius\":8,\"scale\":1,\"corners\":1,\"color\":\"#424242\",\"fadeColor\":\"transparent\",\"speed\":1,\"rotate\":0,\"animation\":\"searchwp-spinner-line-fade-quick\",\"direction\":1,\"zIndex\":2000000000,\"className\":\"spinner\",\"top\":\"50%\",\"left\":\"50%\",\"shadow\":\"0 0 1px transparent\",\"position\":\"absolute\"}},\"videos\":{\"engine\":\"default\",\"input\":{\"delay\":300,\"min_chars\":3},\"results\":{\"position\":\"bottom\",\"width\":\"css\",\"offset\":{\"x\":0,\"y\":30}},\"spinner\":{\"lines\":12,\"length\":8,\"width\":3,\"radius\":8,\"scale\":1,\"corners\":1,\"color\":\"#424242\",\"fadeColor\":\"transparent\",\"speed\":1,\"rotate\":0,\"animation\":\"searchwp-spinner-line-fade-quick\",\"direction\":1,\"zIndex\":2000000000,\"className\":\"spinner\",\"top\":\"50%\",\"left\":\"50%\",\"shadow\":\"0 0 1px transparent\",\"position\":\"absolute\"},\"parent_el\":\"#video-live-search-results\"}},\"msg_no_config_found\":\"No valid SearchWP Live Search configuration found!\",\"aria_instructions\":\"When autocomplete results are available use up and down arrows to review and enter to go to the desired page. Touch device users, explore by touch or with swipe gestures.\"};;\n",
       "/* ]]> */\n",
       "</script>\n",
       "<script id=\"swp-live-search-client-js\" src=\"https://www.nulondon.ac.uk/wp-content/plugins/searchwp-live-ajax-search/assets/javascript/dist/script.min.js\" type=\"text/javascript\"></script>\n",
       "<script id=\"js-pdf-js\" src=\"https://cdnjs.cloudflare.com/ajax/libs/jspdf/1.5.3/jspdf.min.js\" type=\"text/javascript\"></script>\n",
       "<script id=\"html2canvas-js\" src=\"https://html2canvas.hertzen.com/dist/html2canvas.js\" type=\"text/javascript\"></script>\n",
       "<script id=\"js-cookie-js\" src=\"https://www.nulondon.ac.uk/wp-content/themes/new-college-of-the-humanities/build/vendor/js.cookie.min.js\" type=\"text/javascript\"></script>\n",
       "<script id=\"new-college-of-the-humanities-js-js\" src=\"https://www.nulondon.ac.uk/wp-content/themes/new-college-of-the-humanities/build/js/main.min.js\" type=\"text/javascript\"></script>\n",
       "<script id=\"googlemaps-js\" src=\"https://maps.googleapis.com/maps/api/js\" type=\"text/javascript\"></script>\n",
       "</body>"
      ]
     },
     "execution_count": 2,
     "metadata": {},
     "output_type": "execute_result"
    }
   ],
   "source": [
    "from bs4 import BeautifulSoup\n",
    "# import the Python library into your application\n",
    "\n",
    "# create the variable to parse the contents of the URL page.\n",
    "soup = BeautifulSoup(contents)\n",
    "\n",
    "# We can also try to call other functions e.g. soup.html, soup.head and so on\n",
    "soup.body"
   ]
  },
  {
   "cell_type": "markdown",
   "metadata": {
    "slideshow": {
     "slide_type": "slide"
    }
   },
   "source": [
    "### 3.a. Extracting text\n",
    "\n",
    "Usually, we want to retrieve the text contained within HTML tags, such as headers. The `get_text()` function strips all tags from an HTML structure and return a tag-less block of text.\n",
    "\n",
    "__TIP:__ It is better to call `get_text()` right before you print, store, or manipulate your final data. It is easier to navigate an HTML page's tag structure using a `BeautifulSoup` object than a big block of text."
   ]
  },
  {
   "cell_type": "code",
   "execution_count": 3,
   "metadata": {
    "slideshow": {
     "slide_type": "fragment"
    }
   },
   "outputs": [
    {
     "data": {
      "text/plain": [
       "('Postgraduate Study', 'Choose your postgraduate degree')"
      ]
     },
     "execution_count": 3,
     "metadata": {},
     "output_type": "execute_result"
    }
   ],
   "source": [
    "soup.body.h1.get_text(), soup.body.h2.get_text()"
   ]
  },
  {
   "cell_type": "markdown",
   "metadata": {
    "slideshow": {
     "slide_type": "slide"
    }
   },
   "source": [
    "### 3.b. Tag attributes\n",
    "\n",
    "We can access the attributes of an HTML tag (address) as a Python `dict` object:"
   ]
  },
  {
   "cell_type": "code",
   "execution_count": 4,
   "metadata": {
    "slideshow": {
     "slide_type": "fragment"
    }
   },
   "outputs": [
    {
     "data": {
      "text/plain": [
       "{'href': 'https://www.nulondon.ac.uk/application/'}"
      ]
     },
     "execution_count": 4,
     "metadata": {},
     "output_type": "execute_result"
    }
   ],
   "source": [
    "soup.body.a.attrs"
   ]
  },
  {
   "cell_type": "markdown",
   "metadata": {
    "slideshow": {
     "slide_type": "slide"
    }
   },
   "source": [
    "### 3.c. Searching for tags\n",
    "\n",
    "The `find()` function searches an HTML page for a particular tag and returns the _first occurence_ of that tag; or `None` if the tag does not exist."
   ]
  },
  {
   "cell_type": "code",
   "execution_count": 5,
   "metadata": {
    "slideshow": {
     "slide_type": "fragment"
    }
   },
   "outputs": [
    {
     "data": {
      "text/plain": [
       "<a href=\"https://www.nulondon.ac.uk/application/\">Apply now</a>"
      ]
     },
     "execution_count": 5,
     "metadata": {},
     "output_type": "execute_result"
    }
   ],
   "source": [
    "# Let's try other tags too, e.g. <title>\n",
    "soup.find('a')"
   ]
  },
  {
   "cell_type": "markdown",
   "metadata": {
    "slideshow": {
     "slide_type": "slide"
    }
   },
   "source": [
    "The `find_all()` function returns a list of instances of a tag found in an HTML page:"
   ]
  },
  {
   "cell_type": "code",
   "execution_count": 6,
   "metadata": {
    "slideshow": {
     "slide_type": "fragment"
    }
   },
   "outputs": [
    {
     "name": "stdout",
     "output_type": "stream",
     "text": [
      "000 https://www.nulondon.ac.uk/application/\n",
      "001 tel:+442076374550\n",
      "002 https://www.nulondon.ac.uk/nch-student-hub/\n",
      "003 https://www.nulondon.ac.uk/offer-holders/\n",
      "004 https://nulondon.peoplehr.net/\n",
      "005 /\n",
      "006 #\n",
      "007 https://www.nulondon.ac.uk/degrees-2023/\n",
      "008 https://www.nulondon.ac.uk/degrees/postgraduate/\n",
      "009 https://www.nulondon.ac.uk/study/apprenticeships/\n",
      "010 https://www.nulondon.ac.uk/pre-university-programmes\n",
      "011 https://www.nulondon.ac.uk/study/nch-admissions/\n",
      "012 https://www.nulondon.ac.uk/study/international-students-at-nch/visa/\n",
      "013 https://www.nulondon.ac.uk/entry-requirements-country/\n",
      "014 https://www.nulondon.ac.uk/fees-and-funding/\n",
      "015 https://www.nulondon.ac.uk/application/\n",
      "016 https://www.nulondon.ac.uk/prospectus/\n",
      "017 https://www.nulondon.ac.uk/study/visit-us/\n",
      "018 #\n",
      "019 https://www.nulondon.ac.uk/cmens-faculty/\n",
      "020 https://www.nulondon.ac.uk/faculties/economics-faculty/\n",
      "021 https://www.nulondon.ac.uk/faculties/english-faculty-2/\n",
      "022 https://www.nulondon.ac.uk/faculties/history-faculty/\n",
      "023 https://www.nulondon.ac.uk/faculties/law-faculty/\n",
      "024 https://www.nulondon.ac.uk/faculties/philosophy-faculty/\n",
      "025 https://www.nulondon.ac.uk/faculties/politics-ir-faculty/\n",
      "026 https://www.nulondon.ac.uk/faculties/research-at-nch/\n",
      "027 https://www.nulondon.ac.uk/academic-management-structure/\n",
      "028 https://www.nulondon.ac.uk/degrees\n",
      "029 https://www.nulondon.ac.uk/blogs/academic\n",
      "030 https://www.nulondon.ac.uk/research/\n",
      "031 #\n",
      "032 https://www.nulondon.ac.uk/student-life/life-in-london/\n",
      "033 https://www.nulondon.ac.uk/student-life/choose-accommodation/\n",
      "034 https://www.nusu.org.uk/\n",
      "035 https://www.nulondon.ac.uk/study/international-students-at-nch/\n",
      "036 https://www.nulondon.ac.uk/student-life/life-in-london/student-support/\n",
      "037 https://www.nulondon.ac.uk/student-life/campus/\n",
      "038 https://www.nulondon.ac.uk/student-life/ondemand/\n",
      "039 https://www.nulondon.ac.uk/blogs/student/\n",
      "040 https://www.nulondon.ac.uk/ambassadors/\n",
      "041 #\n",
      "042 https://www.nulondon.ac.uk/employability/\n",
      "043 https://www.nulondon.ac.uk/employability/careers-advice/\n",
      "044 https://www.nulondon.ac.uk/employability/employer-relations/\n",
      "045 https://www.nulondon.ac.uk/employability/graduate-destinations/\n",
      "046 https://www.nulondon.ac.uk/about-us/visit-us/\n",
      "047 https://www.nulondon.ac.uk/prospectus/\n",
      "048 #\n",
      "049 https://www.nulondon.ac.uk/about-us/\n",
      "050 https://www.nulondon.ac.uk/about-us/contact/\n",
      "051 https://www.nulondon.ac.uk/about-us/job-opportunities/\n",
      "052 https://www.nulondon.ac.uk/about-us/professional-staff/\n",
      "053 https://www.nulondon.ac.uk/academic-handbook\n",
      "054 https://www.nulondon.ac.uk/about-us/why-nulondon/\n",
      "055 https://www.nulondon.ac.uk/about-us/widening-participation/\n",
      "056 https://www.nulondon.ac.uk/about-us/contact/\n",
      "057 https://www.nulondon.ac.uk/about-us/visit-us/\n",
      "058 https://www.nulondon.ac.uk/ambassadors/\n",
      "059 #\n",
      "060 https://www.nulondon.ac.uk/blogs/news/\n",
      "061 https://www.nulondon.ac.uk/blogs/academic/\n",
      "062 https://www.nulondon.ac.uk/blogs/student/\n",
      "063 https://www.nulondon.ac.uk/blogs/apprenticeships/\n",
      "064 https://www.nulondon.ac.uk/about-us/press\n",
      "065 https://www.nulondon.ac.uk/news-and-events/events/\n",
      "066 https://www.nulondon.ac.uk/blogs/\n",
      "067 https://www.nulondon.ac.uk/nch-student-hub/\n",
      "068 https://www.nulondon.ac.uk/offer-holders/\n",
      "069 https://nulondon.peoplehr.net/\n",
      "070 https://www.nulondon.ac.uk/degrees-2023/\n",
      "071 https://www.nulondon.ac.uk/degrees/postgraduate/\n",
      "072 https://www.nulondon.ac.uk/study/apprenticeships/\n",
      "073 https://www.nulondon.ac.uk/pre-university-programmes\n",
      "074 https://www.nulondon.ac.uk/study/nch-admissions/\n",
      "075 https://www.nulondon.ac.uk/study/international-students-at-nch/visa/\n",
      "076 https://www.nulondon.ac.uk/entry-requirements-country/\n",
      "077 https://www.nulondon.ac.uk/fees-and-funding/\n",
      "078 https://www.nulondon.ac.uk/degrees/postgraduate/ai-computer-science/\n",
      "079 https://www.nulondon.ac.uk/degrees/postgraduate/ai-data-analytics/\n",
      "080 https://www.nulondon.ac.uk/degrees/postgraduate/ai-ethics/\n",
      "081 https://www.nulondon.ac.uk/degrees/postgraduate/ai-technology-leadership/\n",
      "082 https://www.nulondon.ac.uk/degrees/postgraduate/creative-writing/\n",
      "083 https://www.nulondon.ac.uk/degrees/postgraduate/politics-sustainability/\n",
      "084 https://www.nulondon.ac.uk/degrees/postgraduate/investment-banking/\n",
      "085 https://www.nulondon.ac.uk/degrees/postgraduate/philosophy-and-ai/\n",
      "086 https://www.nulondon.ac.uk/study/visit-us/pg-events/events/\n",
      "087 https://www.nulondon.ac.uk/prospectus/\n",
      "088 https://www.facebook.com/NortheasternLDN\n",
      "089 https://twitter.com/NortheasternLDN\n",
      "090 https://www.instagram.com/northeastern.ldn/\n",
      "091 https://www.youtube.com/@NortheasternLDN\n",
      "092 https://www.tiktok.com/@northeasternldn\n",
      "093 https://www.nulondon.ac.uk/nch-admissions/\n",
      "094 /home-fees/\n",
      "095 https://www.nulondon.ac.uk/entry-requirements-country/\n",
      "096 /degrees-2023/\n",
      "097 https://www.nulondon.ac.uk/notice/\n",
      "098 https://www.nulondon.ac.uk/degrees/postgraduate/\n",
      "099 /hubs/international-students/\n",
      "100 https://www.nulondon.ac.uk/ambassadors/\n",
      "101 https://www.nulondon.ac.uk/nch-admissions/\n",
      "102 /home-fees/\n",
      "103 https://www.nulondon.ac.uk/entry-requirements-country/\n",
      "104 /\n",
      "105 tel:+442076374550\n",
      "106 mailto:info@nulondon.ac.uk\n",
      "107 https://www.nulondon.ac.uk/about-us/contact/\n",
      "108 https://www.nulondon.ac.uk/visit-us/\n",
      "109 https://www.nulondon.ac.uk/prospectus/\n",
      "110 https://www.nulondon.ac.uk/about-us/academic-handbook/access-and-participation/\n",
      "111 https://www.nulondon.ac.uk/about-us/academic-handbook/nch-policies-and-procedures/data-protection/\n",
      "112 https://www.nulondon.ac.uk/about-us/academic-handbook/nch-policies-and-procedures/data-protection/\n"
     ]
    }
   ],
   "source": [
    "links = soup.body.find_all('a')\n",
    "for i, link in enumerate(links):\n",
    "    print('{:03d} {}'.format(i, link.attrs['href']))"
   ]
  },
  {
   "cell_type": "markdown",
   "metadata": {
    "slideshow": {
     "slide_type": "slide"
    }
   },
   "source": [
    "Obviously, it is likely that there are many instances of a tag in Web page (e.g. `<div>`, `<span>`, or `<p>`). We usually combine tags with special attributes, e.g. assign a `class` to style and format them appropriately.\n",
    "\n",
    "The `find()` and `find_all()` functions can search through a Web page for tags with specific attributes. Attributes can be specified as a dictionary."
   ]
  },
  {
   "cell_type": "markdown",
   "metadata": {
    "slideshow": {
     "slide_type": "slide"
    }
   },
   "source": [
    "__Example:__ Let's find all postgraduate programmes at NCH."
   ]
  },
  {
   "cell_type": "code",
   "execution_count": 7,
   "metadata": {
    "slideshow": {
     "slide_type": "fragment"
    }
   },
   "outputs": [
    {
     "name": "stdout",
     "output_type": "stream",
     "text": [
      "1: MSc Artificial Intelligence & Computer Science\n",
      "2: MSc Artificial Intelligence & Data Analytics\n",
      "3: MSc Artificial Intelligence and Ethics\n",
      "4: MSc Artificial Intelligence & Technology Leadership\n",
      "5: MA Contemporary Creative Writing\n",
      "6: MSc Digital Politics & Sustainable Development\n",
      "7: MSc Global Investment Banking\n",
      "8: MA Philosophy and Artificial Intelligence\n"
     ]
    }
   ],
   "source": [
    "programmes = soup.body.find_all('div', {'class': 'masters-degree-content'})\n",
    "for i, programme in enumerate(programmes):\n",
    "    # We can parse a child tag\n",
    "    title = programme.find('p', {'class': 'title'})\n",
    "    name = title.get_text()\n",
    "    print('{}: {}'.format(i + 1, name))"
   ]
  },
  {
   "cell_type": "markdown",
   "metadata": {
    "slideshow": {
     "slide_type": "slide"
    }
   },
   "source": [
    "__Example:__ Let's find all faculty members at NUL."
   ]
  },
  {
   "cell_type": "code",
   "execution_count": 36,
   "metadata": {
    "slideshow": {
     "slide_type": "fragment"
    }
   },
   "outputs": [
    {
     "name": "stdout",
     "output_type": "stream",
     "text": [
      "b'<!DOCTYPE html>\\n<html lang=\"en-GB\">\\n<head>\\n\\n\\t<meta charset=\"UTF-8\">\\n\\t<meta name=\"viewport\" content=\"width=device-width, initial-scale=1\">\\n\\n\\t<link rel=\"profile\" href=\"http://gmpg.org/xfn/11\">\\n\\t<link rel=\"pingback\" href=\"https://www.nulondon.ac.uk/xmlrpc.php\">\\n\\n\\t<!-- Adobe TypeKit -->\\n\\t<script src=\"//use.typekit.net/rdj0dts.js\"></script>\\n\\t<script>try{Typekit.load({async:true});}catch(e){}</script>\\n\\t\\n\\t<link rel=\"apple-touch-icon\" sizes=\"180x180\" href=\"/apple-touch-icon.png\">\\n\\t<link rel=\"icon\" type=\"image/png\" sizes=\"32x32\" href=\"/favicon-32x32.png\">\\n\\t<link rel=\"icon\" type=\"image/png\" sizes=\"16x16\" href=\"/favicon-16x16.png\">\\n\\t<link rel=\"manifest\" href=\"/site.webmanifest\">\\n\\t<link rel=\"mask-icon\" href=\"/safari-pinned-tab.svg\" color=\"#e11837\">\\n\\t<meta name=\"msapplication-TileColor\" content=\"#e11837\">\\n\\t<meta name=\"theme-color\" content=\"#ffffff\">\\n \\n\\t<meta name=\"facebook-domain-verification\" content=\"hmekue18kolnkax0ify1ucgk47tdzf\" />\\n\\t\\n\\t<!-- NUL Google Tag Manager -->\\n\\t<script data-cookieconsent=\\xe2\\x80\\x9dignore\\xe2\\x80\\x9d>(function(w,d,s,l,i){w[l]=w[l]||[];w[l].push({\\'gtm.start\\':\\n\\tnew Date().getTime(),event:\\'gtm.js\\'});var f=d.getElementsByTagName(s)[0],\\n\\tj=d.createElement(s),dl=l!=\\'dataLayer\\'?\\'&l=\\'+l:\\'\\';j.async=true;j.src=\\n\\t\\'https://www.googletagmanager.com/gtm.js?id=\\'+i+dl;f.parentNode.insertBefore(j,f);\\n\\t})(window,document,\\'script\\',\\'dataLayer\\',\\'GTM-MZHBDT\\');</script>\\n\\t<!-- End NUL Google Tag Manager -->\\n\\t\\n\\t<!-- NU Google Tag Manager (two tags) -->\\n\\t<script>(function(w,d,s,l,i){w[l]=w[l]||[];w[l].push({\\'gtm.start\\':\\n\\tnew Date().getTime(),event:\\'gtm.js\\'});var f=d.getElementsByTagName(s)[0],\\n\\tj=d.createElement(s),dl=l!=\\'dataLayer\\'?\\'&l=\\'+l:\\'\\';j.async=true;j.src=\\n\\t\\'https://www.googletagmanager.com/gtm.js?id=\\'+i+dl;f.parentNode.insertBefore(j,f);\\n\\t})(window,document,\\'script\\',\\'dataLayer\\',\\'GTM-WGQLLJ\\');</script>\\n\\t<script>(function(w,d,s,l,i){w[l]=w[l]||[];w[l].push({\\'gtm.start\\':\\n\\tnew Date().getTime(),event:\\'gtm.js\\'});var f=d.getElementsByTagName(s)[0],\\n\\tj=d.createElement(s),dl=l!=\\'dataLayer\\'?\\'&l=\\'+l:\\'\\';j.async=true;j.src=\\n\\t\\'https://www.googletagmanager.com/gtm.js?id=\\'+i+dl;f.parentNode.insertBefore(j,f);\\n\\t})(window,document,\\'script\\',\\'dataLayer\\',\\'GTM-PKNLJQX\\');</script>\\n\\t<!-- End NU Google Tag Manager -->\\n\\t\\n\\t<!-- Other Header Codes -->\\n\\t\\t\\n\\t<!-- iFrame Resize Script -->\\n\\t<script type=\"text/javascript\" src=\"https://cdnjs.cloudflare.com/ajax/libs/iframe-resizer/3.5.10/iframeResizer.min.js\"></script>\\n\\n\\t<!-- WP HEAD -->\\n\\t<meta name=\\'robots\\' content=\\'index, follow, max-image-preview:large, max-snippet:-1, max-video-preview:-1\\' />\\n\\n\\t<!-- This site is optimized with the Yoast SEO Premium plugin v21.7 (Yoast SEO v21.7) - https://yoast.com/wordpress/plugins/seo/ -->\\n\\t<title>Computing, Mathematics, Engineering &amp; Natural Sciences (CMENS) Faculty - Northeastern University London</title>\\n\\t<meta name=\"description\" content=\"Click here to see the Computing, Mathematics, Engineering &amp; Natural Sciences (CMENS) Faculty at NULondon.\" />\\n\\t<link rel=\"canonical\" href=\"https://www.nulondon.ac.uk/cmens-faculty/\" />\\n\\t<meta property=\"og:locale\" content=\"en_GB\" />\\n\\t<meta property=\"og:type\" content=\"article\" />\\n\\t<meta property=\"og:title\" content=\"Computing, Mathematics, Engineering &amp; Natural Sciences (CMENS) Faculty\" />\\n\\t<meta property=\"og:description\" content=\"Click here to see the Computing, Mathematics, Engineering &amp; Natural Sciences (CMENS) Faculty at NULondon.\" />\\n\\t<meta property=\"og:url\" content=\"https://www.nulondon.ac.uk/cmens-faculty/\" />\\n\\t<meta property=\"og:site_name\" content=\"Northeastern University London\" />\\n\\t<meta property=\"article:publisher\" content=\"http://www.facebook/com/nchlondon\" />\\n\\t<meta property=\"article:modified_time\" content=\"2024-01-30T13:00:17+00:00\" />\\n\\t<meta property=\"og:image\" content=\"https://www.nulondon.ac.uk/wp-content/uploads/2020/04/creative-internet-computer-display-2004161-scaled.jpg\" />\\n\\t<meta property=\"og:image:width\" content=\"2560\" />\\n\\t<meta property=\"og:image:height\" content=\"1707\" />\\n\\t<meta property=\"og:image:type\" content=\"image/jpeg\" />\\n\\t<meta name=\"twitter:card\" content=\"summary_large_image\" />\\n\\t<meta name=\"twitter:site\" content=\"@nchlondon\" />\\n\\t<meta name=\"twitter:label1\" content=\"Estimated reading time\" />\\n\\t<meta name=\"twitter:data1\" content=\"1 minute\" />\\n\\t<script type=\"application/ld+json\" class=\"yoast-schema-graph\">{\"@context\":\"https://schema.org\",\"@graph\":[{\"@type\":\"WebPage\",\"@id\":\"https://www.nulondon.ac.uk/cmens-faculty/\",\"url\":\"https://www.nulondon.ac.uk/cmens-faculty/\",\"name\":\"Computing, Mathematics, Engineering & Natural Sciences (CMENS) Faculty - Northeastern University London\",\"isPartOf\":{\"@id\":\"https://www.nulondon.ac.uk/#website\"},\"primaryImageOfPage\":{\"@id\":\"https://www.nulondon.ac.uk/cmens-faculty/#primaryimage\"},\"image\":{\"@id\":\"https://www.nulondon.ac.uk/cmens-faculty/#primaryimage\"},\"thumbnailUrl\":\"https://www.nulondon.ac.uk/wp-content/uploads/2020/04/creative-internet-computer-display-2004161-scaled.jpg\",\"datePublished\":\"2024-01-30T13:00:16+00:00\",\"dateModified\":\"2024-01-30T13:00:17+00:00\",\"description\":\"Click here to see the Computing, Mathematics, Engineering & Natural Sciences (CMENS) Faculty at NULondon.\",\"breadcrumb\":{\"@id\":\"https://www.nulondon.ac.uk/cmens-faculty/#breadcrumb\"},\"inLanguage\":\"en-GB\",\"potentialAction\":[{\"@type\":\"ReadAction\",\"target\":[\"https://www.nulondon.ac.uk/cmens-faculty/\"]}]},{\"@type\":\"ImageObject\",\"inLanguage\":\"en-GB\",\"@id\":\"https://www.nulondon.ac.uk/cmens-faculty/#primaryimage\",\"url\":\"https://www.nulondon.ac.uk/wp-content/uploads/2020/04/creative-internet-computer-display-2004161-scaled.jpg\",\"contentUrl\":\"https://www.nulondon.ac.uk/wp-content/uploads/2020/04/creative-internet-computer-display-2004161-scaled.jpg\",\"width\":2560,\"height\":1707},{\"@type\":\"BreadcrumbList\",\"@id\":\"https://www.nulondon.ac.uk/cmens-faculty/#breadcrumb\",\"itemListElement\":[{\"@type\":\"ListItem\",\"position\":1,\"name\":\"Home\",\"item\":\"https://www.nulondon.ac.uk/\"},{\"@type\":\"ListItem\",\"position\":2,\"name\":\"Computing, Mathematics, Engineering &#038; Natural Sciences (CMENS) Faculty\"}]},{\"@type\":\"WebSite\",\"@id\":\"https://www.nulondon.ac.uk/#website\",\"url\":\"https://www.nulondon.ac.uk/\",\"name\":\"Northeastern University London\",\"description\":\"Northeastern University London\",\"publisher\":{\"@id\":\"https://www.nulondon.ac.uk/#organization\"},\"potentialAction\":[{\"@type\":\"SearchAction\",\"target\":{\"@type\":\"EntryPoint\",\"urlTemplate\":\"https://www.nulondon.ac.uk/?s={search_term_string}\"},\"query-input\":\"required name=search_term_string\"}],\"inLanguage\":\"en-GB\"},{\"@type\":\"Organization\",\"@id\":\"https://www.nulondon.ac.uk/#organization\",\"name\":\"Northeastern University London\",\"url\":\"https://www.nulondon.ac.uk/\",\"logo\":{\"@type\":\"ImageObject\",\"inLanguage\":\"en-GB\",\"@id\":\"https://www.nulondon.ac.uk/#/schema/logo/image/\",\"url\":\"\",\"contentUrl\":\"\",\"caption\":\"Northeastern University London\"},\"image\":{\"@id\":\"https://www.nulondon.ac.uk/#/schema/logo/image/\"},\"sameAs\":[\"http://www.facebook/com/nchlondon\",\"https://twitter.com/nchlondon\"]}]}</script>\\n\\t<!-- / Yoast SEO Premium plugin. -->\\n\\n\\n<link rel=\\'dns-prefetch\\' href=\\'//js.hs-scripts.com\\' />\\n<link rel=\\'dns-prefetch\\' href=\\'//cdnjs.cloudflare.com\\' />\\n<link rel=\\'dns-prefetch\\' href=\\'//html2canvas.hertzen.com\\' />\\n<link rel=\\'dns-prefetch\\' href=\\'//maps.googleapis.com\\' />\\n<link rel=\\'dns-prefetch\\' href=\\'//maxcdn.bootstrapcdn.com\\' />\\n<link rel=\\'stylesheet\\' id=\\'wp-block-library-css\\' href=\\'https://www.nulondon.ac.uk/wp-includes/css/dist/block-library/style.min.css\\' type=\\'text/css\\' media=\\'all\\' />\\n<link rel=\\'stylesheet\\' id=\\'mediaelement-css\\' href=\\'https://www.nulondon.ac.uk/wp-includes/js/mediaelement/mediaelementplayer-legacy.min.css\\' type=\\'text/css\\' media=\\'all\\' />\\n<link rel=\\'stylesheet\\' id=\\'wp-mediaelement-css\\' href=\\'https://www.nulondon.ac.uk/wp-includes/js/mediaelement/wp-mediaelement.min.css\\' type=\\'text/css\\' media=\\'all\\' />\\n<style id=\\'classic-theme-styles-inline-css\\' type=\\'text/css\\'>\\n/*! This file is auto-generated */\\n.wp-block-button__link{color:#fff;background-color:#32373c;border-radius:9999px;box-shadow:none;text-decoration:none;padding:calc(.667em + 2px) calc(1.333em + 2px);font-size:1.125em}.wp-block-file__button{background:#32373c;color:#fff;text-decoration:none}\\n</style>\\n<style id=\\'global-styles-inline-css\\' type=\\'text/css\\'>\\nbody{--wp--preset--color--black: #000000;--wp--preset--color--cyan-bluish-gray: #abb8c3;--wp--preset--color--white: #ffffff;--wp--preset--color--pale-pink: #f78da7;--wp--preset--color--vivid-red: #cf2e2e;--wp--preset--color--luminous-vivid-orange: #ff6900;--wp--preset--color--luminous-vivid-amber: #fcb900;--wp--preset--color--light-green-cyan: #7bdcb5;--wp--preset--color--vivid-green-cyan: #00d084;--wp--preset--color--pale-cyan-blue: #8ed1fc;--wp--preset--color--vivid-cyan-blue: #0693e3;--wp--preset--color--vivid-purple: #9b51e0;--wp--preset--color--nch-blue: #0076bc;--wp--preset--color--nch-green: #b7c122;--wp--preset--gradient--vivid-cyan-blue-to-vivid-purple: linear-gradient(135deg,rgba(6,147,227,1) 0%,rgb(155,81,224) 100%);--wp--preset--gradient--light-green-cyan-to-vivid-green-cyan: linear-gradient(135deg,rgb(122,220,180) 0%,rgb(0,208,130) 100%);--wp--preset--gradient--luminous-vivid-amber-to-luminous-vivid-orange: linear-gradient(135deg,rgba(252,185,0,1) 0%,rgba(255,105,0,1) 100%);--wp--preset--gradient--luminous-vivid-orange-to-vivid-red: linear-gradient(135deg,rgba(255,105,0,1) 0%,rgb(207,46,46) 100%);--wp--preset--gradient--very-light-gray-to-cyan-bluish-gray: linear-gradient(135deg,rgb(238,238,238) 0%,rgb(169,184,195) 100%);--wp--preset--gradient--cool-to-warm-spectrum: linear-gradient(135deg,rgb(74,234,220) 0%,rgb(151,120,209) 20%,rgb(207,42,186) 40%,rgb(238,44,130) 60%,rgb(251,105,98) 80%,rgb(254,248,76) 100%);--wp--preset--gradient--blush-light-purple: linear-gradient(135deg,rgb(255,206,236) 0%,rgb(152,150,240) 100%);--wp--preset--gradient--blush-bordeaux: linear-gradient(135deg,rgb(254,205,165) 0%,rgb(254,45,45) 50%,rgb(107,0,62) 100%);--wp--preset--gradient--luminous-dusk: linear-gradient(135deg,rgb(255,203,112) 0%,rgb(199,81,192) 50%,rgb(65,88,208) 100%);--wp--preset--gradient--pale-ocean: linear-gradient(135deg,rgb(255,245,203) 0%,rgb(182,227,212) 50%,rgb(51,167,181) 100%);--wp--preset--gradient--electric-grass: linear-gradient(135deg,rgb(202,248,128) 0%,rgb(113,206,126) 100%);--wp--preset--gradient--midnight: linear-gradient(135deg,rgb(2,3,129) 0%,rgb(40,116,252) 100%);--wp--preset--font-size--small: 13px;--wp--preset--font-size--medium: 20px;--wp--preset--font-size--large: 36px;--wp--preset--font-size--x-large: 42px;--wp--preset--spacing--20: 0.44rem;--wp--preset--spacing--30: 0.67rem;--wp--preset--spacing--40: 1rem;--wp--preset--spacing--50: 1.5rem;--wp--preset--spacing--60: 2.25rem;--wp--preset--spacing--70: 3.38rem;--wp--preset--spacing--80: 5.06rem;--wp--preset--shadow--natural: 6px 6px 9px rgba(0, 0, 0, 0.2);--wp--preset--shadow--deep: 12px 12px 50px rgba(0, 0, 0, 0.4);--wp--preset--shadow--sharp: 6px 6px 0px rgba(0, 0, 0, 0.2);--wp--preset--shadow--outlined: 6px 6px 0px -3px rgba(255, 255, 255, 1), 6px 6px rgba(0, 0, 0, 1);--wp--preset--shadow--crisp: 6px 6px 0px rgba(0, 0, 0, 1);}:where(.is-layout-flex){gap: 0.5em;}:where(.is-layout-grid){gap: 0.5em;}body .is-layout-flow > .alignleft{float: left;margin-inline-start: 0;margin-inline-end: 2em;}body .is-layout-flow > .alignright{float: right;margin-inline-start: 2em;margin-inline-end: 0;}body .is-layout-flow > .aligncenter{margin-left: auto !important;margin-right: auto !important;}body .is-layout-constrained > .alignleft{float: left;margin-inline-start: 0;margin-inline-end: 2em;}body .is-layout-constrained > .alignright{float: right;margin-inline-start: 2em;margin-inline-end: 0;}body .is-layout-constrained > .aligncenter{margin-left: auto !important;margin-right: auto !important;}body .is-layout-constrained > :where(:not(.alignleft):not(.alignright):not(.alignfull)){max-width: var(--wp--style--global--content-size);margin-left: auto !important;margin-right: auto !important;}body .is-layout-constrained > .alignwide{max-width: var(--wp--style--global--wide-size);}body .is-layout-flex{display: flex;}body .is-layout-flex{flex-wrap: wrap;align-items: center;}body .is-layout-flex > *{margin: 0;}body .is-layout-grid{display: grid;}body .is-layout-grid > *{margin: 0;}:where(.wp-block-columns.is-layout-flex){gap: 2em;}:where(.wp-block-columns.is-layout-grid){gap: 2em;}:where(.wp-block-post-template.is-layout-flex){gap: 1.25em;}:where(.wp-block-post-template.is-layout-grid){gap: 1.25em;}.has-black-color{color: var(--wp--preset--color--black) !important;}.has-cyan-bluish-gray-color{color: var(--wp--preset--color--cyan-bluish-gray) !important;}.has-white-color{color: var(--wp--preset--color--white) !important;}.has-pale-pink-color{color: var(--wp--preset--color--pale-pink) !important;}.has-vivid-red-color{color: var(--wp--preset--color--vivid-red) !important;}.has-luminous-vivid-orange-color{color: var(--wp--preset--color--luminous-vivid-orange) !important;}.has-luminous-vivid-amber-color{color: var(--wp--preset--color--luminous-vivid-amber) !important;}.has-light-green-cyan-color{color: var(--wp--preset--color--light-green-cyan) !important;}.has-vivid-green-cyan-color{color: var(--wp--preset--color--vivid-green-cyan) !important;}.has-pale-cyan-blue-color{color: var(--wp--preset--color--pale-cyan-blue) !important;}.has-vivid-cyan-blue-color{color: var(--wp--preset--color--vivid-cyan-blue) !important;}.has-vivid-purple-color{color: var(--wp--preset--color--vivid-purple) !important;}.has-black-background-color{background-color: var(--wp--preset--color--black) !important;}.has-cyan-bluish-gray-background-color{background-color: var(--wp--preset--color--cyan-bluish-gray) !important;}.has-white-background-color{background-color: var(--wp--preset--color--white) !important;}.has-pale-pink-background-color{background-color: var(--wp--preset--color--pale-pink) !important;}.has-vivid-red-background-color{background-color: var(--wp--preset--color--vivid-red) !important;}.has-luminous-vivid-orange-background-color{background-color: var(--wp--preset--color--luminous-vivid-orange) !important;}.has-luminous-vivid-amber-background-color{background-color: var(--wp--preset--color--luminous-vivid-amber) !important;}.has-light-green-cyan-background-color{background-color: var(--wp--preset--color--light-green-cyan) !important;}.has-vivid-green-cyan-background-color{background-color: var(--wp--preset--color--vivid-green-cyan) !important;}.has-pale-cyan-blue-background-color{background-color: var(--wp--preset--color--pale-cyan-blue) !important;}.has-vivid-cyan-blue-background-color{background-color: var(--wp--preset--color--vivid-cyan-blue) !important;}.has-vivid-purple-background-color{background-color: var(--wp--preset--color--vivid-purple) !important;}.has-black-border-color{border-color: var(--wp--preset--color--black) !important;}.has-cyan-bluish-gray-border-color{border-color: var(--wp--preset--color--cyan-bluish-gray) !important;}.has-white-border-color{border-color: var(--wp--preset--color--white) !important;}.has-pale-pink-border-color{border-color: var(--wp--preset--color--pale-pink) !important;}.has-vivid-red-border-color{border-color: var(--wp--preset--color--vivid-red) !important;}.has-luminous-vivid-orange-border-color{border-color: var(--wp--preset--color--luminous-vivid-orange) !important;}.has-luminous-vivid-amber-border-color{border-color: var(--wp--preset--color--luminous-vivid-amber) !important;}.has-light-green-cyan-border-color{border-color: var(--wp--preset--color--light-green-cyan) !important;}.has-vivid-green-cyan-border-color{border-color: var(--wp--preset--color--vivid-green-cyan) !important;}.has-pale-cyan-blue-border-color{border-color: var(--wp--preset--color--pale-cyan-blue) !important;}.has-vivid-cyan-blue-border-color{border-color: var(--wp--preset--color--vivid-cyan-blue) !important;}.has-vivid-purple-border-color{border-color: var(--wp--preset--color--vivid-purple) !important;}.has-vivid-cyan-blue-to-vivid-purple-gradient-background{background: var(--wp--preset--gradient--vivid-cyan-blue-to-vivid-purple) !important;}.has-light-green-cyan-to-vivid-green-cyan-gradient-background{background: var(--wp--preset--gradient--light-green-cyan-to-vivid-green-cyan) !important;}.has-luminous-vivid-amber-to-luminous-vivid-orange-gradient-background{background: var(--wp--preset--gradient--luminous-vivid-amber-to-luminous-vivid-orange) !important;}.has-luminous-vivid-orange-to-vivid-red-gradient-background{background: var(--wp--preset--gradient--luminous-vivid-orange-to-vivid-red) !important;}.has-very-light-gray-to-cyan-bluish-gray-gradient-background{background: var(--wp--preset--gradient--very-light-gray-to-cyan-bluish-gray) !important;}.has-cool-to-warm-spectrum-gradient-background{background: var(--wp--preset--gradient--cool-to-warm-spectrum) !important;}.has-blush-light-purple-gradient-background{background: var(--wp--preset--gradient--blush-light-purple) !important;}.has-blush-bordeaux-gradient-background{background: var(--wp--preset--gradient--blush-bordeaux) !important;}.has-luminous-dusk-gradient-background{background: var(--wp--preset--gradient--luminous-dusk) !important;}.has-pale-ocean-gradient-background{background: var(--wp--preset--gradient--pale-ocean) !important;}.has-electric-grass-gradient-background{background: var(--wp--preset--gradient--electric-grass) !important;}.has-midnight-gradient-background{background: var(--wp--preset--gradient--midnight) !important;}.has-small-font-size{font-size: var(--wp--preset--font-size--small) !important;}.has-medium-font-size{font-size: var(--wp--preset--font-size--medium) !important;}.has-large-font-size{font-size: var(--wp--preset--font-size--large) !important;}.has-x-large-font-size{font-size: var(--wp--preset--font-size--x-large) !important;}\\n.wp-block-navigation a:where(:not(.wp-element-button)){color: inherit;}\\n:where(.wp-block-post-template.is-layout-flex){gap: 1.25em;}:where(.wp-block-post-template.is-layout-grid){gap: 1.25em;}\\n:where(.wp-block-columns.is-layout-flex){gap: 2em;}:where(.wp-block-columns.is-layout-grid){gap: 2em;}\\n.wp-block-pullquote{font-size: 1.5em;line-height: 1.6;}\\n</style>\\n<link rel=\\'stylesheet\\' id=\\'contact-form-7-css\\' href=\\'https://www.nulondon.ac.uk/wp-content/plugins/contact-form-7/includes/css/styles.css\\' type=\\'text/css\\' media=\\'all\\' />\\n<link rel=\\'stylesheet\\' id=\\'recent-facebook-posts-css-css\\' href=\\'https://www.nulondon.ac.uk/wp-content/plugins/recent-facebook-posts/assets/css/default.min.css\\' type=\\'text/css\\' media=\\'all\\' />\\n<link rel=\\'stylesheet\\' id=\\'cff-css\\' href=\\'https://www.nulondon.ac.uk/wp-content/plugins/custom-facebook-feed/assets/css/cff-style.min.css\\' type=\\'text/css\\' media=\\'all\\' />\\n<link rel=\\'stylesheet\\' id=\\'sb-font-awesome-css\\' href=\\'https://maxcdn.bootstrapcdn.com/font-awesome/4.7.0/css/font-awesome.min.css\\' type=\\'text/css\\' media=\\'all\\' />\\n<link rel=\\'stylesheet\\' id=\\'searchwp-live-search-css\\' href=\\'https://www.nulondon.ac.uk/wp-content/plugins/searchwp-live-ajax-search/assets/styles/style.css\\' type=\\'text/css\\' media=\\'all\\' />\\n<link rel=\\'stylesheet\\' id=\\'main-styles-css\\' href=\\'https://www.nulondon.ac.uk/wp-content/themes/new-college-of-the-humanities/style.css\\' type=\\'text/css\\' media=\\'all\\' />\\n<script type=\"text/javascript\" src=\"https://www.nulondon.ac.uk/wp-content/themes/new-college-of-the-humanities/build/js/font-awesome-config.min.js\" id=\"font-awesome-config-js-js\"></script>\\n<script type=\"text/javascript\" src=\"https://cdnjs.cloudflare.com/ajax/libs/font-awesome/5.15.3/js/all.min.js\" id=\"font-awesome-js\"></script>\\n<link rel=\"https://api.w.org/\" href=\"https://www.nulondon.ac.uk/wp-json/\" /><link rel=\"alternate\" type=\"application/json\" href=\"https://www.nulondon.ac.uk/wp-json/wp/v2/pages/152532\" /><link rel=\"alternate\" type=\"application/json+oembed\" href=\"https://www.nulondon.ac.uk/wp-json/oembed/1.0/embed?url=https%3A%2F%2Fwww.nulondon.ac.uk%2Fcmens-faculty%2F\" />\\n<link rel=\"alternate\" type=\"text/xml+oembed\" href=\"https://www.nulondon.ac.uk/wp-json/oembed/1.0/embed?url=https%3A%2F%2Fwww.nulondon.ac.uk%2Fcmens-faculty%2F&#038;format=xml\" />\\n\\t\\t\\t<!-- DO NOT COPY THIS SNIPPET! Start of Page Analytics Tracking for HubSpot WordPress plugin v10.2.17-->\\n\\t\\t\\t<script type=\"text/javascript\" class=\"hsq-set-content-id\" data-content-id=\"standard-page\">\\n\\t\\t\\t\\tvar _hsq = _hsq || [];\\n\\t\\t\\t\\t_hsq.push([\"setContentType\", \"standard-page\"]);\\n\\t\\t\\t</script>\\n\\t\\t\\t<!-- DO NOT COPY THIS SNIPPET! End of Page Analytics Tracking for HubSpot WordPress plugin -->\\n\\t\\t\\t\\t\\t<script>\\r\\n\\t\\t\\tdocument.documentElement.className = document.documentElement.className.replace( \\'no-js\\', \\'js\\' );\\r\\n\\t\\t</script>\\r\\n\\t\\t\\t\\t<style>\\r\\n\\t\\t\\t.no-js img.lazyload { display: none; }\\r\\n\\t\\t\\tfigure.wp-block-image img.lazyloading { min-width: 150px; }\\r\\n\\t\\t\\t\\t\\t\\t\\t.lazyload, .lazyloading { opacity: 0; }\\r\\n\\t\\t\\t\\t.lazyloaded {\\r\\n\\t\\t\\t\\t\\topacity: 1;\\r\\n\\t\\t\\t\\t\\ttransition: opacity 400ms;\\r\\n\\t\\t\\t\\t\\ttransition-delay: 0ms;\\r\\n\\t\\t\\t\\t}\\r\\n\\t\\t\\t\\t\\t</style>\\r\\n\\t\\t\\n</head>\\n\\n\\n\\t\\n\\t\\t<body class=\"page-template page-template-page-builder page-template-page-builder-php page page-id-152532\" data-header-ctas=\"visible\">\\n\\n\\t\\n\\n\\t<!-- NUL Google Tag Manager (noscript) -->\\n\\t<noscript><iframe  height=\"0\" width=\"0\" style=\"display:none;visibility:hidden\" data-src=\"https://www.googletagmanager.com/ns.html?id=GTM-MZHBDT\" class=\"lazyload\" src=\"data:image/gif;base64,R0lGODlhAQABAAAAACH5BAEKAAEALAAAAAABAAEAAAICTAEAOw==\"></iframe></noscript>\\n\\t<!-- End NUL Google Tag Manager (noscript) -->\\n\\t\\n\\t<!-- NU Google Tag Manager (noscript) (two tags) -->\\n\\t<noscript><iframe  height=\"0\" width=\"0\" style=\"display:none;visibility:hidden\" data-src=\"https://www.googletagmanager.com/ns.html?id=GTM-WGQLLJ\" class=\"lazyload\" src=\"data:image/gif;base64,R0lGODlhAQABAAAAACH5BAEKAAEALAAAAAABAAEAAAICTAEAOw==\"></iframe></noscript>\\n\\t<noscript><iframe  height=\"0\" width=\"0\" style=\"display:none;visibility:hidden\" data-src=\"https://www.googletagmanager.com/ns.html?id=GTM-PKNLJQX\" class=\"lazyload\" src=\"data:image/gif;base64,R0lGODlhAQABAAAAACH5BAEKAAEALAAAAAABAAEAAAICTAEAOw==\"></iframe></noscript>\\n\\t<!-- End NU Google Tag Manager (noscript) -->\\n\\n\\t\\n\\t\\n\\t<div id=\"page\" class=\"hfeed site\">\\n\\n\\t\\t\\n\\t\\t\\t<div id=\"header-ctas\" class=\"header-ctas-nch-blue-2\">\\n\\n\\t\\t\\t\\t<div class=\"container\">\\n\\n\\t\\t\\t\\t\\t<div class=\"row\">\\n\\n\\t\\t\\t\\t\\t\\t<div class=\"col-12\">\\n\\n\\t\\t\\t\\t\\t\\t\\t<p><strong>Click here to start your application.</strong>  <a href=\"https://www.nulondon.ac.uk/application/\">Apply now</a></p>\\n\\n\\t\\t\\t\\t\\t\\t</div>\\n\\n\\t\\t\\t\\t\\t</div><!-- .row -->\\n\\n\\t\\t\\t\\t</div><!-- .container -->\\n\\n\\t\\t\\t</div><!-- #header-ctas -->\\n\\n\\t\\t\\n\\n\\t\\t\\n\\t\\t\\n\\t\\t\\t<nav id=\"misc-nav\">\\n\\n\\t\\t\\t\\t<div class=\\'container-fluid\\'>\\n\\n\\t\\t\\t\\t    <div class=\\'row\\'>\\n\\n\\t\\t\\t\\t\\t\\t<div class=\\'col-12 col-sm-6\\'>\\n\\n\\t\\t\\t\\t\\t\\t    <span class=\"phone-number\"><i class=\"fa fa-phone\"></i> <a href=\"tel:+442076374550\">+44 (0)20 7637 4550</a></span>\\n\\n\\t\\t\\t\\t\\t\\t</div><!-- .col-12 -->\\n\\n\\t\\t\\t\\t        <div class=\\'col-12 col-sm-6\\'>\\n\\n\\t\\t\\t\\t\\t\\t\\t<nav class=\"misc-nav\">\\n\\n\\t\\t\\t\\t\\t\\t\\t\\t\\n\\t\\t\\t\\t\\t\\t\\t\\t\\t\\n\\t\\t\\t\\t\\t\\t\\t\\t\\t\\t\\t\\t\\t\\t\\t\\t\\t\\t\\t<a href=\"https://www.nulondon.ac.uk/nch-student-hub/\" target=\"\">Current students</a>\\n\\t\\t\\t\\t\\t\\t\\t\\t\\t\\n\\t\\t\\t\\t\\t\\t\\t\\t\\n\\t\\t\\t\\t\\t\\t\\t\\t\\t\\n\\t\\t\\t\\t\\t\\t\\t\\t\\t\\t\\t\\t\\t\\t\\t\\t\\t\\t\\t<a href=\"https://www.nulondon.ac.uk/offer-holders/\" target=\"\">Offer holders</a>\\n\\t\\t\\t\\t\\t\\t\\t\\t\\t\\n\\t\\t\\t\\t\\t\\t\\t\\t\\n\\t\\t\\t\\t\\t\\t\\t\\t\\t\\n\\t\\t\\t\\t\\t\\t\\t\\t\\t\\t\\t\\t\\t\\t\\t\\t\\t\\t\\t<a href=\"https://nulondon.peoplehr.net/\" target=\"\">Staff Only</a>\\n\\t\\t\\t\\t\\t\\t\\t\\t\\t\\n\\t\\t\\t\\t\\t\\t\\t\\t\\n\\t\\t\\t\\t\\t\\t\\t</nav><!-- .misc-nav -->\\n\\n\\t\\t\\t\\t\\t\\t</div><!-- .col-12 -->\\n\\n\\t\\t\\t\\t   </div><!-- .row -->\\n\\n\\t\\t\\t   </div><!-- .container-fluid -->\\n\\n\\t\\t   </nav><!-- #misc-nav -->\\n\\n\\t\\t\\n\\n\\n\\n\\t\\t<nav id=\"main-nav\" class=\"navbar navbar-default navbar-expand-lg\">\\n\\n\\t\\t\\t<div class=\"container-fluid\">\\n\\n\\t\\t\\t\\t<!-- Brand and toggle get grouped for better mobile display -->\\n\\t\\t\\t\\t<div class=\"navbar-header\">\\n\\n\\t\\t\\t\\t\\t<button type=\"button\" class=\"navbar-toggle collapsed\" data-toggle=\"collapse\" data-target=\"#nch-main-nav-collapse\" aria-expanded=\"false\">\\n\\t\\t\\t\\t\\t\\t<i class=\"icon\">\\n\\t\\t\\t\\t\\t\\t\\t<span></span>\\n\\t\\t\\t\\t\\t\\t\\t<span></span>\\n\\t\\t\\t\\t\\t\\t\\t<span></span>\\n\\t\\t\\t\\t\\t\\t\\t<span></span>\\n\\t\\t\\t\\t\\t\\t</i>\\n\\t\\t\\t\\t\\t</button>\\n\\n\\t\\t\\t\\t\\t<a class=\"navbar-brand\" href=\"/\">\\n\\t\\t\\t\\t\\t\\t<img  alt=\"Northeastern University London\" data-src=\"https://www.nulondon.ac.uk/wp-content/themes/new-college-of-the-humanities/assets/images/logo-northeastern-uni-london-nch.svg\" class=\"lazyload\" src=\"data:image/gif;base64,R0lGODlhAQABAAAAACH5BAEKAAEALAAAAAABAAEAAAICTAEAOw==\"><noscript><img  alt=\"Northeastern University London\" data-src=\"https://www.nulondon.ac.uk/wp-content/themes/new-college-of-the-humanities/assets/images/logo-northeastern-uni-london-nch.svg\" class=\"lazyload\" src=\"data:image/gif;base64,R0lGODlhAQABAAAAACH5BAEKAAEALAAAAAABAAEAAAICTAEAOw==\"><noscript><img src=\"https://www.nulondon.ac.uk/wp-content/themes/new-college-of-the-humanities/assets/images/logo-northeastern-uni-london-nch.svg\" alt=\"Northeastern University London\"></noscript></noscript>\\n\\t\\t\\t\\t\\t</a>\\n\\n\\t\\t\\t\\t</div>\\n\\n\\t\\t\\t\\t<!-- Collect the nav links, forms, and other content for toggling -->\\n\\t\\t\\t\\t<div class=\"collapse navbar-collapse\" id=\"nch-main-nav-collapse\">\\n\\n\\t\\t\\t\\t\\t\\n\\t\\t\\t\\t\\t\\t<ul class=\"nav navbar-nav mr-auto\">\\n\\n\\t\\t\\t\\t\\t\\t\\t\\n\\t\\t\\t\\t\\t\\t\\t\\t<li class=\"nav-item dropdown\">\\n\\n\\t\\t\\t\\t\\t\\t\\t\\t\\t<a class=\"nav-link dropdown-toggle \" href=\"#\" id=\"navbarDropdown\" role=\"button\" data-toggle=\"dropdown\" aria-haspopup=\"true\" aria-expanded=\"false\">Study</a>\\n\\n\\t\\t\\t\\t\\t\\t\\t\\t\\t<div class=\"dropdown-menu\" aria-labelledby=\"navbarDropdown\">\\n\\n\\t\\t\\t\\t\\t\\t\\t\\t\\t\\t<div class=\\'container\\'>\\n\\n\\t\\t\\t\\t\\t\\t\\t\\t\\t\\t    <div class=\\'row\\'>\\n\\n\\t\\t\\t\\t\\t\\t\\t\\t\\t\\t        <div class=\\'col-12 col-lg-10 offset-lg-1\\'>\\n\\n\\t\\t\\t\\t\\t\\t\\t\\t\\t\\t            <div class=\\'row\\'>\\n\\n\\t\\t\\t\\t\\t\\t\\t\\t\\t\\t\\t\\t\\t\\t\\n\\t\\t\\t\\t\\t\\t\\t\\t\\t\\t\\t                <div class=\\'col-12 col-md-8 links\\'>\\n\\n\\t\\t\\t\\t\\t\\t\\t\\t\\t\\t\\t\\t\\t\\t\\t\\t\\n\\t\\t\\t\\t\\t\\t\\t\\t\\t\\t\\t\\t\\t\\t\\t\\t\\t\\t\\t\\t\\t\\t\\t\\t\\t\\t\\t\\t\\t\\t\\t\\t\\t\\t\\n\\t\\t\\t\\t\\t\\t\\t\\t\\t\\t\\t                    \\t\\t<a href=\"https://www.nulondon.ac.uk/degrees-2023/\" target=\"\" class=\"menu-link\">Undergraduate Degrees</a>\\n\\n\\t\\t\\t\\t\\t\\t\\t\\t\\t\\t\\t\\t\\t\\t\\t\\t\\t\\n\\t\\t\\t\\t\\t\\t\\t\\t\\t\\t\\t\\t\\t\\t\\t\\t\\t\\n\\t\\t\\t\\t\\t\\t\\t\\t\\t\\t\\t\\t\\t\\t\\t\\t\\n\\t\\t\\t\\t\\t\\t\\t\\t\\t\\t\\t\\t\\t\\t\\t\\t\\t\\t\\t\\t\\t\\t\\t\\t\\t\\t\\t\\t\\t\\t\\t\\t\\t\\t\\n\\t\\t\\t\\t\\t\\t\\t\\t\\t\\t\\t                    \\t\\t<a href=\"https://www.nulondon.ac.uk/degrees/postgraduate/\" target=\"\" class=\"menu-link\">Postgraduate Degrees</a>\\n\\n\\t\\t\\t\\t\\t\\t\\t\\t\\t\\t\\t\\t\\t\\t\\t\\t\\t\\n\\t\\t\\t\\t\\t\\t\\t\\t\\t\\t\\t\\t\\t\\t\\t\\t\\t\\n\\t\\t\\t\\t\\t\\t\\t\\t\\t\\t\\t\\t\\t\\t\\t\\t\\n\\t\\t\\t\\t\\t\\t\\t\\t\\t\\t\\t\\t\\t\\t\\t\\t\\t\\t\\t\\t\\t\\t\\t\\t\\t\\t\\t\\t\\t\\t\\t\\t\\t\\t\\n\\t\\t\\t\\t\\t\\t\\t\\t\\t\\t\\t                    \\t\\t<a href=\"https://www.nulondon.ac.uk/study/apprenticeships/\" target=\"\" class=\"menu-link\">Workforce Development</a>\\n\\n\\t\\t\\t\\t\\t\\t\\t\\t\\t\\t\\t\\t\\t\\t\\t\\t\\t\\n\\t\\t\\t\\t\\t\\t\\t\\t\\t\\t\\t\\t\\t\\t\\t\\t\\t\\n\\t\\t\\t\\t\\t\\t\\t\\t\\t\\t\\t\\t\\t\\t\\t\\t\\n\\t\\t\\t\\t\\t\\t\\t\\t\\t\\t\\t\\t\\t\\t\\t\\t\\t\\t\\t\\t\\t\\t\\t\\t\\t\\t\\t\\t\\t\\t\\t\\t\\t\\t\\n\\t\\t\\t\\t\\t\\t\\t\\t\\t\\t\\t                    \\t\\t<a href=\"https://www.nulondon.ac.uk/pre-university-programmes\" target=\"\" class=\"menu-link\">Pre-University Programmes</a>\\n\\n\\t\\t\\t\\t\\t\\t\\t\\t\\t\\t\\t\\t\\t\\t\\t\\t\\t\\n\\t\\t\\t\\t\\t\\t\\t\\t\\t\\t\\t\\t\\t\\t\\t\\t\\t\\n\\t\\t\\t\\t\\t\\t\\t\\t\\t\\t\\t\\t\\t\\t\\t\\t\\n\\t\\t\\t\\t\\t\\t\\t\\t\\t\\t\\t\\t\\t\\t\\t\\t\\t\\t\\t\\t\\t\\t\\t\\t\\t\\t\\t\\t\\t\\t\\t\\t\\t\\t\\n\\t\\t\\t\\t\\t\\t\\t\\t\\t\\t\\t                    \\t\\t<a href=\"https://www.nulondon.ac.uk/study/nch-admissions/\" target=\"\" class=\"menu-link\">Admissions</a>\\n\\n\\t\\t\\t\\t\\t\\t\\t\\t\\t\\t\\t\\t\\t\\t\\t\\t\\t\\n\\t\\t\\t\\t\\t\\t\\t\\t\\t\\t\\t\\t\\t\\t\\t\\t\\t\\n\\t\\t\\t\\t\\t\\t\\t\\t\\t\\t\\t\\t\\t\\t\\t\\t\\n\\t\\t\\t\\t\\t\\t\\t\\t\\t\\t\\t\\t\\t\\t\\t\\t\\t\\t\\t\\t\\t\\t\\t\\t\\t\\t\\t\\t\\t\\t\\t\\t\\t\\t\\n\\t\\t\\t\\t\\t\\t\\t\\t\\t\\t\\t                    \\t\\t<a href=\"https://www.nulondon.ac.uk/study/international-students-at-nch/visa/\" target=\"\" class=\"menu-link\">Visas</a>\\n\\n\\t\\t\\t\\t\\t\\t\\t\\t\\t\\t\\t\\t\\t\\t\\t\\t\\t\\n\\t\\t\\t\\t\\t\\t\\t\\t\\t\\t\\t\\t\\t\\t\\t\\t\\t\\n\\t\\t\\t\\t\\t\\t\\t\\t\\t\\t\\t\\t\\t\\t\\t\\t\\n\\t\\t\\t\\t\\t\\t\\t\\t\\t\\t\\t\\t\\t\\t\\t\\t\\t\\t\\t\\t\\t\\t\\t\\t\\t\\t\\t\\t\\t\\t\\t\\t\\t\\t\\n\\t\\t\\t\\t\\t\\t\\t\\t\\t\\t\\t                    \\t\\t<a href=\"https://www.nulondon.ac.uk/entry-requirements-country/\" target=\"\" class=\"menu-link\">Entry requirements</a>\\n\\n\\t\\t\\t\\t\\t\\t\\t\\t\\t\\t\\t\\t\\t\\t\\t\\t\\t\\n\\t\\t\\t\\t\\t\\t\\t\\t\\t\\t\\t\\t\\t\\t\\t\\t\\t\\n\\t\\t\\t\\t\\t\\t\\t\\t\\t\\t\\t\\t\\t\\t\\t\\t\\n\\t\\t\\t\\t\\t\\t\\t\\t\\t\\t\\t\\t\\t\\t\\t\\t\\t\\t\\t\\t\\t\\t\\t\\t\\t\\t\\t\\t\\t\\t\\t\\t\\t\\t\\n\\t\\t\\t\\t\\t\\t\\t\\t\\t\\t\\t                    \\t\\t<a href=\"https://www.nulondon.ac.uk/fees-and-funding/\" target=\"\" class=\"menu-link\">Fees & Funding</a>\\n\\n\\t\\t\\t\\t\\t\\t\\t\\t\\t\\t\\t\\t\\t\\t\\t\\t\\t\\n\\t\\t\\t\\t\\t\\t\\t\\t\\t\\t\\t\\t\\t\\t\\t\\t\\t\\n\\t\\t\\t\\t\\t\\t\\t\\t\\t\\t\\t\\t\\t\\t\\t\\t\\n\\t\\t\\t\\t\\t\\t\\t\\t\\t\\t\\t                </div><!-- .col-12 -->\\n\\n\\t\\t\\t\\t\\t\\t\\t\\t\\t\\t\\t\\t\\t\\t\\n\\t\\t\\t\\t\\t\\t\\t\\t\\t\\t\\t\\t\\t\\t\\n\\t\\t\\t\\t\\t\\t\\t\\t\\t\\t\\t\\t\\t\\t\\t<div class=\\'col-12 col-md-4\\'>\\n\\n\\t\\t\\t\\t\\t\\t\\t\\t\\t\\t\\t\\t\\t\\t\\t\\t\\n\\t\\t\\t\\t\\t\\t\\t\\t\\t\\t\\t\\t\\t\\t\\t\\t\\t\\t\\t\\t\\t\\t\\t\\t\\t\\t\\t\\t\\t\\t\\t\\t\\t\\t\\n\\t\\t\\t\\t\\t\\t\\t\\t\\t\\t\\t\\t                    \\t<a href=\"https://www.nulondon.ac.uk/application/\" target=\"_blank\" class=\"btn btn-primary btn-block\">Start your application</a>\\n\\n\\t\\t\\t\\t\\t\\t\\t\\t\\t\\t\\t\\t\\t\\t\\t\\t\\t\\n\\t\\t\\t\\t\\t\\t\\t\\t\\t\\t\\t\\t\\t\\t\\t\\t\\t\\n\\t\\t\\t\\t\\t\\t\\t\\t\\t\\t\\t\\t\\t\\t\\t\\t\\n\\t\\t\\t\\t\\t\\t\\t\\t\\t\\t\\t\\t\\t\\t\\t\\t\\t\\t\\t\\t\\t\\t\\t\\t\\t\\t\\t\\t\\t\\t\\t\\t\\t\\t\\n\\t\\t\\t\\t\\t\\t\\t\\t\\t\\t\\t\\t                    \\t<a href=\"https://www.nulondon.ac.uk/prospectus/\" target=\"_blank\" class=\"btn btn-default btn-block\">Download a prospectus</a>\\n\\n\\t\\t\\t\\t\\t\\t\\t\\t\\t\\t\\t\\t\\t\\t\\t\\t\\t\\n\\t\\t\\t\\t\\t\\t\\t\\t\\t\\t\\t\\t\\t\\t\\t\\t\\t\\n\\t\\t\\t\\t\\t\\t\\t\\t\\t\\t\\t\\t\\t\\t\\t\\t\\n\\t\\t\\t\\t\\t\\t\\t\\t\\t\\t\\t\\t\\t\\t\\t\\t\\t\\t\\t\\t\\t\\t\\t\\t\\t\\t\\t\\t\\t\\t\\t\\t\\t\\t\\n\\t\\t\\t\\t\\t\\t\\t\\t\\t\\t\\t\\t                    \\t<a href=\"https://www.nulondon.ac.uk/study/visit-us/\" target=\"\" class=\"btn btn-default btn-block\">Visit us</a>\\n\\n\\t\\t\\t\\t\\t\\t\\t\\t\\t\\t\\t\\t\\t\\t\\t\\t\\t\\n\\t\\t\\t\\t\\t\\t\\t\\t\\t\\t\\t\\t\\t\\t\\t\\t\\t\\n\\t\\t\\t\\t\\t\\t\\t\\t\\t\\t\\t\\t\\t\\t\\t\\t\\n\\t\\t\\t\\t\\t\\t\\t\\t\\t\\t\\t                </div><!-- .col-12 -->\\n\\n\\t\\t\\t\\t\\t\\t\\t\\t\\t\\t\\t\\t\\t\\t\\n\\t\\t\\t\\t\\t\\t\\t\\t\\t\\t            </div><!-- .row -->\\n\\n\\t\\t\\t\\t\\t\\t\\t\\t\\t\\t        </div><!-- .col -->\\n\\n\\t\\t\\t\\t\\t\\t\\t\\t\\t\\t    </div><!-- .row -->\\n\\n\\t\\t\\t\\t\\t\\t\\t\\t\\t\\t</div><!-- .container -->\\n\\n\\t\\t\\t\\t\\t\\t\\t\\t\\t</div><!-- .dropdown-menu -->\\n\\n\\t\\t\\t\\t\\t\\t\\t\\t</li><!-- .dropdown -->\\n\\n\\t\\t\\t\\t\\t\\t\\t\\t\\n\\t\\t\\t\\t\\t\\t\\t\\n\\t\\t\\t\\t\\t\\t\\t\\t<li class=\"nav-item dropdown\">\\n\\n\\t\\t\\t\\t\\t\\t\\t\\t\\t<a class=\"nav-link dropdown-toggle is-sub-nav\" href=\"#\" id=\"navbarDropdown\" role=\"button\" data-toggle=\"dropdown\" aria-haspopup=\"true\" aria-expanded=\"false\">Faculties</a>\\n\\n\\t\\t\\t\\t\\t\\t\\t\\t\\t<div class=\"dropdown-menu\" aria-labelledby=\"navbarDropdown\">\\n\\n\\t\\t\\t\\t\\t\\t\\t\\t\\t\\t<div class=\\'container\\'>\\n\\n\\t\\t\\t\\t\\t\\t\\t\\t\\t\\t    <div class=\\'row\\'>\\n\\n\\t\\t\\t\\t\\t\\t\\t\\t\\t\\t        <div class=\\'col-12 col-lg-10 offset-lg-1\\'>\\n\\n\\t\\t\\t\\t\\t\\t\\t\\t\\t\\t            <div class=\\'row\\'>\\n\\n\\t\\t\\t\\t\\t\\t\\t\\t\\t\\t\\t\\t\\t\\t\\n\\t\\t\\t\\t\\t\\t\\t\\t\\t\\t\\t                <div class=\\'col-12 col-md-8 links\\'>\\n\\n\\t\\t\\t\\t\\t\\t\\t\\t\\t\\t\\t\\t\\t\\t\\t\\t\\n\\t\\t\\t\\t\\t\\t\\t\\t\\t\\t\\t\\t\\t\\t\\t\\t\\t\\t\\t\\t\\t\\t\\t\\t\\t\\t\\t\\t\\t\\t\\t\\t\\t\\t\\n\\t\\t\\t\\t\\t\\t\\t\\t\\t\\t\\t                    \\t\\t<a href=\"https://www.nulondon.ac.uk/cmens-faculty/\" target=\"\" class=\"menu-link\">Computer & Data Science</a>\\n\\n\\t\\t\\t\\t\\t\\t\\t\\t\\t\\t\\t\\t\\t\\t\\t\\t\\t\\n\\t\\t\\t\\t\\t\\t\\t\\t\\t\\t\\t\\t\\t\\t\\t\\t\\t\\n\\t\\t\\t\\t\\t\\t\\t\\t\\t\\t\\t\\t\\t\\t\\t\\t\\n\\t\\t\\t\\t\\t\\t\\t\\t\\t\\t\\t\\t\\t\\t\\t\\t\\t\\t\\t\\t\\t\\t\\t\\t\\t\\t\\t\\t\\t\\t\\t\\t\\t\\t\\n\\t\\t\\t\\t\\t\\t\\t\\t\\t\\t\\t                    \\t\\t<a href=\"https://www.nulondon.ac.uk/faculties/economics-faculty/\" target=\"\" class=\"menu-link\">Economics</a>\\n\\n\\t\\t\\t\\t\\t\\t\\t\\t\\t\\t\\t\\t\\t\\t\\t\\t\\t\\n\\t\\t\\t\\t\\t\\t\\t\\t\\t\\t\\t\\t\\t\\t\\t\\t\\t\\n\\t\\t\\t\\t\\t\\t\\t\\t\\t\\t\\t\\t\\t\\t\\t\\t\\n\\t\\t\\t\\t\\t\\t\\t\\t\\t\\t\\t\\t\\t\\t\\t\\t\\t\\t\\t\\t\\t\\t\\t\\t\\t\\t\\t\\t\\t\\t\\t\\t\\t\\t\\n\\t\\t\\t\\t\\t\\t\\t\\t\\t\\t\\t                    \\t\\t<a href=\"https://www.nulondon.ac.uk/faculties/english-faculty-2/\" target=\"\" class=\"menu-link\">English</a>\\n\\n\\t\\t\\t\\t\\t\\t\\t\\t\\t\\t\\t\\t\\t\\t\\t\\t\\t\\n\\t\\t\\t\\t\\t\\t\\t\\t\\t\\t\\t\\t\\t\\t\\t\\t\\t\\n\\t\\t\\t\\t\\t\\t\\t\\t\\t\\t\\t\\t\\t\\t\\t\\t\\n\\t\\t\\t\\t\\t\\t\\t\\t\\t\\t\\t\\t\\t\\t\\t\\t\\t\\t\\t\\t\\t\\t\\t\\t\\t\\t\\t\\t\\t\\t\\t\\t\\t\\t\\n\\t\\t\\t\\t\\t\\t\\t\\t\\t\\t\\t                    \\t\\t<a href=\"https://www.nulondon.ac.uk/faculties/history-faculty/\" target=\"\" class=\"menu-link\">History faculty</a>\\n\\n\\t\\t\\t\\t\\t\\t\\t\\t\\t\\t\\t\\t\\t\\t\\t\\t\\t\\n\\t\\t\\t\\t\\t\\t\\t\\t\\t\\t\\t\\t\\t\\t\\t\\t\\t\\n\\t\\t\\t\\t\\t\\t\\t\\t\\t\\t\\t\\t\\t\\t\\t\\t\\n\\t\\t\\t\\t\\t\\t\\t\\t\\t\\t\\t\\t\\t\\t\\t\\t\\t\\t\\t\\t\\t\\t\\t\\t\\t\\t\\t\\t\\t\\t\\t\\t\\t\\t\\n\\t\\t\\t\\t\\t\\t\\t\\t\\t\\t\\t                    \\t\\t<a href=\"https://www.nulondon.ac.uk/faculties/law-faculty/\" target=\"\" class=\"menu-link\">Law </a>\\n\\n\\t\\t\\t\\t\\t\\t\\t\\t\\t\\t\\t\\t\\t\\t\\t\\t\\t\\n\\t\\t\\t\\t\\t\\t\\t\\t\\t\\t\\t\\t\\t\\t\\t\\t\\t\\n\\t\\t\\t\\t\\t\\t\\t\\t\\t\\t\\t\\t\\t\\t\\t\\t\\n\\t\\t\\t\\t\\t\\t\\t\\t\\t\\t\\t\\t\\t\\t\\t\\t\\t\\t\\t\\t\\t\\t\\t\\t\\t\\t\\t\\t\\t\\t\\t\\t\\t\\t\\n\\t\\t\\t\\t\\t\\t\\t\\t\\t\\t\\t                    \\t\\t<a href=\"https://www.nulondon.ac.uk/faculties/philosophy-faculty/\" target=\"\" class=\"menu-link\">Philosophy </a>\\n\\n\\t\\t\\t\\t\\t\\t\\t\\t\\t\\t\\t\\t\\t\\t\\t\\t\\t\\n\\t\\t\\t\\t\\t\\t\\t\\t\\t\\t\\t\\t\\t\\t\\t\\t\\t\\n\\t\\t\\t\\t\\t\\t\\t\\t\\t\\t\\t\\t\\t\\t\\t\\t\\n\\t\\t\\t\\t\\t\\t\\t\\t\\t\\t\\t\\t\\t\\t\\t\\t\\t\\t\\t\\t\\t\\t\\t\\t\\t\\t\\t\\t\\t\\t\\t\\t\\t\\t\\n\\t\\t\\t\\t\\t\\t\\t\\t\\t\\t\\t                    \\t\\t<a href=\"https://www.nulondon.ac.uk/faculties/politics-ir-faculty/\" target=\"\" class=\"menu-link\">Politics & IR </a>\\n\\n\\t\\t\\t\\t\\t\\t\\t\\t\\t\\t\\t\\t\\t\\t\\t\\t\\t\\n\\t\\t\\t\\t\\t\\t\\t\\t\\t\\t\\t\\t\\t\\t\\t\\t\\t\\n\\t\\t\\t\\t\\t\\t\\t\\t\\t\\t\\t\\t\\t\\t\\t\\t\\n\\t\\t\\t\\t\\t\\t\\t\\t\\t\\t\\t\\t\\t\\t\\t\\t\\t\\t\\t\\t\\t\\t\\t\\t\\t\\t\\t\\t\\t\\t\\t\\t\\t\\t\\n\\t\\t\\t\\t\\t\\t\\t\\t\\t\\t\\t                    \\t\\t<a href=\"https://www.nulondon.ac.uk/faculties/research-at-nch/\" target=\"\" class=\"menu-link\">Research and External Recognition</a>\\n\\n\\t\\t\\t\\t\\t\\t\\t\\t\\t\\t\\t\\t\\t\\t\\t\\t\\t\\n\\t\\t\\t\\t\\t\\t\\t\\t\\t\\t\\t\\t\\t\\t\\t\\t\\t\\n\\t\\t\\t\\t\\t\\t\\t\\t\\t\\t\\t\\t\\t\\t\\t\\t\\n\\t\\t\\t\\t\\t\\t\\t\\t\\t\\t\\t\\t\\t\\t\\t\\t\\t\\t\\t\\t\\t\\t\\t\\t\\t\\t\\t\\t\\t\\t\\t\\t\\t\\t\\n\\t\\t\\t\\t\\t\\t\\t\\t\\t\\t\\t                    \\t\\t<a href=\"https://www.nulondon.ac.uk/academic-management-structure/\" target=\"\" class=\"menu-link\">Academic Management Structure</a>\\n\\n\\t\\t\\t\\t\\t\\t\\t\\t\\t\\t\\t\\t\\t\\t\\t\\t\\t\\n\\t\\t\\t\\t\\t\\t\\t\\t\\t\\t\\t\\t\\t\\t\\t\\t\\t\\n\\t\\t\\t\\t\\t\\t\\t\\t\\t\\t\\t\\t\\t\\t\\t\\t\\n\\t\\t\\t\\t\\t\\t\\t\\t\\t\\t\\t\\t\\t\\t\\t\\t\\t\\t\\t\\t\\t\\t\\t\\t\\t\\t\\t\\t\\t\\t\\t\\t\\t\\t\\n\\t\\t\\t\\t\\t\\t\\t\\t\\t\\t\\t\\t\\t\\t\\t\\t\\t\\n\\t\\t\\t\\t\\t\\t\\t\\t\\t\\t\\t\\t\\t\\t\\t\\t\\n\\t\\t\\t\\t\\t\\t\\t\\t\\t\\t\\t                </div><!-- .col-12 -->\\n\\n\\t\\t\\t\\t\\t\\t\\t\\t\\t\\t\\t\\t\\t\\t\\n\\t\\t\\t\\t\\t\\t\\t\\t\\t\\t\\t\\t\\t\\t\\n\\t\\t\\t\\t\\t\\t\\t\\t\\t\\t\\t\\t\\t\\t\\t<div class=\\'col-12 col-md-4\\'>\\n\\n\\t\\t\\t\\t\\t\\t\\t\\t\\t\\t\\t\\t\\t\\t\\t\\t\\n\\t\\t\\t\\t\\t\\t\\t\\t\\t\\t\\t\\t\\t\\t\\t\\t\\t\\t\\t\\t\\t\\t\\t\\t\\t\\t\\t\\t\\t\\t\\t\\t\\t\\t\\n\\t\\t\\t\\t\\t\\t\\t\\t\\t\\t\\t\\t                    \\t<a href=\"https://www.nulondon.ac.uk/degrees\" target=\"_blank\" class=\"btn btn-primary btn-block\">Browse our subject areas</a>\\n\\n\\t\\t\\t\\t\\t\\t\\t\\t\\t\\t\\t\\t\\t\\t\\t\\t\\t\\n\\t\\t\\t\\t\\t\\t\\t\\t\\t\\t\\t\\t\\t\\t\\t\\t\\t\\n\\t\\t\\t\\t\\t\\t\\t\\t\\t\\t\\t\\t\\t\\t\\t\\t\\n\\t\\t\\t\\t\\t\\t\\t\\t\\t\\t\\t\\t\\t\\t\\t\\t\\t\\t\\t\\t\\t\\t\\t\\t\\t\\t\\t\\t\\t\\t\\t\\t\\t\\t\\n\\t\\t\\t\\t\\t\\t\\t\\t\\t\\t\\t\\t                    \\t<a href=\"https://www.nulondon.ac.uk/blogs/academic\" target=\"_blank\" class=\"btn btn-default btn-block\">Academic blog</a>\\n\\n\\t\\t\\t\\t\\t\\t\\t\\t\\t\\t\\t\\t\\t\\t\\t\\t\\t\\n\\t\\t\\t\\t\\t\\t\\t\\t\\t\\t\\t\\t\\t\\t\\t\\t\\t\\n\\t\\t\\t\\t\\t\\t\\t\\t\\t\\t\\t\\t\\t\\t\\t\\t\\n\\t\\t\\t\\t\\t\\t\\t\\t\\t\\t\\t\\t\\t\\t\\t\\t\\t\\t\\t\\t\\t\\t\\t\\t\\t\\t\\t\\t\\t\\t\\t\\t\\t\\t\\n\\t\\t\\t\\t\\t\\t\\t\\t\\t\\t\\t\\t                    \\t<a href=\"https://www.nulondon.ac.uk/research/\" target=\"_blank\" class=\"btn btn-default btn-block\">Research</a>\\n\\n\\t\\t\\t\\t\\t\\t\\t\\t\\t\\t\\t\\t\\t\\t\\t\\t\\t\\n\\t\\t\\t\\t\\t\\t\\t\\t\\t\\t\\t\\t\\t\\t\\t\\t\\t\\n\\t\\t\\t\\t\\t\\t\\t\\t\\t\\t\\t\\t\\t\\t\\t\\t\\n\\t\\t\\t\\t\\t\\t\\t\\t\\t\\t\\t                </div><!-- .col-12 -->\\n\\n\\t\\t\\t\\t\\t\\t\\t\\t\\t\\t\\t\\t\\t\\t\\n\\t\\t\\t\\t\\t\\t\\t\\t\\t\\t            </div><!-- .row -->\\n\\n\\t\\t\\t\\t\\t\\t\\t\\t\\t\\t        </div><!-- .col -->\\n\\n\\t\\t\\t\\t\\t\\t\\t\\t\\t\\t    </div><!-- .row -->\\n\\n\\t\\t\\t\\t\\t\\t\\t\\t\\t\\t</div><!-- .container -->\\n\\n\\t\\t\\t\\t\\t\\t\\t\\t\\t</div><!-- .dropdown-menu -->\\n\\n\\t\\t\\t\\t\\t\\t\\t\\t</li><!-- .dropdown -->\\n\\n\\t\\t\\t\\t\\t\\t\\t\\t\\n\\t\\t\\t\\t\\t\\t\\t\\n\\t\\t\\t\\t\\t\\t\\t\\t<li class=\"nav-item dropdown\">\\n\\n\\t\\t\\t\\t\\t\\t\\t\\t\\t<a class=\"nav-link dropdown-toggle \" href=\"#\" id=\"navbarDropdown\" role=\"button\" data-toggle=\"dropdown\" aria-haspopup=\"true\" aria-expanded=\"false\">Student Life</a>\\n\\n\\t\\t\\t\\t\\t\\t\\t\\t\\t<div class=\"dropdown-menu\" aria-labelledby=\"navbarDropdown\">\\n\\n\\t\\t\\t\\t\\t\\t\\t\\t\\t\\t<div class=\\'container\\'>\\n\\n\\t\\t\\t\\t\\t\\t\\t\\t\\t\\t    <div class=\\'row\\'>\\n\\n\\t\\t\\t\\t\\t\\t\\t\\t\\t\\t        <div class=\\'col-12 col-lg-10 offset-lg-1\\'>\\n\\n\\t\\t\\t\\t\\t\\t\\t\\t\\t\\t            <div class=\\'row\\'>\\n\\n\\t\\t\\t\\t\\t\\t\\t\\t\\t\\t\\t\\t\\t\\t\\n\\t\\t\\t\\t\\t\\t\\t\\t\\t\\t\\t                <div class=\\'col-12 col-md-8 links\\'>\\n\\n\\t\\t\\t\\t\\t\\t\\t\\t\\t\\t\\t\\t\\t\\t\\t\\t\\n\\t\\t\\t\\t\\t\\t\\t\\t\\t\\t\\t\\t\\t\\t\\t\\t\\t\\t\\t\\t\\t\\t\\t\\t\\t\\t\\t\\t\\t\\t\\t\\t\\t\\t\\n\\t\\t\\t\\t\\t\\t\\t\\t\\t\\t\\t                    \\t\\t<a href=\"https://www.nulondon.ac.uk/student-life/life-in-london/\" target=\"\" class=\"menu-link\">Life in London</a>\\n\\n\\t\\t\\t\\t\\t\\t\\t\\t\\t\\t\\t\\t\\t\\t\\t\\t\\t\\n\\t\\t\\t\\t\\t\\t\\t\\t\\t\\t\\t\\t\\t\\t\\t\\t\\t\\n\\t\\t\\t\\t\\t\\t\\t\\t\\t\\t\\t\\t\\t\\t\\t\\t\\n\\t\\t\\t\\t\\t\\t\\t\\t\\t\\t\\t\\t\\t\\t\\t\\t\\t\\t\\t\\t\\t\\t\\t\\t\\t\\t\\t\\t\\t\\t\\t\\t\\t\\t\\n\\t\\t\\t\\t\\t\\t\\t\\t\\t\\t\\t\\t\\t\\t\\t\\t\\t\\n\\t\\t\\t\\t\\t\\t\\t\\t\\t\\t\\t\\t\\t\\t\\t\\t\\n\\t\\t\\t\\t\\t\\t\\t\\t\\t\\t\\t\\t\\t\\t\\t\\t\\t\\t\\t\\t\\t\\t\\t\\t\\t\\t\\t\\t\\t\\t\\t\\t\\t\\t\\n\\t\\t\\t\\t\\t\\t\\t\\t\\t\\t\\t                    \\t\\t<a href=\"https://www.nulondon.ac.uk/student-life/choose-accommodation/\" target=\"\" class=\"menu-link\">Accommodation</a>\\n\\n\\t\\t\\t\\t\\t\\t\\t\\t\\t\\t\\t\\t\\t\\t\\t\\t\\t\\n\\t\\t\\t\\t\\t\\t\\t\\t\\t\\t\\t\\t\\t\\t\\t\\t\\t\\n\\t\\t\\t\\t\\t\\t\\t\\t\\t\\t\\t\\t\\t\\t\\t\\t\\n\\t\\t\\t\\t\\t\\t\\t\\t\\t\\t\\t\\t\\t\\t\\t\\t\\t\\t\\t\\t\\t\\t\\t\\t\\t\\t\\t\\t\\t\\t\\t\\t\\t\\t\\n\\t\\t\\t\\t\\t\\t\\t\\t\\t\\t\\t                    \\t\\t<a href=\"https://www.nusu.org.uk/\" target=\"_blank\" class=\"menu-link\">Student Union</a>\\n\\n\\t\\t\\t\\t\\t\\t\\t\\t\\t\\t\\t\\t\\t\\t\\t\\t\\t\\n\\t\\t\\t\\t\\t\\t\\t\\t\\t\\t\\t\\t\\t\\t\\t\\t\\t\\n\\t\\t\\t\\t\\t\\t\\t\\t\\t\\t\\t\\t\\t\\t\\t\\t\\n\\t\\t\\t\\t\\t\\t\\t\\t\\t\\t\\t\\t\\t\\t\\t\\t\\t\\t\\t\\t\\t\\t\\t\\t\\t\\t\\t\\t\\t\\t\\t\\t\\t\\t\\n\\t\\t\\t\\t\\t\\t\\t\\t\\t\\t\\t\\t\\t\\t\\t\\t\\t\\n\\t\\t\\t\\t\\t\\t\\t\\t\\t\\t\\t\\t\\t\\t\\t\\t\\n\\t\\t\\t\\t\\t\\t\\t\\t\\t\\t\\t\\t\\t\\t\\t\\t\\t\\t\\t\\t\\t\\t\\t\\t\\t\\t\\t\\t\\t\\t\\t\\t\\t\\t\\n\\t\\t\\t\\t\\t\\t\\t\\t\\t\\t\\t                    \\t\\t<a href=\"https://www.nulondon.ac.uk/study/international-students-at-nch/\" target=\"\" class=\"menu-link\">International Students</a>\\n\\n\\t\\t\\t\\t\\t\\t\\t\\t\\t\\t\\t\\t\\t\\t\\t\\t\\t\\n\\t\\t\\t\\t\\t\\t\\t\\t\\t\\t\\t\\t\\t\\t\\t\\t\\t\\n\\t\\t\\t\\t\\t\\t\\t\\t\\t\\t\\t\\t\\t\\t\\t\\t\\n\\t\\t\\t\\t\\t\\t\\t\\t\\t\\t\\t\\t\\t\\t\\t\\t\\t\\t\\t\\t\\t\\t\\t\\t\\t\\t\\t\\t\\t\\t\\t\\t\\t\\t\\n\\t\\t\\t\\t\\t\\t\\t\\t\\t\\t\\t                    \\t\\t<a href=\"https://www.nulondon.ac.uk/student-life/life-in-london/student-support/\" target=\"\" class=\"menu-link\">Student Support & Development</a>\\n\\n\\t\\t\\t\\t\\t\\t\\t\\t\\t\\t\\t\\t\\t\\t\\t\\t\\t\\n\\t\\t\\t\\t\\t\\t\\t\\t\\t\\t\\t\\t\\t\\t\\t\\t\\t\\n\\t\\t\\t\\t\\t\\t\\t\\t\\t\\t\\t\\t\\t\\t\\t\\t\\n\\t\\t\\t\\t\\t\\t\\t\\t\\t\\t\\t\\t\\t\\t\\t\\t\\t\\t\\t\\t\\t\\t\\t\\t\\t\\t\\t\\t\\t\\t\\t\\t\\t\\t\\n\\t\\t\\t\\t\\t\\t\\t\\t\\t\\t\\t                    \\t\\t<a href=\"https://www.nulondon.ac.uk/student-life/campus/\" target=\"\" class=\"menu-link\">Our Campus</a>\\n\\n\\t\\t\\t\\t\\t\\t\\t\\t\\t\\t\\t\\t\\t\\t\\t\\t\\t\\n\\t\\t\\t\\t\\t\\t\\t\\t\\t\\t\\t\\t\\t\\t\\t\\t\\t\\n\\t\\t\\t\\t\\t\\t\\t\\t\\t\\t\\t\\t\\t\\t\\t\\t\\n\\t\\t\\t\\t\\t\\t\\t\\t\\t\\t\\t\\t\\t\\t\\t\\t\\t\\t\\t\\t\\t\\t\\t\\t\\t\\t\\t\\t\\t\\t\\t\\t\\t\\t\\n\\t\\t\\t\\t\\t\\t\\t\\t\\t\\t\\t                    \\t\\t<a href=\"https://www.nulondon.ac.uk/student-life/ondemand/\" target=\"\" class=\"menu-link\">On Demand Content</a>\\n\\n\\t\\t\\t\\t\\t\\t\\t\\t\\t\\t\\t\\t\\t\\t\\t\\t\\t\\n\\t\\t\\t\\t\\t\\t\\t\\t\\t\\t\\t\\t\\t\\t\\t\\t\\t\\n\\t\\t\\t\\t\\t\\t\\t\\t\\t\\t\\t\\t\\t\\t\\t\\t\\n\\t\\t\\t\\t\\t\\t\\t\\t\\t\\t\\t                </div><!-- .col-12 -->\\n\\n\\t\\t\\t\\t\\t\\t\\t\\t\\t\\t\\t\\t\\t\\t\\n\\t\\t\\t\\t\\t\\t\\t\\t\\t\\t\\t\\t\\t\\t\\n\\t\\t\\t\\t\\t\\t\\t\\t\\t\\t\\t\\t\\t\\t\\t<div class=\\'col-12 col-md-4\\'>\\n\\n\\t\\t\\t\\t\\t\\t\\t\\t\\t\\t\\t\\t\\t\\t\\t\\t\\n\\t\\t\\t\\t\\t\\t\\t\\t\\t\\t\\t\\t\\t\\t\\t\\t\\t\\t\\t\\t\\t\\t\\t\\t\\t\\t\\t\\t\\t\\t\\t\\t\\t\\t\\n\\t\\t\\t\\t\\t\\t\\t\\t\\t\\t\\t\\t                    \\t<a href=\"https://www.nulondon.ac.uk/blogs/student/\" target=\"_blank\" class=\"btn btn-primary btn-block\">Student blog</a>\\n\\n\\t\\t\\t\\t\\t\\t\\t\\t\\t\\t\\t\\t\\t\\t\\t\\t\\t\\n\\t\\t\\t\\t\\t\\t\\t\\t\\t\\t\\t\\t\\t\\t\\t\\t\\t\\n\\t\\t\\t\\t\\t\\t\\t\\t\\t\\t\\t\\t\\t\\t\\t\\t\\n\\t\\t\\t\\t\\t\\t\\t\\t\\t\\t\\t\\t\\t\\t\\t\\t\\t\\t\\t\\t\\t\\t\\t\\t\\t\\t\\t\\t\\t\\t\\t\\t\\t\\t\\n\\t\\t\\t\\t\\t\\t\\t\\t\\t\\t\\t\\t                    \\t<a href=\"https://www.nulondon.ac.uk/ambassadors/\" target=\"\" class=\"btn btn-default btn-block\">Chat to our students</a>\\n\\n\\t\\t\\t\\t\\t\\t\\t\\t\\t\\t\\t\\t\\t\\t\\t\\t\\t\\n\\t\\t\\t\\t\\t\\t\\t\\t\\t\\t\\t\\t\\t\\t\\t\\t\\t\\n\\t\\t\\t\\t\\t\\t\\t\\t\\t\\t\\t\\t\\t\\t\\t\\t\\n\\t\\t\\t\\t\\t\\t\\t\\t\\t\\t\\t\\t\\t\\t\\t\\t\\t\\t\\t\\t\\t\\t\\t\\t\\t\\t\\t\\t\\t\\t\\t\\t\\t\\t\\n\\t\\t\\t\\t\\t\\t\\t\\t\\t\\t\\t\\t\\t\\t\\t\\t\\t\\n\\t\\t\\t\\t\\t\\t\\t\\t\\t\\t\\t\\t\\t\\t\\t\\t\\n\\t\\t\\t\\t\\t\\t\\t\\t\\t\\t\\t                </div><!-- .col-12 -->\\n\\n\\t\\t\\t\\t\\t\\t\\t\\t\\t\\t\\t\\t\\t\\t\\n\\t\\t\\t\\t\\t\\t\\t\\t\\t\\t            </div><!-- .row -->\\n\\n\\t\\t\\t\\t\\t\\t\\t\\t\\t\\t        </div><!-- .col -->\\n\\n\\t\\t\\t\\t\\t\\t\\t\\t\\t\\t    </div><!-- .row -->\\n\\n\\t\\t\\t\\t\\t\\t\\t\\t\\t\\t</div><!-- .container -->\\n\\n\\t\\t\\t\\t\\t\\t\\t\\t\\t</div><!-- .dropdown-menu -->\\n\\n\\t\\t\\t\\t\\t\\t\\t\\t</li><!-- .dropdown -->\\n\\n\\t\\t\\t\\t\\t\\t\\t\\t\\n\\t\\t\\t\\t\\t\\t\\t\\n\\t\\t\\t\\t\\t\\t\\t\\t<li class=\"nav-item dropdown\">\\n\\n\\t\\t\\t\\t\\t\\t\\t\\t\\t<a class=\"nav-link dropdown-toggle \" href=\"#\" id=\"navbarDropdown\" role=\"button\" data-toggle=\"dropdown\" aria-haspopup=\"true\" aria-expanded=\"false\">Employability</a>\\n\\n\\t\\t\\t\\t\\t\\t\\t\\t\\t<div class=\"dropdown-menu\" aria-labelledby=\"navbarDropdown\">\\n\\n\\t\\t\\t\\t\\t\\t\\t\\t\\t\\t<div class=\\'container\\'>\\n\\n\\t\\t\\t\\t\\t\\t\\t\\t\\t\\t    <div class=\\'row\\'>\\n\\n\\t\\t\\t\\t\\t\\t\\t\\t\\t\\t        <div class=\\'col-12 col-lg-10 offset-lg-1\\'>\\n\\n\\t\\t\\t\\t\\t\\t\\t\\t\\t\\t            <div class=\\'row\\'>\\n\\n\\t\\t\\t\\t\\t\\t\\t\\t\\t\\t\\t\\t\\t\\t\\n\\t\\t\\t\\t\\t\\t\\t\\t\\t\\t\\t                <div class=\\'col-12 col-md-8 links\\'>\\n\\n\\t\\t\\t\\t\\t\\t\\t\\t\\t\\t\\t\\t\\t\\t\\t\\t\\n\\t\\t\\t\\t\\t\\t\\t\\t\\t\\t\\t\\t\\t\\t\\t\\t\\t\\t\\t\\t\\t\\t\\t\\t\\t\\t\\t\\t\\t\\t\\t\\t\\t\\t\\n\\t\\t\\t\\t\\t\\t\\t\\t\\t\\t\\t                    \\t\\t<a href=\"https://www.nulondon.ac.uk/employability/\" target=\"\" class=\"menu-link\">Employability</a>\\n\\n\\t\\t\\t\\t\\t\\t\\t\\t\\t\\t\\t\\t\\t\\t\\t\\t\\t\\n\\t\\t\\t\\t\\t\\t\\t\\t\\t\\t\\t\\t\\t\\t\\t\\t\\t\\n\\t\\t\\t\\t\\t\\t\\t\\t\\t\\t\\t\\t\\t\\t\\t\\t\\n\\t\\t\\t\\t\\t\\t\\t\\t\\t\\t\\t\\t\\t\\t\\t\\t\\t\\t\\t\\t\\t\\t\\t\\t\\t\\t\\t\\t\\t\\t\\t\\t\\t\\t\\n\\t\\t\\t\\t\\t\\t\\t\\t\\t\\t\\t\\t\\t\\t\\t\\t\\t\\n\\t\\t\\t\\t\\t\\t\\t\\t\\t\\t\\t\\t\\t\\t\\t\\t\\n\\t\\t\\t\\t\\t\\t\\t\\t\\t\\t\\t\\t\\t\\t\\t\\t\\t\\t\\t\\t\\t\\t\\t\\t\\t\\t\\t\\t\\t\\t\\t\\t\\t\\t\\n\\t\\t\\t\\t\\t\\t\\t\\t\\t\\t\\t                    \\t\\t<a href=\"https://www.nulondon.ac.uk/employability/careers-advice/\" target=\"\" class=\"menu-link\">Careers Advice</a>\\n\\n\\t\\t\\t\\t\\t\\t\\t\\t\\t\\t\\t\\t\\t\\t\\t\\t\\t\\n\\t\\t\\t\\t\\t\\t\\t\\t\\t\\t\\t\\t\\t\\t\\t\\t\\t\\n\\t\\t\\t\\t\\t\\t\\t\\t\\t\\t\\t\\t\\t\\t\\t\\t\\n\\t\\t\\t\\t\\t\\t\\t\\t\\t\\t\\t\\t\\t\\t\\t\\t\\t\\t\\t\\t\\t\\t\\t\\t\\t\\t\\t\\t\\t\\t\\t\\t\\t\\t\\n\\t\\t\\t\\t\\t\\t\\t\\t\\t\\t\\t                    \\t\\t<a href=\"https://www.nulondon.ac.uk/employability/employer-relations/\" target=\"\" class=\"menu-link\">Employer relations</a>\\n\\n\\t\\t\\t\\t\\t\\t\\t\\t\\t\\t\\t\\t\\t\\t\\t\\t\\t\\n\\t\\t\\t\\t\\t\\t\\t\\t\\t\\t\\t\\t\\t\\t\\t\\t\\t\\n\\t\\t\\t\\t\\t\\t\\t\\t\\t\\t\\t\\t\\t\\t\\t\\t\\n\\t\\t\\t\\t\\t\\t\\t\\t\\t\\t\\t\\t\\t\\t\\t\\t\\t\\t\\t\\t\\t\\t\\t\\t\\t\\t\\t\\t\\t\\t\\t\\t\\t\\t\\n\\t\\t\\t\\t\\t\\t\\t\\t\\t\\t\\t                    \\t\\t<a href=\"https://www.nulondon.ac.uk/employability/graduate-destinations/\" target=\"\" class=\"menu-link\">Graduate destinations</a>\\n\\n\\t\\t\\t\\t\\t\\t\\t\\t\\t\\t\\t\\t\\t\\t\\t\\t\\t\\n\\t\\t\\t\\t\\t\\t\\t\\t\\t\\t\\t\\t\\t\\t\\t\\t\\t\\n\\t\\t\\t\\t\\t\\t\\t\\t\\t\\t\\t\\t\\t\\t\\t\\t\\n\\t\\t\\t\\t\\t\\t\\t\\t\\t\\t\\t\\t\\t\\t\\t\\t\\t\\t\\t\\t\\t\\t\\t\\t\\t\\t\\t\\t\\t\\t\\t\\t\\t\\t\\n\\t\\t\\t\\t\\t\\t\\t\\t\\t\\t\\t\\t\\t\\t\\t\\t\\t\\n\\t\\t\\t\\t\\t\\t\\t\\t\\t\\t\\t\\t\\t\\t\\t\\t\\n\\t\\t\\t\\t\\t\\t\\t\\t\\t\\t\\t                </div><!-- .col-12 -->\\n\\n\\t\\t\\t\\t\\t\\t\\t\\t\\t\\t\\t\\t\\t\\t\\n\\t\\t\\t\\t\\t\\t\\t\\t\\t\\t\\t\\t\\t\\t\\n\\t\\t\\t\\t\\t\\t\\t\\t\\t\\t\\t\\t\\t\\t\\t<div class=\\'col-12 col-md-4\\'>\\n\\n\\t\\t\\t\\t\\t\\t\\t\\t\\t\\t\\t\\t\\t\\t\\t\\t\\n\\t\\t\\t\\t\\t\\t\\t\\t\\t\\t\\t\\t\\t\\t\\t\\t\\t\\t\\t\\t\\t\\t\\t\\t\\t\\t\\t\\t\\t\\t\\t\\t\\t\\t\\n\\t\\t\\t\\t\\t\\t\\t\\t\\t\\t\\t\\t                    \\t<a href=\"https://www.nulondon.ac.uk/about-us/visit-us/\" target=\"\" class=\"btn btn-primary btn-block\">Book an Open Day</a>\\n\\n\\t\\t\\t\\t\\t\\t\\t\\t\\t\\t\\t\\t\\t\\t\\t\\t\\t\\n\\t\\t\\t\\t\\t\\t\\t\\t\\t\\t\\t\\t\\t\\t\\t\\t\\t\\n\\t\\t\\t\\t\\t\\t\\t\\t\\t\\t\\t\\t\\t\\t\\t\\t\\n\\t\\t\\t\\t\\t\\t\\t\\t\\t\\t\\t\\t\\t\\t\\t\\t\\t\\t\\t\\t\\t\\t\\t\\t\\t\\t\\t\\t\\t\\t\\t\\t\\t\\t\\n\\t\\t\\t\\t\\t\\t\\t\\t\\t\\t\\t\\t                    \\t<a href=\"https://www.nulondon.ac.uk/prospectus/\" target=\"\" class=\"btn btn-default btn-block\">Download a Prospectus</a>\\n\\n\\t\\t\\t\\t\\t\\t\\t\\t\\t\\t\\t\\t\\t\\t\\t\\t\\t\\n\\t\\t\\t\\t\\t\\t\\t\\t\\t\\t\\t\\t\\t\\t\\t\\t\\t\\n\\t\\t\\t\\t\\t\\t\\t\\t\\t\\t\\t\\t\\t\\t\\t\\t\\n\\t\\t\\t\\t\\t\\t\\t\\t\\t\\t\\t                </div><!-- .col-12 -->\\n\\n\\t\\t\\t\\t\\t\\t\\t\\t\\t\\t\\t\\t\\t\\t\\n\\t\\t\\t\\t\\t\\t\\t\\t\\t\\t            </div><!-- .row -->\\n\\n\\t\\t\\t\\t\\t\\t\\t\\t\\t\\t        </div><!-- .col -->\\n\\n\\t\\t\\t\\t\\t\\t\\t\\t\\t\\t    </div><!-- .row -->\\n\\n\\t\\t\\t\\t\\t\\t\\t\\t\\t\\t</div><!-- .container -->\\n\\n\\t\\t\\t\\t\\t\\t\\t\\t\\t</div><!-- .dropdown-menu -->\\n\\n\\t\\t\\t\\t\\t\\t\\t\\t</li><!-- .dropdown -->\\n\\n\\t\\t\\t\\t\\t\\t\\t\\t\\n\\t\\t\\t\\t\\t\\t\\t\\n\\t\\t\\t\\t\\t\\t\\t\\t<li class=\"nav-item dropdown\">\\n\\n\\t\\t\\t\\t\\t\\t\\t\\t\\t<a class=\"nav-link dropdown-toggle \" href=\"#\" id=\"navbarDropdown\" role=\"button\" data-toggle=\"dropdown\" aria-haspopup=\"true\" aria-expanded=\"false\">About</a>\\n\\n\\t\\t\\t\\t\\t\\t\\t\\t\\t<div class=\"dropdown-menu\" aria-labelledby=\"navbarDropdown\">\\n\\n\\t\\t\\t\\t\\t\\t\\t\\t\\t\\t<div class=\\'container\\'>\\n\\n\\t\\t\\t\\t\\t\\t\\t\\t\\t\\t    <div class=\\'row\\'>\\n\\n\\t\\t\\t\\t\\t\\t\\t\\t\\t\\t        <div class=\\'col-12 col-lg-10 offset-lg-1\\'>\\n\\n\\t\\t\\t\\t\\t\\t\\t\\t\\t\\t            <div class=\\'row\\'>\\n\\n\\t\\t\\t\\t\\t\\t\\t\\t\\t\\t\\t\\t\\t\\t\\n\\t\\t\\t\\t\\t\\t\\t\\t\\t\\t\\t                <div class=\\'col-12 col-md-8 links\\'>\\n\\n\\t\\t\\t\\t\\t\\t\\t\\t\\t\\t\\t\\t\\t\\t\\t\\t\\n\\t\\t\\t\\t\\t\\t\\t\\t\\t\\t\\t\\t\\t\\t\\t\\t\\t\\t\\t\\t\\t\\t\\t\\t\\t\\t\\t\\t\\t\\t\\t\\t\\t\\t\\n\\t\\t\\t\\t\\t\\t\\t\\t\\t\\t\\t                    \\t\\t<a href=\"https://www.nulondon.ac.uk/about-us/\" target=\"\" class=\"menu-link\">About NU London</a>\\n\\n\\t\\t\\t\\t\\t\\t\\t\\t\\t\\t\\t\\t\\t\\t\\t\\t\\t\\n\\t\\t\\t\\t\\t\\t\\t\\t\\t\\t\\t\\t\\t\\t\\t\\t\\t\\n\\t\\t\\t\\t\\t\\t\\t\\t\\t\\t\\t\\t\\t\\t\\t\\t\\n\\t\\t\\t\\t\\t\\t\\t\\t\\t\\t\\t\\t\\t\\t\\t\\t\\t\\t\\t\\t\\t\\t\\t\\t\\t\\t\\t\\t\\t\\t\\t\\t\\t\\t\\n\\t\\t\\t\\t\\t\\t\\t\\t\\t\\t\\t                    \\t\\t<a href=\"https://www.nulondon.ac.uk/about-us/contact/\" target=\"\" class=\"menu-link\">Find & contact us</a>\\n\\n\\t\\t\\t\\t\\t\\t\\t\\t\\t\\t\\t\\t\\t\\t\\t\\t\\t\\n\\t\\t\\t\\t\\t\\t\\t\\t\\t\\t\\t\\t\\t\\t\\t\\t\\t\\n\\t\\t\\t\\t\\t\\t\\t\\t\\t\\t\\t\\t\\t\\t\\t\\t\\n\\t\\t\\t\\t\\t\\t\\t\\t\\t\\t\\t\\t\\t\\t\\t\\t\\t\\t\\t\\t\\t\\t\\t\\t\\t\\t\\t\\t\\t\\t\\t\\t\\t\\t\\n\\t\\t\\t\\t\\t\\t\\t\\t\\t\\t\\t                    \\t\\t<a href=\"https://www.nulondon.ac.uk/about-us/job-opportunities/\" target=\"\" class=\"menu-link\">Work at NU London</a>\\n\\n\\t\\t\\t\\t\\t\\t\\t\\t\\t\\t\\t\\t\\t\\t\\t\\t\\t\\n\\t\\t\\t\\t\\t\\t\\t\\t\\t\\t\\t\\t\\t\\t\\t\\t\\t\\n\\t\\t\\t\\t\\t\\t\\t\\t\\t\\t\\t\\t\\t\\t\\t\\t\\n\\t\\t\\t\\t\\t\\t\\t\\t\\t\\t\\t\\t\\t\\t\\t\\t\\t\\t\\t\\t\\t\\t\\t\\t\\t\\t\\t\\t\\t\\t\\t\\t\\t\\t\\n\\t\\t\\t\\t\\t\\t\\t\\t\\t\\t\\t                    \\t\\t<a href=\"https://www.nulondon.ac.uk/about-us/professional-staff/\" target=\"\" class=\"menu-link\">Professional staff</a>\\n\\n\\t\\t\\t\\t\\t\\t\\t\\t\\t\\t\\t\\t\\t\\t\\t\\t\\t\\n\\t\\t\\t\\t\\t\\t\\t\\t\\t\\t\\t\\t\\t\\t\\t\\t\\t\\n\\t\\t\\t\\t\\t\\t\\t\\t\\t\\t\\t\\t\\t\\t\\t\\t\\n\\t\\t\\t\\t\\t\\t\\t\\t\\t\\t\\t\\t\\t\\t\\t\\t\\t\\t\\t\\t\\t\\t\\t\\t\\t\\t\\t\\t\\t\\t\\t\\t\\t\\t\\n\\t\\t\\t\\t\\t\\t\\t\\t\\t\\t\\t                    \\t\\t<a href=\"https://www.nulondon.ac.uk/academic-handbook\" target=\"\" class=\"menu-link\">Academic handbook</a>\\n\\n\\t\\t\\t\\t\\t\\t\\t\\t\\t\\t\\t\\t\\t\\t\\t\\t\\t\\n\\t\\t\\t\\t\\t\\t\\t\\t\\t\\t\\t\\t\\t\\t\\t\\t\\t\\n\\t\\t\\t\\t\\t\\t\\t\\t\\t\\t\\t\\t\\t\\t\\t\\t\\n\\t\\t\\t\\t\\t\\t\\t\\t\\t\\t\\t\\t\\t\\t\\t\\t\\t\\t\\t\\t\\t\\t\\t\\t\\t\\t\\t\\t\\t\\t\\t\\t\\t\\t\\n\\t\\t\\t\\t\\t\\t\\t\\t\\t\\t\\t                    \\t\\t<a href=\"https://www.nulondon.ac.uk/about-us/why-nulondon/\" target=\"\" class=\"menu-link\">Why study at NU London</a>\\n\\n\\t\\t\\t\\t\\t\\t\\t\\t\\t\\t\\t\\t\\t\\t\\t\\t\\t\\n\\t\\t\\t\\t\\t\\t\\t\\t\\t\\t\\t\\t\\t\\t\\t\\t\\t\\n\\t\\t\\t\\t\\t\\t\\t\\t\\t\\t\\t\\t\\t\\t\\t\\t\\n\\t\\t\\t\\t\\t\\t\\t\\t\\t\\t\\t\\t\\t\\t\\t\\t\\t\\t\\t\\t\\t\\t\\t\\t\\t\\t\\t\\t\\t\\t\\t\\t\\t\\t\\n\\t\\t\\t\\t\\t\\t\\t\\t\\t\\t\\t                    \\t\\t<a href=\"https://www.nulondon.ac.uk/about-us/widening-participation/\" target=\"\" class=\"menu-link\">Widening Participation</a>\\n\\n\\t\\t\\t\\t\\t\\t\\t\\t\\t\\t\\t\\t\\t\\t\\t\\t\\t\\n\\t\\t\\t\\t\\t\\t\\t\\t\\t\\t\\t\\t\\t\\t\\t\\t\\t\\n\\t\\t\\t\\t\\t\\t\\t\\t\\t\\t\\t\\t\\t\\t\\t\\t\\n\\t\\t\\t\\t\\t\\t\\t\\t\\t\\t\\t                </div><!-- .col-12 -->\\n\\n\\t\\t\\t\\t\\t\\t\\t\\t\\t\\t\\t\\t\\t\\t\\n\\t\\t\\t\\t\\t\\t\\t\\t\\t\\t\\t\\t\\t\\t\\n\\t\\t\\t\\t\\t\\t\\t\\t\\t\\t\\t\\t\\t\\t\\t<div class=\\'col-12 col-md-4\\'>\\n\\n\\t\\t\\t\\t\\t\\t\\t\\t\\t\\t\\t\\t\\t\\t\\t\\t\\n\\t\\t\\t\\t\\t\\t\\t\\t\\t\\t\\t\\t\\t\\t\\t\\t\\t\\t\\t\\t\\t\\t\\t\\t\\t\\t\\t\\t\\t\\t\\t\\t\\t\\t\\n\\t\\t\\t\\t\\t\\t\\t\\t\\t\\t\\t\\t                    \\t<a href=\"https://www.nulondon.ac.uk/about-us/contact/\" target=\"\" class=\"btn btn-primary btn-block\">Contact us</a>\\n\\n\\t\\t\\t\\t\\t\\t\\t\\t\\t\\t\\t\\t\\t\\t\\t\\t\\t\\n\\t\\t\\t\\t\\t\\t\\t\\t\\t\\t\\t\\t\\t\\t\\t\\t\\t\\n\\t\\t\\t\\t\\t\\t\\t\\t\\t\\t\\t\\t\\t\\t\\t\\t\\n\\t\\t\\t\\t\\t\\t\\t\\t\\t\\t\\t\\t\\t\\t\\t\\t\\t\\t\\t\\t\\t\\t\\t\\t\\t\\t\\t\\t\\t\\t\\t\\t\\t\\t\\n\\t\\t\\t\\t\\t\\t\\t\\t\\t\\t\\t\\t                    \\t<a href=\"https://www.nulondon.ac.uk/about-us/visit-us/\" target=\"\" class=\"btn btn-default btn-block\">Open Days & Events</a>\\n\\n\\t\\t\\t\\t\\t\\t\\t\\t\\t\\t\\t\\t\\t\\t\\t\\t\\t\\n\\t\\t\\t\\t\\t\\t\\t\\t\\t\\t\\t\\t\\t\\t\\t\\t\\t\\n\\t\\t\\t\\t\\t\\t\\t\\t\\t\\t\\t\\t\\t\\t\\t\\t\\n\\t\\t\\t\\t\\t\\t\\t\\t\\t\\t\\t\\t\\t\\t\\t\\t\\t\\t\\t\\t\\t\\t\\t\\t\\t\\t\\t\\t\\t\\t\\t\\t\\t\\t\\n\\t\\t\\t\\t\\t\\t\\t\\t\\t\\t\\t\\t                    \\t<a href=\"https://www.nulondon.ac.uk/ambassadors/\" target=\"\" class=\"btn btn-default btn-block\">Chat to our students</a>\\n\\n\\t\\t\\t\\t\\t\\t\\t\\t\\t\\t\\t\\t\\t\\t\\t\\t\\t\\n\\t\\t\\t\\t\\t\\t\\t\\t\\t\\t\\t\\t\\t\\t\\t\\t\\t\\n\\t\\t\\t\\t\\t\\t\\t\\t\\t\\t\\t\\t\\t\\t\\t\\t\\n\\t\\t\\t\\t\\t\\t\\t\\t\\t\\t\\t                </div><!-- .col-12 -->\\n\\n\\t\\t\\t\\t\\t\\t\\t\\t\\t\\t\\t\\t\\t\\t\\n\\t\\t\\t\\t\\t\\t\\t\\t\\t\\t            </div><!-- .row -->\\n\\n\\t\\t\\t\\t\\t\\t\\t\\t\\t\\t        </div><!-- .col -->\\n\\n\\t\\t\\t\\t\\t\\t\\t\\t\\t\\t    </div><!-- .row -->\\n\\n\\t\\t\\t\\t\\t\\t\\t\\t\\t\\t</div><!-- .container -->\\n\\n\\t\\t\\t\\t\\t\\t\\t\\t\\t</div><!-- .dropdown-menu -->\\n\\n\\t\\t\\t\\t\\t\\t\\t\\t</li><!-- .dropdown -->\\n\\n\\t\\t\\t\\t\\t\\t\\t\\t\\n\\t\\t\\t\\t\\t\\t\\t\\n\\t\\t\\t\\t\\t\\t\\t\\t<li class=\"nav-item dropdown\">\\n\\n\\t\\t\\t\\t\\t\\t\\t\\t\\t<a class=\"nav-link dropdown-toggle \" href=\"#\" id=\"navbarDropdown\" role=\"button\" data-toggle=\"dropdown\" aria-haspopup=\"true\" aria-expanded=\"false\">News & Events</a>\\n\\n\\t\\t\\t\\t\\t\\t\\t\\t\\t<div class=\"dropdown-menu\" aria-labelledby=\"navbarDropdown\">\\n\\n\\t\\t\\t\\t\\t\\t\\t\\t\\t\\t<div class=\\'container\\'>\\n\\n\\t\\t\\t\\t\\t\\t\\t\\t\\t\\t    <div class=\\'row\\'>\\n\\n\\t\\t\\t\\t\\t\\t\\t\\t\\t\\t        <div class=\\'col-12 col-lg-10 offset-lg-1\\'>\\n\\n\\t\\t\\t\\t\\t\\t\\t\\t\\t\\t            <div class=\\'row\\'>\\n\\n\\t\\t\\t\\t\\t\\t\\t\\t\\t\\t\\t\\t\\t\\t\\n\\t\\t\\t\\t\\t\\t\\t\\t\\t\\t\\t                <div class=\\'col-12 col-md-8 links\\'>\\n\\n\\t\\t\\t\\t\\t\\t\\t\\t\\t\\t\\t\\t\\t\\t\\t\\t\\n\\t\\t\\t\\t\\t\\t\\t\\t\\t\\t\\t\\t\\t\\t\\t\\t\\t\\t\\t\\t\\t\\t\\t\\t\\t\\t\\t\\t\\t\\t\\t\\t\\t\\t\\n\\t\\t\\t\\t\\t\\t\\t\\t\\t\\t\\t                    \\t\\t<a href=\"https://www.nulondon.ac.uk/blogs/news/\" target=\"\" class=\"menu-link\">University News</a>\\n\\n\\t\\t\\t\\t\\t\\t\\t\\t\\t\\t\\t\\t\\t\\t\\t\\t\\t\\n\\t\\t\\t\\t\\t\\t\\t\\t\\t\\t\\t\\t\\t\\t\\t\\t\\t\\n\\t\\t\\t\\t\\t\\t\\t\\t\\t\\t\\t\\t\\t\\t\\t\\t\\n\\t\\t\\t\\t\\t\\t\\t\\t\\t\\t\\t\\t\\t\\t\\t\\t\\t\\t\\t\\t\\t\\t\\t\\t\\t\\t\\t\\t\\t\\t\\t\\t\\t\\t\\n\\t\\t\\t\\t\\t\\t\\t\\t\\t\\t\\t                    \\t\\t<a href=\"https://www.nulondon.ac.uk/blogs/academic/\" target=\"\" class=\"menu-link\">Academic Blog</a>\\n\\n\\t\\t\\t\\t\\t\\t\\t\\t\\t\\t\\t\\t\\t\\t\\t\\t\\t\\n\\t\\t\\t\\t\\t\\t\\t\\t\\t\\t\\t\\t\\t\\t\\t\\t\\t\\n\\t\\t\\t\\t\\t\\t\\t\\t\\t\\t\\t\\t\\t\\t\\t\\t\\n\\t\\t\\t\\t\\t\\t\\t\\t\\t\\t\\t\\t\\t\\t\\t\\t\\t\\t\\t\\t\\t\\t\\t\\t\\t\\t\\t\\t\\t\\t\\t\\t\\t\\t\\n\\t\\t\\t\\t\\t\\t\\t\\t\\t\\t\\t                    \\t\\t<a href=\"https://www.nulondon.ac.uk/blogs/student/\" target=\"\" class=\"menu-link\">Student Blog</a>\\n\\n\\t\\t\\t\\t\\t\\t\\t\\t\\t\\t\\t\\t\\t\\t\\t\\t\\t\\n\\t\\t\\t\\t\\t\\t\\t\\t\\t\\t\\t\\t\\t\\t\\t\\t\\t\\n\\t\\t\\t\\t\\t\\t\\t\\t\\t\\t\\t\\t\\t\\t\\t\\t\\n\\t\\t\\t\\t\\t\\t\\t\\t\\t\\t\\t\\t\\t\\t\\t\\t\\t\\t\\t\\t\\t\\t\\t\\t\\t\\t\\t\\t\\t\\t\\t\\t\\t\\t\\n\\t\\t\\t\\t\\t\\t\\t\\t\\t\\t\\t                    \\t\\t<a href=\"https://www.nulondon.ac.uk/blogs/apprenticeships/\" target=\"\" class=\"menu-link\">Apprenticeships News</a>\\n\\n\\t\\t\\t\\t\\t\\t\\t\\t\\t\\t\\t\\t\\t\\t\\t\\t\\t\\n\\t\\t\\t\\t\\t\\t\\t\\t\\t\\t\\t\\t\\t\\t\\t\\t\\t\\n\\t\\t\\t\\t\\t\\t\\t\\t\\t\\t\\t\\t\\t\\t\\t\\t\\n\\t\\t\\t\\t\\t\\t\\t\\t\\t\\t\\t\\t\\t\\t\\t\\t\\t\\t\\t\\t\\t\\t\\t\\t\\t\\t\\t\\t\\t\\t\\t\\t\\t\\t\\n\\t\\t\\t\\t\\t\\t\\t\\t\\t\\t\\t                    \\t\\t<a href=\"https://www.nulondon.ac.uk/about-us/press\" target=\"\" class=\"menu-link\">Press Coverage</a>\\n\\n\\t\\t\\t\\t\\t\\t\\t\\t\\t\\t\\t\\t\\t\\t\\t\\t\\t\\n\\t\\t\\t\\t\\t\\t\\t\\t\\t\\t\\t\\t\\t\\t\\t\\t\\t\\n\\t\\t\\t\\t\\t\\t\\t\\t\\t\\t\\t\\t\\t\\t\\t\\t\\n\\t\\t\\t\\t\\t\\t\\t\\t\\t\\t\\t\\t\\t\\t\\t\\t\\t\\t\\t\\t\\t\\t\\t\\t\\t\\t\\t\\t\\t\\t\\t\\t\\t\\t\\n\\t\\t\\t\\t\\t\\t\\t\\t\\t\\t\\t                    \\t\\t<a href=\"https://www.nulondon.ac.uk/news-and-events/events/\" target=\"\" class=\"menu-link\">Events</a>\\n\\n\\t\\t\\t\\t\\t\\t\\t\\t\\t\\t\\t\\t\\t\\t\\t\\t\\t\\n\\t\\t\\t\\t\\t\\t\\t\\t\\t\\t\\t\\t\\t\\t\\t\\t\\t\\n\\t\\t\\t\\t\\t\\t\\t\\t\\t\\t\\t\\t\\t\\t\\t\\t\\n\\t\\t\\t\\t\\t\\t\\t\\t\\t\\t\\t                </div><!-- .col-12 -->\\n\\n\\t\\t\\t\\t\\t\\t\\t\\t\\t\\t\\t\\t\\t\\t\\n\\t\\t\\t\\t\\t\\t\\t\\t\\t\\t\\t\\t\\t\\t\\n\\t\\t\\t\\t\\t\\t\\t\\t\\t\\t\\t\\t\\t\\t\\t<div class=\\'col-12 col-md-4\\'>\\n\\n\\t\\t\\t\\t\\t\\t\\t\\t\\t\\t\\t\\t\\t\\t\\t\\t\\n\\t\\t\\t\\t\\t\\t\\t\\t\\t\\t\\t\\t\\t\\t\\t\\t\\t\\t\\t\\t\\t\\t\\t\\t\\t\\t\\t\\t\\t\\t\\t\\t\\t\\t\\n\\t\\t\\t\\t\\t\\t\\t\\t\\t\\t\\t\\t                    \\t<a href=\"https://www.nulondon.ac.uk/blogs/\" target=\"\" class=\"btn btn-primary btn-block\">Read our latest posts</a>\\n\\n\\t\\t\\t\\t\\t\\t\\t\\t\\t\\t\\t\\t\\t\\t\\t\\t\\t\\n\\t\\t\\t\\t\\t\\t\\t\\t\\t\\t\\t\\t\\t\\t\\t\\t\\t\\n\\t\\t\\t\\t\\t\\t\\t\\t\\t\\t\\t\\t\\t\\t\\t\\t\\n\\t\\t\\t\\t\\t\\t\\t\\t\\t\\t\\t                </div><!-- .col-12 -->\\n\\n\\t\\t\\t\\t\\t\\t\\t\\t\\t\\t\\t\\t\\t\\t\\n\\t\\t\\t\\t\\t\\t\\t\\t\\t\\t            </div><!-- .row -->\\n\\n\\t\\t\\t\\t\\t\\t\\t\\t\\t\\t        </div><!-- .col -->\\n\\n\\t\\t\\t\\t\\t\\t\\t\\t\\t\\t    </div><!-- .row -->\\n\\n\\t\\t\\t\\t\\t\\t\\t\\t\\t\\t</div><!-- .container -->\\n\\n\\t\\t\\t\\t\\t\\t\\t\\t\\t</div><!-- .dropdown-menu -->\\n\\n\\t\\t\\t\\t\\t\\t\\t\\t</li><!-- .dropdown -->\\n\\n\\t\\t\\t\\t\\t\\t\\t\\t\\n\\t\\t\\t\\t\\t\\t\\t\\n\\t\\t\\t\\t\\t\\t</ul>\\n\\n\\t\\t\\t\\t\\t\\n\\t\\t\\t\\t\\t<form class=\"form-inline navbar-form\" role=\"search\" method=\"get\" action=\"https://www.nulondon.ac.uk/\">\\n\\n\\t\\t\\t\\t\\t\\t<div class=\"input-group\">\\n\\t\\t\\t\\t\\t\\t\\t<input type=\"text\" name=\"s\" class=\"form-control\" placeholder=\"Search\" value=\"\">\\n\\t\\t\\t\\t\\t\\t\\t<button type=\"submit\" class=\"btn btn-primary\">\\n\\t\\t\\t\\t\\t\\t\\t\\t<i class=\"fa fa-search\"></i>\\n\\t\\t\\t\\t\\t\\t\\t</button>\\n\\t\\t\\t\\t\\t\\t</div>\\n\\n\\t\\t\\t\\t\\t</form>\\n\\n\\t\\t\\t\\t\\t\\n\\t\\t\\t\\t\\t\\t<ul id=\"misc-nav-mobile\" class=\"nav navbar-nav\">\\n\\n\\t\\t\\t\\t\\t\\t\\t<li class=\"misc-nav-header\">College Links:</li>\\n\\n\\t\\t\\t\\t\\t\\t\\t\\n\\t\\t\\t\\t\\t\\t\\t\\t\\n\\t\\t\\t\\t\\t\\t\\t\\t\\t\\t\\t\\t\\t\\t\\t\\t\\t<li class=\"nav-item\">\\n\\t\\t\\t\\t\\t\\t\\t\\t\\t\\t<a href=\"https://www.nulondon.ac.uk/nch-student-hub/\" target=\"\" class=\"menu-link\">Current students</a>\\n\\t\\t\\t\\t\\t\\t\\t\\t\\t</li>\\n\\t\\t\\t\\t\\t\\t\\t\\t\\n\\t\\t\\t\\t\\t\\t\\t\\n\\t\\t\\t\\t\\t\\t\\t\\t\\n\\t\\t\\t\\t\\t\\t\\t\\t\\t\\t\\t\\t\\t\\t\\t\\t\\t<li class=\"nav-item\">\\n\\t\\t\\t\\t\\t\\t\\t\\t\\t\\t<a href=\"https://www.nulondon.ac.uk/offer-holders/\" target=\"\" class=\"menu-link\">Offer holders</a>\\n\\t\\t\\t\\t\\t\\t\\t\\t\\t</li>\\n\\t\\t\\t\\t\\t\\t\\t\\t\\n\\t\\t\\t\\t\\t\\t\\t\\n\\t\\t\\t\\t\\t\\t\\t\\t\\n\\t\\t\\t\\t\\t\\t\\t\\t\\t\\t\\t\\t\\t\\t\\t\\t\\t<li class=\"nav-item\">\\n\\t\\t\\t\\t\\t\\t\\t\\t\\t\\t<a href=\"https://nulondon.peoplehr.net/\" target=\"\" class=\"menu-link\">Staff Only</a>\\n\\t\\t\\t\\t\\t\\t\\t\\t\\t</li>\\n\\t\\t\\t\\t\\t\\t\\t\\t\\n\\t\\t\\t\\t\\t\\t\\t\\n\\t\\t\\t\\t\\t   </ul><!-- #misc-nav-mobile -->\\n\\n\\t\\t\\t\\t\\t\\n\\t\\t\\t\\t</div><!-- /.navbar-collapse -->\\n\\n\\t\\t\\t</div><!-- /.container-fluid -->\\n\\n\\t\\t</nav><!-- #main-nav -->\\n\\n\\n\\n\\t\\t\\n\\t\\t\\t\\n\\t\\t\\t\\t\\n\\t\\t\\t\\t\\n\\t\\t\\t\\t\\n\\t\\t\\t\\n\\t\\t\\t\\t\\n\\t\\t\\t\\t\\t\\t<nav id=\\'sub-nav\\'>\\n\\n\\t\\t\\t\\t\\t\\t    <div class=\\'container-fluid\\'>\\n\\n\\t\\t\\t\\t\\t\\t        <div class=\\'row\\'>\\n\\n\\t\\t\\t\\t\\t\\t            <div class=\\'col-12\\'>\\n\\n\\t\\t\\t\\t\\t\\t\\t\\t\\t\\t\\n\\t\\t\\t\\t\\t\\t\\t\\t\\t\\t\\t\\n\\t\\t\\t\\t\\t\\t\\t\\t\\t\\t\\t\\t\\n\\t\\t\\t\\t\\t\\t\\t\\t\\t\\t\\t\\t\\t\\t\\t\\t\\t\\t\\t\\t\\t\\t\\t\\t\\t<a href=\"https://www.nulondon.ac.uk/cmens-faculty/\" target=\"\" class=\"active\">Computer & Data Science</a>\\n\\t\\t\\t\\t\\t\\t\\t\\t\\t\\t\\t\\t\\n\\t\\t\\t\\t\\t\\t\\t\\t\\t\\t\\t\\t\\n\\t\\t\\t\\t\\t\\t\\t\\t\\t\\t\\t\\n\\t\\t\\t\\t\\t\\t\\t\\t\\t\\t\\n\\t\\t\\t\\t\\t\\t\\t\\t\\t\\t\\t\\n\\t\\t\\t\\t\\t\\t\\t\\t\\t\\t\\t\\t\\n\\t\\t\\t\\t\\t\\t\\t\\t\\t\\t\\t\\t\\t\\t\\t\\t\\t\\t\\t\\t\\t\\t\\t\\t\\t<a href=\"https://www.nulondon.ac.uk/faculties/economics-faculty/\" target=\"\" class=\"\">Economics</a>\\n\\t\\t\\t\\t\\t\\t\\t\\t\\t\\t\\t\\t\\n\\t\\t\\t\\t\\t\\t\\t\\t\\t\\t\\t\\t\\n\\t\\t\\t\\t\\t\\t\\t\\t\\t\\t\\t\\n\\t\\t\\t\\t\\t\\t\\t\\t\\t\\t\\n\\t\\t\\t\\t\\t\\t\\t\\t\\t\\t\\t\\n\\t\\t\\t\\t\\t\\t\\t\\t\\t\\t\\t\\t\\n\\t\\t\\t\\t\\t\\t\\t\\t\\t\\t\\t\\t\\t\\t\\t\\t\\t\\t\\t\\t\\t\\t\\t\\t\\t<a href=\"https://www.nulondon.ac.uk/faculties/english-faculty-2/\" target=\"\" class=\"\">English</a>\\n\\t\\t\\t\\t\\t\\t\\t\\t\\t\\t\\t\\t\\n\\t\\t\\t\\t\\t\\t\\t\\t\\t\\t\\t\\t\\n\\t\\t\\t\\t\\t\\t\\t\\t\\t\\t\\t\\n\\t\\t\\t\\t\\t\\t\\t\\t\\t\\t\\n\\t\\t\\t\\t\\t\\t\\t\\t\\t\\t\\t\\n\\t\\t\\t\\t\\t\\t\\t\\t\\t\\t\\t\\t\\n\\t\\t\\t\\t\\t\\t\\t\\t\\t\\t\\t\\t\\t\\t\\t\\t\\t\\t\\t\\t\\t\\t\\t\\t\\t<a href=\"https://www.nulondon.ac.uk/faculties/history-faculty/\" target=\"\" class=\"\">History faculty</a>\\n\\t\\t\\t\\t\\t\\t\\t\\t\\t\\t\\t\\t\\n\\t\\t\\t\\t\\t\\t\\t\\t\\t\\t\\t\\t\\n\\t\\t\\t\\t\\t\\t\\t\\t\\t\\t\\t\\n\\t\\t\\t\\t\\t\\t\\t\\t\\t\\t\\n\\t\\t\\t\\t\\t\\t\\t\\t\\t\\t\\t\\n\\t\\t\\t\\t\\t\\t\\t\\t\\t\\t\\t\\t\\n\\t\\t\\t\\t\\t\\t\\t\\t\\t\\t\\t\\t\\t\\t\\t\\t\\t\\t\\t\\t\\t\\t\\t\\t\\t<a href=\"https://www.nulondon.ac.uk/faculties/law-faculty/\" target=\"\" class=\"\">Law </a>\\n\\t\\t\\t\\t\\t\\t\\t\\t\\t\\t\\t\\t\\n\\t\\t\\t\\t\\t\\t\\t\\t\\t\\t\\t\\t\\n\\t\\t\\t\\t\\t\\t\\t\\t\\t\\t\\t\\n\\t\\t\\t\\t\\t\\t\\t\\t\\t\\t\\n\\t\\t\\t\\t\\t\\t\\t\\t\\t\\t\\t\\n\\t\\t\\t\\t\\t\\t\\t\\t\\t\\t\\t\\t\\n\\t\\t\\t\\t\\t\\t\\t\\t\\t\\t\\t\\t\\t\\t\\t\\t\\t\\t\\t\\t\\t\\t\\t\\t\\t<a href=\"https://www.nulondon.ac.uk/faculties/philosophy-faculty/\" target=\"\" class=\"\">Philosophy </a>\\n\\t\\t\\t\\t\\t\\t\\t\\t\\t\\t\\t\\t\\n\\t\\t\\t\\t\\t\\t\\t\\t\\t\\t\\t\\t\\n\\t\\t\\t\\t\\t\\t\\t\\t\\t\\t\\t\\n\\t\\t\\t\\t\\t\\t\\t\\t\\t\\t\\n\\t\\t\\t\\t\\t\\t\\t\\t\\t\\t\\t\\n\\t\\t\\t\\t\\t\\t\\t\\t\\t\\t\\t\\t\\n\\t\\t\\t\\t\\t\\t\\t\\t\\t\\t\\t\\t\\t\\t\\t\\t\\t\\t\\t\\t\\t\\t\\t\\t\\t<a href=\"https://www.nulondon.ac.uk/faculties/politics-ir-faculty/\" target=\"\" class=\"\">Politics & IR </a>\\n\\t\\t\\t\\t\\t\\t\\t\\t\\t\\t\\t\\t\\n\\t\\t\\t\\t\\t\\t\\t\\t\\t\\t\\t\\t\\n\\t\\t\\t\\t\\t\\t\\t\\t\\t\\t\\t\\n\\t\\t\\t\\t\\t\\t\\t\\t\\t\\t\\n\\t\\t\\t\\t\\t\\t\\t\\t\\t\\t\\t\\n\\t\\t\\t\\t\\t\\t\\t\\t\\t\\t\\t\\t\\n\\t\\t\\t\\t\\t\\t\\t\\t\\t\\t\\t\\t\\t\\t\\t\\t\\t\\t\\t\\t\\t\\t\\t\\t\\t<a href=\"https://www.nulondon.ac.uk/faculties/research-at-nch/\" target=\"\" class=\"\">Research and External Recognition</a>\\n\\t\\t\\t\\t\\t\\t\\t\\t\\t\\t\\t\\t\\n\\t\\t\\t\\t\\t\\t\\t\\t\\t\\t\\t\\t\\n\\t\\t\\t\\t\\t\\t\\t\\t\\t\\t\\t\\n\\t\\t\\t\\t\\t\\t\\t\\t\\t\\t\\n\\t\\t\\t\\t\\t\\t\\t\\t\\t\\t\\t\\n\\t\\t\\t\\t\\t\\t\\t\\t\\t\\t\\t\\t\\n\\t\\t\\t\\t\\t\\t\\t\\t\\t\\t\\t\\t\\t\\t\\t\\t\\t\\t\\t\\t\\t\\t\\t\\t\\t<a href=\"https://www.nulondon.ac.uk/academic-management-structure/\" target=\"\" class=\"\">Academic Management Structure</a>\\n\\t\\t\\t\\t\\t\\t\\t\\t\\t\\t\\t\\t\\n\\t\\t\\t\\t\\t\\t\\t\\t\\t\\t\\t\\t\\n\\t\\t\\t\\t\\t\\t\\t\\t\\t\\t\\t\\n\\t\\t\\t\\t\\t\\t\\t\\t\\t\\t\\n\\t\\t\\t\\t\\t\\t\\t\\t\\t\\t\\t\\n\\t\\t\\t\\t\\t\\t\\t\\t\\t\\t\\t\\t\\n\\t\\t\\t\\t\\t\\t\\t\\t\\t\\t\\t\\t\\n\\t\\t\\t\\t\\t\\t\\t\\t\\t\\t\\t\\t\\n\\t\\t\\t\\t\\t\\t\\t\\t\\t\\t\\t\\n\\t\\t\\t\\t\\t\\t\\t\\t\\t\\t\\n\\t\\t\\t\\t\\t\\t            </div><!-- .col-12 -->\\n\\n\\t\\t\\t\\t\\t\\t        </div><!-- .row -->\\n\\n\\t\\t\\t\\t\\t\\t    </div><!-- .container-fluid -->\\n\\n\\t\\t\\t\\t\\t\\t</nav><!-- #sub-nav -->\\n\\n\\t\\t\\t\\t\\t\\n\\t\\t\\t\\t\\n\\t\\t\\t\\t\\n\\t\\t\\t\\n\\t\\t\\t\\t\\n\\t\\t\\t\\t\\n\\t\\t\\t\\t\\n\\t\\t\\t\\n\\t\\t\\t\\t\\n\\t\\t\\t\\t\\n\\t\\t\\t\\t\\n\\t\\t\\t\\n\\t\\t\\t\\t\\n\\t\\t\\t\\t\\n\\t\\t\\t\\t\\n\\t\\t\\t\\n\\t\\t\\t\\t\\n\\t\\t\\t\\t\\n\\t\\t\\t\\t\\n\\t\\t\\t\\n\\t\\t\\n\\n\\n\\n\\n\\n\\n\\n\\n\\t\\t<div id=\"content\" class=\"site-content\">\\n\\n <main class=\"content-blocks\">\\n\\n     \\n    \\n        \\n        <section\\n            id=\"block_68c6606dbfd11aeb95b5c774ac96e96e\"\\n            class=\"jumbotron landing-page-heading py-3 mt-0 mb-0\" style=\"background-image: url(https://www.nulondon.ac.uk/wp-content/uploads/2020/04/creative-internet-computer-display-2004161-1575x1050.jpg);\">\\n\\n\\n            <div class=\\'container py-3\\'>\\n\\n                <div class=\\'row\\'>\\n\\n                    <div class=\\'col-lg-10 offset-lg-1\\'>\\n\\n                        <div class=\\'intro\\'>\\n\\n                            <h1>Computing, Mathematics, Engineering &#038; Natural Sciences (CMENS) Faculty</h1>\\n\\n                            <p></p>\\n\\n                        </div><!-- .intro -->\\n\\n                        <div class=\\'call-to-action\\'>\\n\\n                                                        \\n\\n                            \\n                            \\n                        </div><!-- .call-to-action -->\\n\\n                    </div><!-- .col -->\\n\\n                </div><!-- .row -->\\n\\n            </div><!-- .container -->\\n\\n\\n        </section><!-- .feature-columns -->\\n\\n    \\n\\t\\n\\n\\n<p></p>\\n\\n\\n\\n<script src=\"https://static.elfsight.com/platform/platform.js\" data-use-service-core defer></script>\\r\\n<div class=\"elfsight-app-2ff98cf1-f65f-4a24-9777-37933f9911d9\" data-elfsight-app-lazy></div>\\n\\n </main><!-- .main-content -->\\n\\n </div><!-- #content -->\\n\\n\\n<footer id=\"footer\">\\n\\n\\n    <aside id=\"footer-social\">\\n\\n        <div class=\"container\">\\n\\n            <div class=\"row\">\\n\\n                <!--<div class=\"col-12 col-sm-6 footer-social-newsletter d-none\">\\n\\n                    <p class=\"title\">Got a question for us?</p>\\n\\n                    <a href=\"/contact/\" class=\"btn btn-primary\">Get in touch</a>\\n\\n                </div>-->\\n\\n                <div class=\"col-12 footer-social-buttons d-flex flex-column flex-md-row justify-content-center align-items-center\">\\n\\n                    <p class=\"title d-block\">Follow, like, and subscribe</p>\\n\\n                    <nav class=\"social-nav text-center d-block\">\\n\\n                        <a href=\"https://www.facebook.com/NortheasternLDN\" class=\"social-link-facebook\" title=\"Like Northeastern University London on Facebook\">\\n                            <i class=\"fab fa-facebook\"></i>\\n                        </a>\\n\\n                        <a href=\"https://twitter.com/NortheasternLDN\" class=\"social-link-twitter\" title=\"Follow Northeastern University London on Twitter\">\\n                            <i class=\"fab fa-twitter\"></i>\\n                        </a>\\n\\n                        <a href=\"https://www.instagram.com/northeastern.ldn/\" class=\"social-link-instagram\" title=\"Follow Northeastern University London on Instagram\">\\n                            <i class=\"fab fa-instagram\"></i>\\n                        </a>\\n\\n                        <a href=\"https://www.youtube.com/@NortheasternLDN\" class=\"social-link-youtube\" title=\"Subscribe to Northeastern University London on YouTube\">\\n                            <i class=\"fab fa-youtube\"></i>\\n                        </a>\\n                        \\n                        <a href=\"https://www.tiktok.com/@northeasternldn\" class=\"social-link-tiktok\" title=\"Follow to Northeastern University London on TikTok\">\\n                            <i class=\"fab fa-tiktok\"></i>\\n                        </a>\\n                        \\n                    </nav>\\n\\n                </div>\\n\\n            </div>\\n\\n        </div>\\n\\n    </aside><!-- #footer-social -->\\n\\n\\n\\n    <nav id=\"footer-nav\">\\n\\n        <div class=\"container\">\\n\\n            <div class=\"row\">\\n\\n                <div class=\"column col-md-3 col-sm-6 d-none d-sm-block\">\\n\\n                    <p class=\"menu-name\">Admissions</p>\\n\\n                    <div class=\"menu-admissions-container\"><ul id=\"menu-admissions\" class=\"menu\"><li id=\"menu-item-68752\" class=\"menu-item menu-item-type-custom menu-item-object-custom menu-item-68752\"><a href=\"https://www.nulondon.ac.uk/nch-admissions/\">Northeastern University London Admissions</a></li>\\n<li id=\"menu-item-68751\" class=\"menu-item menu-item-type-custom menu-item-object-custom menu-item-68751\"><a href=\"/home-fees/\">Fees and funding</a></li>\\n<li id=\"menu-item-55092\" class=\"menu-item menu-item-type-custom menu-item-object-custom menu-item-55092\"><a href=\"https://www.nulondon.ac.uk/entry-requirements-country/\">Entry requirements</a></li>\\n</ul></div>\\n                </div><!-- .column -->\\n\\n                <div class=\"column col-md-3 col-sm-6 d-none d-sm-block\">\\n\\n                    <p class=\"menu-name\">Degree programmes</p>\\n\\n                    <div class=\"menu-degree-programmes-container\"><ul id=\"menu-degree-programmes\" class=\"menu\"><li id=\"menu-item-4542\" class=\"menu-item menu-item-type-custom menu-item-object-custom menu-item-4542\"><a href=\"/degrees-2023/\">Undergraduate study</a></li>\\n<li id=\"menu-item-64256\" class=\"menu-item menu-item-type-custom menu-item-object-custom menu-item-64256\"><a href=\"https://www.nulondon.ac.uk/notice/\">Notice to prospective students</a></li>\\n<li id=\"menu-item-57660\" class=\"menu-item menu-item-type-custom menu-item-object-custom menu-item-57660\"><a href=\"https://www.nulondon.ac.uk/degrees/postgraduate/\">Postgraduate study</a></li>\\n</ul></div>\\n                </div><!-- .column -->\\n\\n                <div class=\"column col-md-3 col-sm-6 d-none d-sm-block\">\\n\\n                    <p class=\"menu-name\">International</p>\\n\\n                    <div class=\"menu-international-container\"><ul id=\"menu-international\" class=\"menu\"><li id=\"menu-item-4592\" class=\"menu-item menu-item-type-custom menu-item-object-custom menu-item-4592\"><a href=\"/hubs/international-students/\">International students</a></li>\\n</ul></div>\\n                </div><!-- .column -->\\n\\n                <div class=\"column col-md-3 col-sm-6 d-none d-sm-block\">\\n\\n                    <p class=\"menu-name\">Life at NU London</p>\\n\\n                    <div class=\"menu-life-at-nu-london-container\"><ul id=\"menu-life-at-nu-london\" class=\"menu\"><li id=\"menu-item-54792\" class=\"menu-item menu-item-type-custom menu-item-object-custom menu-item-54792\"><a href=\"https://www.nulondon.ac.uk/ambassadors/\">Chat to our students</a></li>\\n</ul></div>\\n                </div><!-- .column -->\\n\\n\\n                <div class=\"column col-xs-12 d-block d-sm-none\">\\n\\n                    <p class=\"menu-name\">Admissions</p>\\n\\n                    <div class=\"menu-admissions-container\"><ul id=\"menu-admissions-1\" class=\"menu\"><li class=\"menu-item menu-item-type-custom menu-item-object-custom menu-item-68752\"><a href=\"https://www.nulondon.ac.uk/nch-admissions/\">Northeastern University London Admissions</a></li>\\n<li class=\"menu-item menu-item-type-custom menu-item-object-custom menu-item-68751\"><a href=\"/home-fees/\">Fees and funding</a></li>\\n<li class=\"menu-item menu-item-type-custom menu-item-object-custom menu-item-55092\"><a href=\"https://www.nulondon.ac.uk/entry-requirements-country/\">Entry requirements</a></li>\\n</ul></div>\\n                </div><!-- .column -->\\n\\n            </div><!-- .row -->\\n\\n        </div><!-- .container -->\\n\\n    </nav><!-- #footer-nav -->\\n\\n\\n\\n    <div id=\"footer-base\">\\n\\n        <div class=\"container\">\\n\\n            <div class=\"row\">\\n\\n                <div id=\"footer-contact-details\" class=\"col-12 col-md-3\">\\n\\n                    <a href=\"/\" class=\"logo\" title=\"Northeastern University London\">\\n                        <img  alt=\"Northeastern University London\" data-src=\"https://www.nulondon.ac.uk/wp-content/themes/new-college-of-the-humanities/assets/images/logo-northeastern-uni-london-nch.svg\" class=\"lazyload\" src=\"data:image/gif;base64,R0lGODlhAQABAAAAACH5BAEKAAEALAAAAAABAAEAAAICTAEAOw==\"><noscript><img  alt=\"Northeastern University London\" data-src=\"https://www.nulondon.ac.uk/wp-content/themes/new-college-of-the-humanities/assets/images/logo-northeastern-uni-london-nch.svg\" class=\"lazyload\" src=\"data:image/gif;base64,R0lGODlhAQABAAAAACH5BAEKAAEALAAAAAABAAEAAAICTAEAOw==\"><noscript><img src=\"https://www.nulondon.ac.uk/wp-content/themes/new-college-of-the-humanities/assets/images/logo-northeastern-uni-london-nch.svg\" alt=\"Northeastern University London\"></noscript></noscript>\\n                    </a><!-- .logo -->\\n\\n                </div><!-- #footer-contact-details -->\\n\\n                <div id=\"footer-content\" class=\"col-12 col-md-9\">\\n\\n                    <div class=\"row\">\\n\\n                        <div class=\"vcard col-12\">\\n\\n                            <div class=\"org screen-reader-text\">Northeastern University London</div>\\n                            \\n                            <div class=\"adr\">\\n                                Address: \\n                                <span class=\"street-address\"> Devon House, 58 St Katharine\\xe2\\x80\\x99s Way</span>,\\n                                <span class=\"locality\">London</span>,\\n                                <span class=\"postal-code\">E1W 1LP</span>,\\n                                <span class=\"country-name\">United Kingdom</span>\\n                            </div>\\n\\n                            <strong>Tel: <a href=\"tel:+442076374550\" class=\"tel\">+44 (0)20 7637 4550</a> | Email: </strong> \\n                            <a class=\"email\" href=\"mailto:info@nulondon.ac.uk\">info@nulondon.ac.uk</a>\\n\\n                        </div>\\n\\n                        <div class=\\'col-12\\'>\\n\\n                            <p class=\"mt-1 mb-0 text-white small\">Northeastern University London is a charity registered with the Charity Commission for England and Wales (charity number 1189858.)</p>\\n\\n                        </div><!-- .col -->\\n\\n                    </div><!-- .row -->\\n\\n                    <div class=\"row\">\\n\\n                        <nav id=\"footer-legal-nav\">\\n\\n                            <div class=\"menu-footer-legal-links-container\"><ul id=\"menu-footer-legal-links\" class=\"menu\"><li id=\"menu-item-55002\" class=\"menu-item menu-item-type-post_type menu-item-object-page menu-item-55002\"><a href=\"https://www.nulondon.ac.uk/about-us/contact/\">Contact Us</a></li>\\n<li id=\"menu-item-55012\" class=\"menu-item menu-item-type-custom menu-item-object-custom menu-item-55012\"><a href=\"https://www.nulondon.ac.uk/visit-us/\">Open Day Registration</a></li>\\n<li id=\"menu-item-55032\" class=\"menu-item menu-item-type-custom menu-item-object-custom menu-item-55032\"><a href=\"https://www.nulondon.ac.uk/prospectus/\">Request a Prospectus</a></li>\\n<li id=\"menu-item-55062\" class=\"menu-item menu-item-type-custom menu-item-object-custom menu-item-55062\"><a href=\"https://www.nulondon.ac.uk/about-us/academic-handbook/access-and-participation/\">Access and Participation Plan</a></li>\\n<li id=\"menu-item-1095\" class=\"menu-item menu-item-type-custom menu-item-object-custom menu-item-1095\"><a href=\"https://www.nulondon.ac.uk/about-us/academic-handbook/nch-policies-and-procedures/data-protection/\">Data Protection Policy</a></li>\\n<li id=\"menu-item-1100\" class=\"menu-item menu-item-type-custom menu-item-object-custom menu-item-1100\"><a href=\"https://www.nulondon.ac.uk/about-us/academic-handbook/nch-policies-and-procedures/data-protection/\">Cookie Policy</a></li>\\n</ul></div>\\n                        </nav><!-- #footer-legal-nav -->\\n\\n                    </div><!-- .row -->\\n\\n                </div><!-- #footer-content -->\\n\\n            </div><!-- .row -->\\n\\n        </div><!-- .container -->\\n\\n    </div><!-- #footer-base -->\\n\\n</footer>\\n\\n\\n\\n\\n\\n</div><!-- #page -->\\n\\n\\n\\n\\n\\n\\n\\n\\n \\n\\n<!-- END Footer Scripts -->\\n<!-- WP FOOTER -->\\n<!-- Custom Facebook Feed JS -->\\r\\n<script type=\"text/javascript\">var cffajaxurl = \"https://www.nulondon.ac.uk/wp-admin/admin-ajax.php\";\\r\\nvar cfflinkhashtags = \"true\";\\r\\n</script>\\r\\n        <style>\\n            .searchwp-live-search-results {\\n                opacity: 0;\\n                transition: opacity .25s ease-in-out;\\n                -moz-transition: opacity .25s ease-in-out;\\n                -webkit-transition: opacity .25s ease-in-out;\\n                height: 0;\\n                overflow: hidden;\\n                z-index: 9999995; /* Exceed SearchWP Modal Search Form overlay. */\\n                position: absolute;\\n                display: none;\\n            }\\n\\n            .searchwp-live-search-results-showing {\\n                display: block;\\n                opacity: 1;\\n                height: auto;\\n                overflow: auto;\\n            }\\n\\n            .searchwp-live-search-no-results {\\n                padding: 3em 2em 0;\\n                text-align: center;\\n            }\\n\\n            .searchwp-live-search-no-min-chars:after {\\n                content: \"Continue typing\";\\n                display: block;\\n                text-align: center;\\n                padding: 2em 2em 0;\\n            }\\n        </style>\\n                <script>\\n            var _SEARCHWP_LIVE_AJAX_SEARCH_BLOCKS = true;\\n            var _SEARCHWP_LIVE_AJAX_SEARCH_ENGINE = \\'default\\';\\n            var _SEARCHWP_LIVE_AJAX_SEARCH_CONFIG = \\'default\\';\\n        </script>\\n        <script type=\"text/javascript\" src=\"https://www.nulondon.ac.uk/wp-content/plugins/contact-form-7/includes/swv/js/index.js\" id=\"swv-js\"></script>\\n<script type=\"text/javascript\" id=\"contact-form-7-js-extra\">\\n/* <![CDATA[ */\\nvar wpcf7 = {\"api\":{\"root\":\"https:\\\\/\\\\/www.nulondon.ac.uk\\\\/wp-json\\\\/\",\"namespace\":\"contact-form-7\\\\/v1\"}};\\n/* ]]> */\\n</script>\\n<script type=\"text/javascript\" src=\"https://www.nulondon.ac.uk/wp-content/plugins/contact-form-7/includes/js/index.js\" id=\"contact-form-7-js\"></script>\\n<script type=\"text/javascript\" id=\"leadin-script-loader-js-js-extra\">\\n/* <![CDATA[ */\\nvar leadin_wordpress = {\"userRole\":\"visitor\",\"pageType\":\"page\",\"leadinPluginVersion\":\"10.2.17\"};\\n/* ]]> */\\n</script>\\n<script type=\"text/javascript\" src=\"https://js.hs-scripts.com/4544478.js\" id=\"leadin-script-loader-js-js\"></script>\\n<script type=\"text/javascript\" src=\"https://www.nulondon.ac.uk/wp-content/themes/new-college-of-the-humanities/build/vendor/jquery/dist/jquery.min.js\" id=\"jquery-js\"></script>\\n<script type=\"text/javascript\" src=\"https://www.nulondon.ac.uk/wp-content/plugins/custom-facebook-feed/assets/js/cff-scripts.min.js\" id=\"cffscripts-js\"></script>\\n<script type=\"text/javascript\" src=\"https://www.nulondon.ac.uk/wp-content/plugins/wp-smush-pro/app/assets/js/smush-lazy-load.min.js\" id=\"smush-lazy-load-js\"></script>\\n<script type=\"text/javascript\" src=\"https://www.nulondon.ac.uk/wp-content/themes/new-college-of-the-humanities/build/vendor/popper.js/dist/umd/popper.min.js\" id=\"popper-js\"></script>\\n<script type=\"text/javascript\" src=\"https://www.nulondon.ac.uk/wp-content/themes/new-college-of-the-humanities/build/vendor/jquery-background-video/jquery.background-video.min.js\" id=\"background-video-js\"></script>\\n<script type=\"text/javascript\" src=\"https://www.nulondon.ac.uk/wp-content/themes/new-college-of-the-humanities/build/vendor/bootstrap/dist/js/bootstrap.min.js\" id=\"bootstrap-js-js\"></script>\\n<script type=\"text/javascript\" id=\"swp-live-search-client-js-extra\">\\n/* <![CDATA[ */\\nvar searchwp_live_search_params = [];\\nsearchwp_live_search_params = {\"ajaxurl\":\"https:\\\\/\\\\/www.nulondon.ac.uk\\\\/wp-admin\\\\/admin-ajax.php\",\"origin_id\":152532,\"config\":{\"default\":{\"engine\":\"default\",\"input\":{\"delay\":300,\"min_chars\":3},\"results\":{\"position\":\"bottom\",\"width\":\"css\",\"offset\":{\"x\":0,\"y\":30}},\"spinner\":{\"lines\":12,\"length\":8,\"width\":3,\"radius\":8,\"scale\":1,\"corners\":1,\"color\":\"#424242\",\"fadeColor\":\"transparent\",\"speed\":1,\"rotate\":0,\"animation\":\"searchwp-spinner-line-fade-quick\",\"direction\":1,\"zIndex\":2000000000,\"className\":\"spinner\",\"top\":\"50%\",\"left\":\"50%\",\"shadow\":\"0 0 1px transparent\",\"position\":\"absolute\"}},\"videos\":{\"engine\":\"default\",\"input\":{\"delay\":300,\"min_chars\":3},\"results\":{\"position\":\"bottom\",\"width\":\"css\",\"offset\":{\"x\":0,\"y\":30}},\"spinner\":{\"lines\":12,\"length\":8,\"width\":3,\"radius\":8,\"scale\":1,\"corners\":1,\"color\":\"#424242\",\"fadeColor\":\"transparent\",\"speed\":1,\"rotate\":0,\"animation\":\"searchwp-spinner-line-fade-quick\",\"direction\":1,\"zIndex\":2000000000,\"className\":\"spinner\",\"top\":\"50%\",\"left\":\"50%\",\"shadow\":\"0 0 1px transparent\",\"position\":\"absolute\"},\"parent_el\":\"#video-live-search-results\"}},\"msg_no_config_found\":\"No valid SearchWP Live Search configuration found!\",\"aria_instructions\":\"When autocomplete results are available use up and down arrows to review and enter to go to the desired page. Touch device users, explore by touch or with swipe gestures.\"};;\\n/* ]]> */\\n</script>\\n<script type=\"text/javascript\" src=\"https://www.nulondon.ac.uk/wp-content/plugins/searchwp-live-ajax-search/assets/javascript/dist/script.min.js\" id=\"swp-live-search-client-js\"></script>\\n<script type=\"text/javascript\" src=\"https://cdnjs.cloudflare.com/ajax/libs/jspdf/1.5.3/jspdf.min.js\" id=\"js-pdf-js\"></script>\\n<script type=\"text/javascript\" src=\"https://html2canvas.hertzen.com/dist/html2canvas.js\" id=\"html2canvas-js\"></script>\\n<script type=\"text/javascript\" src=\"https://www.nulondon.ac.uk/wp-content/themes/new-college-of-the-humanities/build/vendor/js.cookie.min.js\" id=\"js-cookie-js\"></script>\\n<script type=\"text/javascript\" src=\"https://www.nulondon.ac.uk/wp-content/themes/new-college-of-the-humanities/build/js/main.min.js\" id=\"new-college-of-the-humanities-js-js\"></script>\\n<script type=\"text/javascript\" src=\"https://maps.googleapis.com/maps/api/js\" id=\"googlemaps-js\"></script>\\n\\n</body>\\n</html>\\n'\n"
     ]
    },
    {
     "data": {
      "text/html": [
       "<div>\n",
       "<style scoped>\n",
       "    .dataframe tbody tr th:only-of-type {\n",
       "        vertical-align: middle;\n",
       "    }\n",
       "\n",
       "    .dataframe tbody tr th {\n",
       "        vertical-align: top;\n",
       "    }\n",
       "\n",
       "    .dataframe thead th {\n",
       "        text-align: right;\n",
       "    }\n",
       "</style>\n",
       "<table border=\"1\" class=\"dataframe\">\n",
       "  <thead>\n",
       "    <tr style=\"text-align: right;\">\n",
       "      <th></th>\n",
       "      <th>name</th>\n",
       "      <th>qualifications</th>\n",
       "    </tr>\n",
       "  </thead>\n",
       "  <tbody>\n",
       "  </tbody>\n",
       "</table>\n",
       "</div>"
      ],
      "text/plain": [
       "Empty DataFrame\n",
       "Columns: [name, qualifications]\n",
       "Index: []"
      ]
     },
     "execution_count": 36,
     "metadata": {},
     "output_type": "execute_result"
    }
   ],
   "source": [
    "import pandas as pd\n",
    "#import the Python libaries you need i.e. pandas\n",
    "\n",
    "\n",
    "# Create an empty dataframe\n",
    "df = pd.DataFrame(columns=['name', 'qualifications'])\n",
    "\n",
    "# Read Web page\n",
    "html = urllib.urlopen(\"https://www.nulondon.ac.uk/cmens-faculty/\")\n",
    "contents = html.read()\n",
    "print(contents)\n",
    "soup = BeautifulSoup(contents)\n",
    "\n",
    "\n",
    "# PLEASE NOTE THE FOLLOWING CODE IS AN EXAMPLE OF HOW TO USE DIFFERENT HTML TAGS\n",
    "# FOR SEARCHING INFORMATION.\n",
    "# THE SPECIFIC EXAMPLE MAY NOT WORK SINCE THE ABOVE URL USED HAS BEEN UPDATED.\n",
    "# CAN YOU TRY INSTEAD OTHER TAGS TO SEARCH AND FIND INFORMATION?\n",
    "\n",
    "# Extract faculty members\n",
    "members = soup.find_all('div', {'class': 'faculty-member'})\n",
    "#print(members)\n",
    "\n",
    "for i, member in enumerate(members):\n",
    "    # Let's parse child tags\n",
    "    name = member.h4.a.get_text()\n",
    "    qualifications = member.find('p', {'class': 'qualifications'}).get_text()\n",
    "    # Slice and copy to dataframe\n",
    "    df.loc[i] = [name, qualifications]\n",
    "    \n",
    "\n",
    "df"
   ]
  },
  {
   "cell_type": "markdown",
   "metadata": {
    "slideshow": {
     "slide_type": "fragment"
    }
   },
   "source": [
    "Let's write the data frame to a file."
   ]
  },
  {
   "cell_type": "code",
   "execution_count": 37,
   "metadata": {
    "slideshow": {
     "slide_type": "fragment"
    }
   },
   "outputs": [],
   "source": [
    "df.to_csv(\"nu-faculty.csv\")"
   ]
  },
  {
   "cell_type": "markdown",
   "metadata": {
    "slideshow": {
     "slide_type": "slide"
    }
   },
   "source": [
    "#### NOTE: More online resources on Web Scraping\n",
    "\n",
    "* [BeautifulSoup](https://www.crummy.com/software/BeautifulSoup/bs4/doc/), as seen today\n",
    "\n",
    "* [Selenium](https://selenium-python.readthedocs.io/index.html) - incl. interacting with dynamic pages\n",
    "\n",
    "* [Scrapy](https://scrapy.org/) - optimized for scraping tasks"
   ]
  },
  {
   "cell_type": "markdown",
   "metadata": {
    "slideshow": {
     "slide_type": "slide"
    }
   },
   "source": [
    "## 4. Data pre-processing\n",
    "\n",
    "As you may have realised by our examples thus far, __data does not always come in forms ready for analysis__. \n",
    "\n",
    "Data could be:\n",
    "\n",
    "* In the wrong format (e.g. column types)\n",
    "* Incorrect \n",
    "* Missing\n",
    "\n",
    "As a data scientist, you can can spend a lot of your time (some might say, \"as much as 75%\") preparing data. \n",
    "\n",
    "Data preparation has been given many _modern_ names such as _data munging_ or _data wrangling_."
   ]
  },
  {
   "cell_type": "markdown",
   "metadata": {
    "slideshow": {
     "slide_type": "slide"
    }
   },
   "source": [
    "### 4.a. Funtion `explode()` for _data normalisation_\n",
    "\n",
    "Consider the following example data frame, where column values are not __atomic__.\n",
    "\n",
    "__Note:__ Python dictionary data structure: https://www.w3schools.com/python/python_dictionaries.asp"
   ]
  },
  {
   "cell_type": "code",
   "execution_count": 38,
   "metadata": {
    "slideshow": {
     "slide_type": "fragment"
    }
   },
   "outputs": [
    {
     "data": {
      "text/html": [
       "<div>\n",
       "<style scoped>\n",
       "    .dataframe tbody tr th:only-of-type {\n",
       "        vertical-align: middle;\n",
       "    }\n",
       "\n",
       "    .dataframe tbody tr th {\n",
       "        vertical-align: top;\n",
       "    }\n",
       "\n",
       "    .dataframe thead th {\n",
       "        text-align: right;\n",
       "    }\n",
       "</style>\n",
       "<table border=\"1\" class=\"dataframe\">\n",
       "  <thead>\n",
       "    <tr style=\"text-align: right;\">\n",
       "      <th></th>\n",
       "      <th>id</th>\n",
       "      <th>director</th>\n",
       "      <th>cast</th>\n",
       "    </tr>\n",
       "  </thead>\n",
       "  <tbody>\n",
       "    <tr>\n",
       "      <th>0</th>\n",
       "      <td>1</td>\n",
       "      <td>Mary, John</td>\n",
       "      <td>A, B</td>\n",
       "    </tr>\n",
       "    <tr>\n",
       "      <th>1</th>\n",
       "      <td>2</td>\n",
       "      <td>None</td>\n",
       "      <td>A, B, C, D</td>\n",
       "    </tr>\n",
       "    <tr>\n",
       "      <th>2</th>\n",
       "      <td>3</td>\n",
       "      <td>Mark, Mary</td>\n",
       "      <td>A, B, C</td>\n",
       "    </tr>\n",
       "  </tbody>\n",
       "</table>\n",
       "</div>"
      ],
      "text/plain": [
       "   id    director        cast\n",
       "0   1  Mary, John        A, B\n",
       "1   2        None  A, B, C, D\n",
       "2   3  Mark, Mary     A, B, C"
      ]
     },
     "execution_count": 38,
     "metadata": {},
     "output_type": "execute_result"
    }
   ],
   "source": [
    "import pandas as pd\n",
    "# import the Python library pands into your application\n",
    "\n",
    "# declare a dictionary structure\n",
    "data = {\n",
    "    \"id\": [ 1,  2, 3],\n",
    "    \"director\": ['Mary, John', None, 'Mark, Mary'],\n",
    "    \"cast\": ['A, B', 'A, B, C, D', 'A, B, C']\n",
    "}\n",
    "\n",
    "df = pd.DataFrame(data)\n",
    "df"
   ]
  },
  {
   "cell_type": "code",
   "execution_count": 39,
   "metadata": {
    "slideshow": {
     "slide_type": "fragment"
    }
   },
   "outputs": [
    {
     "data": {
      "text/plain": [
       "cast\n",
       "A    3\n",
       "B    3\n",
       "C    2\n",
       "D    1\n",
       "Name: id, dtype: int64"
      ]
     },
     "execution_count": 39,
     "metadata": {},
     "output_type": "execute_result"
    }
   ],
   "source": [
    "def _tolist(s):\n",
    "    \"\"\"\n",
    "    Splits a comma-separated string and return \n",
    "    it as a list of strings\n",
    "    \"\"\"\n",
    "    if not s:\n",
    "        return []\n",
    "    lst = s.split(',')\n",
    "    lst = [x.strip() for x in lst]\n",
    "    return lst\n",
    "\n",
    "# Convert string to list of strings\n",
    "df.cast = df.cast.map(_tolist)\n",
    "\n",
    "# Transform each element of a list to a row\n",
    "df = df.explode('cast', ignore_index=True)\n",
    "\n",
    "df.groupby('cast').id.count()"
   ]
  },
  {
   "cell_type": "markdown",
   "metadata": {
    "slideshow": {
     "slide_type": "slide"
    }
   },
   "source": [
    "### 4.b. Missing values\n",
    "\n",
    "Possible actions for missing values include:\n",
    "\n",
    "* Filtering out\n",
    "* Filling in\n",
    "* Ignoring\n",
    "\n",
    "Let's start with __filtering out__ missing values."
   ]
  },
  {
   "cell_type": "code",
   "execution_count": 40,
   "metadata": {
    "slideshow": {
     "slide_type": "fragment"
    }
   },
   "outputs": [
    {
     "data": {
      "text/html": [
       "<div>\n",
       "<style scoped>\n",
       "    .dataframe tbody tr th:only-of-type {\n",
       "        vertical-align: middle;\n",
       "    }\n",
       "\n",
       "    .dataframe tbody tr th {\n",
       "        vertical-align: top;\n",
       "    }\n",
       "\n",
       "    .dataframe thead th {\n",
       "        text-align: right;\n",
       "    }\n",
       "</style>\n",
       "<table border=\"1\" class=\"dataframe\">\n",
       "  <thead>\n",
       "    <tr style=\"text-align: right;\">\n",
       "      <th></th>\n",
       "      <th>A</th>\n",
       "      <th>B</th>\n",
       "    </tr>\n",
       "  </thead>\n",
       "  <tbody>\n",
       "    <tr>\n",
       "      <th>0</th>\n",
       "      <td>1.0</td>\n",
       "      <td>I</td>\n",
       "    </tr>\n",
       "    <tr>\n",
       "      <th>1</th>\n",
       "      <td>2.0</td>\n",
       "      <td>None</td>\n",
       "    </tr>\n",
       "    <tr>\n",
       "      <th>2</th>\n",
       "      <td>3.0</td>\n",
       "      <td>III</td>\n",
       "    </tr>\n",
       "    <tr>\n",
       "      <th>3</th>\n",
       "      <td>NaN</td>\n",
       "      <td>IV</td>\n",
       "    </tr>\n",
       "    <tr>\n",
       "      <th>4</th>\n",
       "      <td>5.0</td>\n",
       "      <td>None</td>\n",
       "    </tr>\n",
       "  </tbody>\n",
       "</table>\n",
       "</div>"
      ],
      "text/plain": [
       "     A     B\n",
       "0  1.0     I\n",
       "1  2.0  None\n",
       "2  3.0   III\n",
       "3  NaN    IV\n",
       "4  5.0  None"
      ]
     },
     "execution_count": 40,
     "metadata": {},
     "output_type": "execute_result"
    }
   ],
   "source": [
    "df = pd.DataFrame({'A': [1, 2, 3, None, 5], 'B': ['I', None, 'III', 'IV', None]}) \n",
    "#notice that keyword None is used for NaN\n",
    "df"
   ]
  },
  {
   "cell_type": "markdown",
   "metadata": {
    "slideshow": {
     "slide_type": "subslide"
    }
   },
   "source": [
    "The `dropna()` function drops rows and columns with missing data. By default, it drops any row containing a missing value."
   ]
  },
  {
   "cell_type": "code",
   "execution_count": 41,
   "metadata": {
    "slideshow": {
     "slide_type": "fragment"
    }
   },
   "outputs": [
    {
     "data": {
      "text/html": [
       "<div>\n",
       "<style scoped>\n",
       "    .dataframe tbody tr th:only-of-type {\n",
       "        vertical-align: middle;\n",
       "    }\n",
       "\n",
       "    .dataframe tbody tr th {\n",
       "        vertical-align: top;\n",
       "    }\n",
       "\n",
       "    .dataframe thead th {\n",
       "        text-align: right;\n",
       "    }\n",
       "</style>\n",
       "<table border=\"1\" class=\"dataframe\">\n",
       "  <thead>\n",
       "    <tr style=\"text-align: right;\">\n",
       "      <th></th>\n",
       "      <th>A</th>\n",
       "      <th>B</th>\n",
       "    </tr>\n",
       "  </thead>\n",
       "  <tbody>\n",
       "    <tr>\n",
       "      <th>0</th>\n",
       "      <td>1.0</td>\n",
       "      <td>I</td>\n",
       "    </tr>\n",
       "    <tr>\n",
       "      <th>2</th>\n",
       "      <td>3.0</td>\n",
       "      <td>III</td>\n",
       "    </tr>\n",
       "  </tbody>\n",
       "</table>\n",
       "</div>"
      ],
      "text/plain": [
       "     A    B\n",
       "0  1.0    I\n",
       "2  3.0  III"
      ]
     },
     "execution_count": 41,
     "metadata": {},
     "output_type": "execute_result"
    }
   ],
   "source": [
    "df.dropna()"
   ]
  },
  {
   "cell_type": "markdown",
   "metadata": {
    "slideshow": {
     "slide_type": "slide"
    }
   },
   "source": [
    "Next, we can try __filling in__ missing values:"
   ]
  },
  {
   "cell_type": "code",
   "execution_count": 42,
   "metadata": {
    "slideshow": {
     "slide_type": "fragment"
    }
   },
   "outputs": [
    {
     "data": {
      "text/html": [
       "<div>\n",
       "<style scoped>\n",
       "    .dataframe tbody tr th:only-of-type {\n",
       "        vertical-align: middle;\n",
       "    }\n",
       "\n",
       "    .dataframe tbody tr th {\n",
       "        vertical-align: top;\n",
       "    }\n",
       "\n",
       "    .dataframe thead th {\n",
       "        text-align: right;\n",
       "    }\n",
       "</style>\n",
       "<table border=\"1\" class=\"dataframe\">\n",
       "  <thead>\n",
       "    <tr style=\"text-align: right;\">\n",
       "      <th></th>\n",
       "      <th>A</th>\n",
       "      <th>B</th>\n",
       "    </tr>\n",
       "  </thead>\n",
       "  <tbody>\n",
       "    <tr>\n",
       "      <th>0</th>\n",
       "      <td>1.0</td>\n",
       "      <td>I</td>\n",
       "    </tr>\n",
       "    <tr>\n",
       "      <th>1</th>\n",
       "      <td>2.0</td>\n",
       "      <td>Unknown</td>\n",
       "    </tr>\n",
       "    <tr>\n",
       "      <th>2</th>\n",
       "      <td>3.0</td>\n",
       "      <td>III</td>\n",
       "    </tr>\n",
       "    <tr>\n",
       "      <th>3</th>\n",
       "      <td>-1.0</td>\n",
       "      <td>IV</td>\n",
       "    </tr>\n",
       "    <tr>\n",
       "      <th>4</th>\n",
       "      <td>5.0</td>\n",
       "      <td>Unknown</td>\n",
       "    </tr>\n",
       "  </tbody>\n",
       "</table>\n",
       "</div>"
      ],
      "text/plain": [
       "     A        B\n",
       "0  1.0        I\n",
       "1  2.0  Unknown\n",
       "2  3.0      III\n",
       "3 -1.0       IV\n",
       "4  5.0  Unknown"
      ]
     },
     "execution_count": 42,
     "metadata": {},
     "output_type": "execute_result"
    }
   ],
   "source": [
    "df.fillna({'A': -1, 'B': 'Unknown'})\n",
    "# we can set the missing NaN (None) value with what alternative value to be replaced"
   ]
  },
  {
   "cell_type": "markdown",
   "metadata": {
    "slideshow": {
     "slide_type": "slide"
    }
   },
   "source": [
    "__Note:__  Similarly we could instead dealt with missing values during loading (reading) the file.\n",
    "\n",
    "```python\n",
    "pd.read_csv(filename, na_values='0',\n",
    "                      skip_blank_lines=True)\n",
    "```"
   ]
  },
  {
   "cell_type": "markdown",
   "metadata": {
    "slideshow": {
     "slide_type": "slide"
    }
   },
   "source": [
    "### 4.c. Dealing with duplicates\n",
    "\n",
    "Sometimes data frames contain duplicate rows, which you (should) want to discard - unless, there is a _hidden_ time, or other ordering, dimension to the data. "
   ]
  },
  {
   "cell_type": "code",
   "execution_count": 43,
   "metadata": {
    "slideshow": {
     "slide_type": "fragment"
    }
   },
   "outputs": [
    {
     "data": {
      "text/html": [
       "<div>\n",
       "<style scoped>\n",
       "    .dataframe tbody tr th:only-of-type {\n",
       "        vertical-align: middle;\n",
       "    }\n",
       "\n",
       "    .dataframe tbody tr th {\n",
       "        vertical-align: top;\n",
       "    }\n",
       "\n",
       "    .dataframe thead th {\n",
       "        text-align: right;\n",
       "    }\n",
       "</style>\n",
       "<table border=\"1\" class=\"dataframe\">\n",
       "  <thead>\n",
       "    <tr style=\"text-align: right;\">\n",
       "      <th></th>\n",
       "      <th>A</th>\n",
       "      <th>B</th>\n",
       "    </tr>\n",
       "  </thead>\n",
       "  <tbody>\n",
       "    <tr>\n",
       "      <th>0</th>\n",
       "      <td>1</td>\n",
       "      <td>2</td>\n",
       "    </tr>\n",
       "    <tr>\n",
       "      <th>1</th>\n",
       "      <td>1</td>\n",
       "      <td>2</td>\n",
       "    </tr>\n",
       "  </tbody>\n",
       "</table>\n",
       "</div>"
      ],
      "text/plain": [
       "   A  B\n",
       "0  1  2\n",
       "1  1  2"
      ]
     },
     "execution_count": 43,
     "metadata": {},
     "output_type": "execute_result"
    }
   ],
   "source": [
    "df = pd.DataFrame({'A': [1, 1], 'B': [2, 2]})\n",
    "df"
   ]
  },
  {
   "cell_type": "markdown",
   "metadata": {
    "slideshow": {
     "slide_type": "subslide"
    }
   },
   "source": [
    "Function `duplicated()` returns a `Series` object with `True` and `False` values, indicating whether a row has been previously observed. \n",
    "\n",
    "__NOTE:__ It also works on specific columns."
   ]
  },
  {
   "cell_type": "code",
   "execution_count": 44,
   "metadata": {
    "slideshow": {
     "slide_type": "fragment"
    }
   },
   "outputs": [
    {
     "data": {
      "text/plain": [
       "0    False\n",
       "1     True\n",
       "dtype: bool"
      ]
     },
     "execution_count": 44,
     "metadata": {},
     "output_type": "execute_result"
    }
   ],
   "source": [
    "df.duplicated()"
   ]
  },
  {
   "cell_type": "markdown",
   "metadata": {
    "slideshow": {
     "slide_type": "subslide"
    }
   },
   "source": [
    "Function `drop_duplicates()` returns a data frame with duplicate rows removed.\n",
    "\n",
    "__NOTE:__ We can specify a list of column names as an argument to look for and drop duplicates e.g.\n",
    "\n",
    "```python\n",
    "df.drop_duplicates(['A', 'B'])\n",
    "```"
   ]
  },
  {
   "cell_type": "code",
   "execution_count": 45,
   "metadata": {
    "slideshow": {
     "slide_type": "fragment"
    }
   },
   "outputs": [
    {
     "data": {
      "text/html": [
       "<div>\n",
       "<style scoped>\n",
       "    .dataframe tbody tr th:only-of-type {\n",
       "        vertical-align: middle;\n",
       "    }\n",
       "\n",
       "    .dataframe tbody tr th {\n",
       "        vertical-align: top;\n",
       "    }\n",
       "\n",
       "    .dataframe thead th {\n",
       "        text-align: right;\n",
       "    }\n",
       "</style>\n",
       "<table border=\"1\" class=\"dataframe\">\n",
       "  <thead>\n",
       "    <tr style=\"text-align: right;\">\n",
       "      <th></th>\n",
       "      <th>A</th>\n",
       "      <th>B</th>\n",
       "    </tr>\n",
       "  </thead>\n",
       "  <tbody>\n",
       "    <tr>\n",
       "      <th>0</th>\n",
       "      <td>1</td>\n",
       "      <td>2</td>\n",
       "    </tr>\n",
       "  </tbody>\n",
       "</table>\n",
       "</div>"
      ],
      "text/plain": [
       "   A  B\n",
       "0  1  2"
      ]
     },
     "execution_count": 45,
     "metadata": {},
     "output_type": "execute_result"
    }
   ],
   "source": [
    "df.drop_duplicates()"
   ]
  },
  {
   "cell_type": "markdown",
   "metadata": {
    "slideshow": {
     "slide_type": "fragment"
    }
   },
   "source": [
    "__NOTE:__ By default function `drop_duplicates()` keeps the first row. In order to keep the last one, you can specify `keep='last'` as an argument."
   ]
  },
  {
   "cell_type": "markdown",
   "metadata": {
    "slideshow": {
     "slide_type": "slide"
    }
   },
   "source": [
    "### 4.d. Replacing values\n",
    "\n",
    "Beyond filtering or fill in missing data, we can replace certain values with new values:"
   ]
  },
  {
   "cell_type": "code",
   "execution_count": 46,
   "metadata": {
    "slideshow": {
     "slide_type": "fragment"
    }
   },
   "outputs": [
    {
     "data": {
      "text/html": [
       "<div>\n",
       "<style scoped>\n",
       "    .dataframe tbody tr th:only-of-type {\n",
       "        vertical-align: middle;\n",
       "    }\n",
       "\n",
       "    .dataframe tbody tr th {\n",
       "        vertical-align: top;\n",
       "    }\n",
       "\n",
       "    .dataframe thead th {\n",
       "        text-align: right;\n",
       "    }\n",
       "</style>\n",
       "<table border=\"1\" class=\"dataframe\">\n",
       "  <thead>\n",
       "    <tr style=\"text-align: right;\">\n",
       "      <th></th>\n",
       "      <th>A</th>\n",
       "      <th>B</th>\n",
       "    </tr>\n",
       "  </thead>\n",
       "  <tbody>\n",
       "    <tr>\n",
       "      <th>0</th>\n",
       "      <td>I</td>\n",
       "      <td>II</td>\n",
       "    </tr>\n",
       "    <tr>\n",
       "      <th>1</th>\n",
       "      <td>I</td>\n",
       "      <td>II</td>\n",
       "    </tr>\n",
       "  </tbody>\n",
       "</table>\n",
       "</div>"
      ],
      "text/plain": [
       "   A   B\n",
       "0  I  II\n",
       "1  I  II"
      ]
     },
     "execution_count": 46,
     "metadata": {},
     "output_type": "execute_result"
    }
   ],
   "source": [
    "df.replace({1: 'I', 2: 'II'})  #  Or this can be equivalent to df.replace(1, 'I'); df.replace(2, 'II')\n",
    "                               #   or df.replace([1, 2], ['I', 'II'])"
   ]
  },
  {
   "cell_type": "markdown",
   "metadata": {
    "slideshow": {
     "slide_type": "slide"
    }
   },
   "source": [
    "### 4.e. Renaming\n",
    "\n",
    "It is possible to rename columns and rows using function `rename()` ."
   ]
  },
  {
   "cell_type": "code",
   "execution_count": 47,
   "metadata": {
    "slideshow": {
     "slide_type": "fragment"
    }
   },
   "outputs": [
    {
     "data": {
      "text/html": [
       "<div>\n",
       "<style scoped>\n",
       "    .dataframe tbody tr th:only-of-type {\n",
       "        vertical-align: middle;\n",
       "    }\n",
       "\n",
       "    .dataframe tbody tr th {\n",
       "        vertical-align: top;\n",
       "    }\n",
       "\n",
       "    .dataframe thead th {\n",
       "        text-align: right;\n",
       "    }\n",
       "</style>\n",
       "<table border=\"1\" class=\"dataframe\">\n",
       "  <thead>\n",
       "    <tr style=\"text-align: right;\">\n",
       "      <th></th>\n",
       "      <th>literal</th>\n",
       "      <th>roman</th>\n",
       "    </tr>\n",
       "  </thead>\n",
       "  <tbody>\n",
       "    <tr>\n",
       "      <th>0th</th>\n",
       "      <td>1</td>\n",
       "      <td>2</td>\n",
       "    </tr>\n",
       "    <tr>\n",
       "      <th>1st</th>\n",
       "      <td>1</td>\n",
       "      <td>2</td>\n",
       "    </tr>\n",
       "  </tbody>\n",
       "</table>\n",
       "</div>"
      ],
      "text/plain": [
       "     literal  roman\n",
       "0th        1      2\n",
       "1st        1      2"
      ]
     },
     "execution_count": 47,
     "metadata": {},
     "output_type": "execute_result"
    }
   ],
   "source": [
    "df.rename(index={0: '0th', 1: '1st', 2: '2nd', 3: '3rd', 4: '4th'}, \n",
    "          columns={'A': 'literal', 'B': 'roman'})"
   ]
  },
  {
   "cell_type": "code",
   "execution_count": null,
   "metadata": {},
   "outputs": [],
   "source": []
  }
 ],
 "metadata": {
  "celltoolbar": "Slideshow",
  "kernelspec": {
   "display_name": "Python 3 (ipykernel)",
   "language": "python",
   "name": "python3"
  },
  "language_info": {
   "codemirror_mode": {
    "name": "ipython",
    "version": 3
   },
   "file_extension": ".py",
   "mimetype": "text/x-python",
   "name": "python",
   "nbconvert_exporter": "python",
   "pygments_lexer": "ipython3",
   "version": "3.11.5"
  }
 },
 "nbformat": 4,
 "nbformat_minor": 4
}
